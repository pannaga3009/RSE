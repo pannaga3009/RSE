{
 "cells": [
  {
   "cell_type": "code",
   "execution_count": 56,
   "metadata": {},
   "outputs": [],
   "source": [
    "import pandas as pd"
   ]
  },
  {
   "cell_type": "markdown",
   "metadata": {},
   "source": [
    "### Train Dataset"
   ]
  },
  {
   "cell_type": "code",
   "execution_count": 58,
   "metadata": {},
   "outputs": [],
   "source": [
    "ds = pd.read_csv(\"data/train/small.csv\")"
   ]
  },
  {
   "cell_type": "code",
   "execution_count": 60,
   "metadata": {},
   "outputs": [
    {
     "data": {
      "text/html": [
       "<div>\n",
       "<style scoped>\n",
       "    .dataframe tbody tr th:only-of-type {\n",
       "        vertical-align: middle;\n",
       "    }\n",
       "\n",
       "    .dataframe tbody tr th {\n",
       "        vertical-align: top;\n",
       "    }\n",
       "\n",
       "    .dataframe thead th {\n",
       "        text-align: right;\n",
       "    }\n",
       "</style>\n",
       "<table border=\"1\" class=\"dataframe\">\n",
       "  <thead>\n",
       "    <tr style=\"text-align: right;\">\n",
       "      <th></th>\n",
       "      <th>_id</th>\n",
       "      <th>business_id</th>\n",
       "      <th>review_id</th>\n",
       "      <th>stars</th>\n",
       "      <th>text</th>\n",
       "      <th>useful</th>\n",
       "    </tr>\n",
       "  </thead>\n",
       "  <tbody>\n",
       "    <tr>\n",
       "      <th>0</th>\n",
       "      <td>5ad77a48d209ba1dce460064</td>\n",
       "      <td>eLFfWcdb7VkqNyTONksHiQ</td>\n",
       "      <td>7ECYfYWSx5_SEIYsDiCZ1A</td>\n",
       "      <td>5</td>\n",
       "      <td>Great all you can eat Korean BBQ. Very clean, ...</td>\n",
       "      <td>1</td>\n",
       "    </tr>\n",
       "    <tr>\n",
       "      <th>1</th>\n",
       "      <td>5ad77a94d209ba1dce5c7096</td>\n",
       "      <td>Yp9w4nhUowBU_IS_StFXbQ</td>\n",
       "      <td>uBkU8wLvQCCCL0TZ8ESLaw</td>\n",
       "      <td>5</td>\n",
       "      <td>This place is sort of hidden.  It's behind the...</td>\n",
       "      <td>1</td>\n",
       "    </tr>\n",
       "    <tr>\n",
       "      <th>2</th>\n",
       "      <td>5ad77b87d209ba1dce91f888</td>\n",
       "      <td>5md4i4diIWMNYQgHMj_Nbg</td>\n",
       "      <td>4xlVPqc8nuEWeIQYCL0FEA</td>\n",
       "      <td>5</td>\n",
       "      <td>The hoover dam kayaking tour was great. No pro...</td>\n",
       "      <td>0</td>\n",
       "    </tr>\n",
       "    <tr>\n",
       "      <th>3</th>\n",
       "      <td>5ad77aead209ba1dce6dccd7</td>\n",
       "      <td>XBEx2FI2GKmsjs7eWNr7Lw</td>\n",
       "      <td>CyaJqWU8bmaEPLWgxekAOg</td>\n",
       "      <td>5</td>\n",
       "      <td>Awesome acai bowls. As a cheesecake lover, I w...</td>\n",
       "      <td>1</td>\n",
       "    </tr>\n",
       "  </tbody>\n",
       "</table>\n",
       "</div>"
      ],
      "text/plain": [
       "                        _id             business_id               review_id  \\\n",
       "0  5ad77a48d209ba1dce460064  eLFfWcdb7VkqNyTONksHiQ  7ECYfYWSx5_SEIYsDiCZ1A   \n",
       "1  5ad77a94d209ba1dce5c7096  Yp9w4nhUowBU_IS_StFXbQ  uBkU8wLvQCCCL0TZ8ESLaw   \n",
       "2  5ad77b87d209ba1dce91f888  5md4i4diIWMNYQgHMj_Nbg  4xlVPqc8nuEWeIQYCL0FEA   \n",
       "3  5ad77aead209ba1dce6dccd7  XBEx2FI2GKmsjs7eWNr7Lw  CyaJqWU8bmaEPLWgxekAOg   \n",
       "\n",
       "   stars                                               text  useful  \n",
       "0      5  Great all you can eat Korean BBQ. Very clean, ...       1  \n",
       "1      5  This place is sort of hidden.  It's behind the...       1  \n",
       "2      5  The hoover dam kayaking tour was great. No pro...       0  \n",
       "3      5  Awesome acai bowls. As a cheesecake lover, I w...       1  "
      ]
     },
     "execution_count": 60,
     "metadata": {},
     "output_type": "execute_result"
    }
   ],
   "source": [
    "ds.head(4)"
   ]
  },
  {
   "cell_type": "markdown",
   "metadata": {},
   "source": [
    "### Test Dataset"
   ]
  },
  {
   "cell_type": "code",
   "execution_count": 59,
   "metadata": {},
   "outputs": [],
   "source": [
    "TEST_FILE = 'data/test/10.json'"
   ]
  },
  {
   "cell_type": "code",
   "execution_count": 49,
   "metadata": {},
   "outputs": [],
   "source": [
    "import json\n",
    "with open(TEST_FILE,'r') as json_file:    \n",
    "    data = json.load(json_file)"
   ]
  },
  {
   "cell_type": "code",
   "execution_count": 69,
   "metadata": {},
   "outputs": [
    {
     "name": "stdout",
     "output_type": "stream",
     "text": [
      "-----------------------------------------------------\n",
      "This is one of my top 3 places to get BBQ pork (char siu). It is not the cheapest option, but you get what you pay for. My other go tos include Kum Hong BBQ and Skyview Fusion restaurant.\n",
      "('Rating: ', 4)\n",
      "-----------------------------------------------------\n",
      "This restaurant is famous for their BBQ dishes and they are actually very good. It also has a variety of other non-BBQ dishes. Compare to other places that sell BBQ dishes, this restaurant is a bit pricey but their dishes are pretty good.\n",
      "('Rating: ', 3)\n",
      "-----------------------------------------------------\n",
      "Roasted pork is one of my favorite things... And we pay a premium for the meat around the ribs and the belly area because of the wonderful marbling...  beautiful layer after layer of alternating meat and fat.  My wife bought some from John's today... paid a premium for this \"cut\" and when I opened up the box it was all meaty pieces without marbling... Very disappointed.  The flavour was decent but not the cut we paid for.  Probably best to keep going to the BBQ place at Valleymede and HWY 7 (north side) in the plaza with McDees.\n",
      "('Rating: ', 2)\n"
     ]
    }
   ],
   "source": [
    "count = 0 \n",
    "for review in data[\"yelp\"][0][\"reviews\"]:\n",
    "    print(\"-----------------------------------------------------\")\n",
    "    print(review[\"text\"])\n",
    "    print(\"Rating: \",review[\"ratings\"])\n",
    "    count += 1\n",
    "    if count == 3:\n",
    "        break"
   ]
  },
  {
   "cell_type": "markdown",
   "metadata": {},
   "source": [
    "### Other Variations of Train Set in size"
   ]
  },
  {
   "cell_type": "code",
   "execution_count": 72,
   "metadata": {},
   "outputs": [
    {
     "data": {
      "text/plain": [
       "(50000, 6)"
      ]
     },
     "execution_count": 72,
     "metadata": {},
     "output_type": "execute_result"
    }
   ],
   "source": [
    "d = pd.read_csv(\"data/train/50K.csv\")\n",
    "d.shape"
   ]
  },
  {
   "cell_type": "code",
   "execution_count": 73,
   "metadata": {},
   "outputs": [
    {
     "data": {
      "text/plain": [
       "(10000, 6)"
      ]
     },
     "execution_count": 73,
     "metadata": {},
     "output_type": "execute_result"
    }
   ],
   "source": [
    "d = pd.read_csv(\"data/train/10K.csv\")\n",
    "d.shape"
   ]
  },
  {
   "cell_type": "code",
   "execution_count": 74,
   "metadata": {},
   "outputs": [],
   "source": [
    "d[\"indicator\"] = d[\"useful\"]  * d[\"stars\"]"
   ]
  },
  {
   "cell_type": "code",
   "execution_count": 75,
   "metadata": {},
   "outputs": [
    {
     "data": {
      "text/html": [
       "<div>\n",
       "<style scoped>\n",
       "    .dataframe tbody tr th:only-of-type {\n",
       "        vertical-align: middle;\n",
       "    }\n",
       "\n",
       "    .dataframe tbody tr th {\n",
       "        vertical-align: top;\n",
       "    }\n",
       "\n",
       "    .dataframe thead th {\n",
       "        text-align: right;\n",
       "    }\n",
       "</style>\n",
       "<table border=\"1\" class=\"dataframe\">\n",
       "  <thead>\n",
       "    <tr style=\"text-align: right;\">\n",
       "      <th></th>\n",
       "      <th>_id</th>\n",
       "      <th>business_id</th>\n",
       "      <th>review_id</th>\n",
       "      <th>stars</th>\n",
       "      <th>text</th>\n",
       "      <th>useful</th>\n",
       "      <th>indicator</th>\n",
       "    </tr>\n",
       "  </thead>\n",
       "  <tbody>\n",
       "    <tr>\n",
       "      <th>0</th>\n",
       "      <td>5ad77a66d209ba1dce5030b2</td>\n",
       "      <td>kcF-en40P3J9L8nLy5lKqQ</td>\n",
       "      <td>XJEz7zcJzwMWyoAv22hIvQ</td>\n",
       "      <td>5</td>\n",
       "      <td>Everything about Central Bistro was fantastic!...</td>\n",
       "      <td>3</td>\n",
       "      <td>15</td>\n",
       "    </tr>\n",
       "    <tr>\n",
       "      <th>1</th>\n",
       "      <td>5ad77b05d209ba1dce748580</td>\n",
       "      <td>ZibmYdOPKLlqDM9oR6xzOA</td>\n",
       "      <td>RX_u02e8FSaGeV2CEP5B9g</td>\n",
       "      <td>4</td>\n",
       "      <td>Went before 6pm, before the dinner crowd and h...</td>\n",
       "      <td>0</td>\n",
       "      <td>0</td>\n",
       "    </tr>\n",
       "    <tr>\n",
       "      <th>2</th>\n",
       "      <td>5ad77b1fd209ba1dce7a37dd</td>\n",
       "      <td>LXrSnbUlEnw_fI7A2Dpp9Q</td>\n",
       "      <td>Jc3j0FGT_KWXhA_UWgj9eg</td>\n",
       "      <td>4</td>\n",
       "      <td>I shop at Nordstrom somewhat regularly.\\n\\nA b...</td>\n",
       "      <td>12</td>\n",
       "      <td>48</td>\n",
       "    </tr>\n",
       "    <tr>\n",
       "      <th>3</th>\n",
       "      <td>5ad77ac3d209ba1dce66dbde</td>\n",
       "      <td>66jwLkSd6M0cZulZrA3zcw</td>\n",
       "      <td>EMIWAZ_WKD-_d4VQOEQRQg</td>\n",
       "      <td>5</td>\n",
       "      <td>Came for dinner, it happened to be late night ...</td>\n",
       "      <td>0</td>\n",
       "      <td>0</td>\n",
       "    </tr>\n",
       "    <tr>\n",
       "      <th>4</th>\n",
       "      <td>5ad77abfd209ba1dce65da1c</td>\n",
       "      <td>hhLKp8ilQac7M5UTTpnPnQ</td>\n",
       "      <td>V6KzjQzd38q_1i3Ghpurzw</td>\n",
       "      <td>5</td>\n",
       "      <td>I am VERY particular about getting my nails do...</td>\n",
       "      <td>5</td>\n",
       "      <td>25</td>\n",
       "    </tr>\n",
       "  </tbody>\n",
       "</table>\n",
       "</div>"
      ],
      "text/plain": [
       "                        _id             business_id               review_id  \\\n",
       "0  5ad77a66d209ba1dce5030b2  kcF-en40P3J9L8nLy5lKqQ  XJEz7zcJzwMWyoAv22hIvQ   \n",
       "1  5ad77b05d209ba1dce748580  ZibmYdOPKLlqDM9oR6xzOA  RX_u02e8FSaGeV2CEP5B9g   \n",
       "2  5ad77b1fd209ba1dce7a37dd  LXrSnbUlEnw_fI7A2Dpp9Q  Jc3j0FGT_KWXhA_UWgj9eg   \n",
       "3  5ad77ac3d209ba1dce66dbde  66jwLkSd6M0cZulZrA3zcw  EMIWAZ_WKD-_d4VQOEQRQg   \n",
       "4  5ad77abfd209ba1dce65da1c  hhLKp8ilQac7M5UTTpnPnQ  V6KzjQzd38q_1i3Ghpurzw   \n",
       "\n",
       "   stars                                               text  useful  indicator  \n",
       "0      5  Everything about Central Bistro was fantastic!...       3         15  \n",
       "1      4  Went before 6pm, before the dinner crowd and h...       0          0  \n",
       "2      4  I shop at Nordstrom somewhat regularly.\\n\\nA b...      12         48  \n",
       "3      5  Came for dinner, it happened to be late night ...       0          0  \n",
       "4      5  I am VERY particular about getting my nails do...       5         25  "
      ]
     },
     "execution_count": 75,
     "metadata": {},
     "output_type": "execute_result"
    }
   ],
   "source": [
    "d.head()"
   ]
  },
  {
   "cell_type": "markdown",
   "metadata": {},
   "source": [
    "REMOVE STOPWORDS"
   ]
  },
  {
   "cell_type": "code",
   "execution_count": null,
   "metadata": {},
   "outputs": [],
   "source": [
    "from nltk.corpus import stopwords\n",
    "def clean_text(text, remove_stopwords = True):\n",
    "    \n",
    "    \n",
    "    # Convert words to lower case\n",
    "    text = text.lower()\n",
    "    \n",
    "# A Python library for expanding and creating common English contractions in text. \n",
    "#This is very useful for dimensionality reduction by normalizing the text before generating word or character vectors. \n",
    "#It performs contraction by simple replacement rules of the commonly used English contractions.\n",
    "#Replace contractions with their longer forms \n",
    "    if True:\n",
    "        text = text.split()\n",
    "        new_text = []\n",
    "        for word in text:\n",
    "            if word in contractions:\n",
    "                new_text.append(contractions[word])\n",
    "            else:\n",
    "                new_text.append(word)\n",
    "        text = \" \".join(new_text)\n",
    "      \n",
    "    \n",
    "    # Optionally, remove stop words\n",
    "    if remove_stopwords:\n",
    "        text = text.split()\n",
    "        stops = set(stopwords.words(\"english\"))\n",
    "        text = [w for w in text if not w in stops]\n",
    "        text = \" \".join(text)\n",
    "\n",
    "    return text"
   ]
  },
  {
   "cell_type": "code",
   "execution_count": null,
   "metadata": {},
   "outputs": [],
   "source": []
  }
 ],
 "metadata": {
  "kernelspec": {
   "display_name": "Python 3",
   "language": "python",
   "name": "python3"
  },
  "language_info": {
   "codemirror_mode": {
    "name": "ipython",
    "version": 3
   },
   "file_extension": ".py",
   "mimetype": "text/x-python",
   "name": "python",
   "nbconvert_exporter": "python",
   "pygments_lexer": "ipython3",
   "version": "3.6.4"
  }
 },
 "nbformat": 4,
 "nbformat_minor": 2
}
