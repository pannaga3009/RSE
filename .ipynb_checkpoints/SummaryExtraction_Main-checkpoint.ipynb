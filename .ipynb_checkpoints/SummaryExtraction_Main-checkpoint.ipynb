{
 "cells": [
  {
   "cell_type": "code",
   "execution_count": 1,
   "metadata": {},
   "outputs": [
    {
     "name": "stderr",
     "output_type": "stream",
     "text": [
      "/usr/local/lib/python2.7/dist-packages/matplotlib/__init__.py:1067: UserWarning: Duplicate key in file \"/home/ubuntu/.config/matplotlib/matplotlibrc\", line #2\n",
      "  (fname, cnt))\n",
      "/usr/local/lib/python2.7/dist-packages/matplotlib/__init__.py:1067: UserWarning: Duplicate key in file \"/home/ubuntu/.config/matplotlib/matplotlibrc\", line #3\n",
      "  (fname, cnt))\n"
     ]
    }
   ],
   "source": [
    "import pickle\n",
    "import numpy as np\n",
    "import pandas as pd\n",
    "from sklearn.feature_extraction.text import CountVectorizer\n",
    "from sklearn.naive_bayes import BernoulliNB\n",
    "from sklearn.linear_model import LogisticRegression\n",
    "from sklearn.neural_network import MLPClassifier"
   ]
  },
  {
   "cell_type": "code",
   "execution_count": 2,
   "metadata": {},
   "outputs": [],
   "source": [
    "from sklearn.externals import joblib"
   ]
  },
  {
   "cell_type": "code",
   "execution_count": 3,
   "metadata": {},
   "outputs": [
    {
     "name": "stdout",
     "output_type": "stream",
     "text": [
      "total 131M\r\n",
      "-rw-rw-r-- 1 ubuntu ubuntu  19M May  7 01:05 Vectorizer.sav\r\n",
      "-rw-rw-r-- 1 ubuntu ubuntu 2.6M May  7 01:41 Logistic-Regression.model\r\n",
      "-rw-rw-r-- 1 ubuntu ubuntu  13M May  7 02:06 Neural_network.model\r\n",
      "-rw-rw-r-- 1 ubuntu ubuntu  12M May  7 02:08 BernoulliNB.model\r\n",
      "-rw-rw-r-- 1 ubuntu ubuntu  19M May  7 02:51 61vectorizer-2GB-RSE.sav\r\n",
      "-rw-rw-r-- 1 ubuntu ubuntu  19M May  7 02:57 79vectorizer-2GB-RSE.sav\r\n",
      "-rw-rw-r-- 1 ubuntu ubuntu  19M May  7 02:57 15vectorizer-2GB-RSE.sav\r\n",
      "-rw-rw-r-- 1 ubuntu ubuntu  19M May  7 03:07 58vectorizer-2GB-RSE.sav\r\n",
      "-rw-rw-r-- 1 ubuntu ubuntu  13M May  7 03:24 v.dat\r\n"
     ]
    }
   ],
   "source": [
    "!ls -lrth models/"
   ]
  },
  {
   "cell_type": "code",
   "execution_count": 4,
   "metadata": {},
   "outputs": [],
   "source": [
    "TEST_FILE = 'data/test/summaries.json'\n",
    "model_lr = 'models/Logistic-Regression.model'\n",
    "model_nn = 'models/Neural_network.model'\n",
    "model_BNB = 'models/BernoulliNB.model'\n",
    "vectorizer_file = 'models/58vectorizer-2GB-RSE.sav'"
   ]
  },
  {
   "cell_type": "code",
   "execution_count": 5,
   "metadata": {},
   "outputs": [],
   "source": [
    "# encoding=utf8  "
   ]
  },
  {
   "cell_type": "code",
   "execution_count": 6,
   "metadata": {},
   "outputs": [
    {
     "data": {
      "text/plain": [
       "'ascii'"
      ]
     },
     "execution_count": 6,
     "metadata": {},
     "output_type": "execute_result"
    }
   ],
   "source": [
    "import sys\n",
    "sys.getdefaultencoding()"
   ]
  },
  {
   "cell_type": "code",
   "execution_count": 7,
   "metadata": {},
   "outputs": [],
   "source": [
    "v =  joblib.load('models/v.dat')"
   ]
  },
  {
   "cell_type": "code",
   "execution_count": 8,
   "metadata": {},
   "outputs": [],
   "source": [
    "vectorizer = v"
   ]
  },
  {
   "cell_type": "code",
   "execution_count": null,
   "metadata": {},
   "outputs": [],
   "source": [
    "X_test_vec = vectorizer.transform(X_test)"
   ]
  },
  {
   "cell_type": "markdown",
   "metadata": {},
   "source": [
    "## Summary Extraction \n",
    "\n",
    "<h5> Algorithm </h5>\n",
    "\n",
    "  \n",
    "<pre>\n",
    "class Resturant:\n",
    "  name \n",
    "  id \n",
    "  reviews = []\n",
    "  pos  = 0\n",
    "  neg  = 0\n",
    "  overall_rating = pos / (pos + neg)\n",
    "  summary = lookup(overall_rating)\n",
    "  \n",
    "1. For Each Restaurant in Test Json\n",
    "    2. For each Reviews:\n",
    "       3. v = vectorizer.transform(review[i])\n",
    "       4. if clf.predict(v): \n",
    "            pos += 1\n",
    "          else:\n",
    "            neg += 1\n",
    "    6. overall_rating = pos/(pos+neg) \n",
    "    7. res.summary = lookup(overall_rating)\n",
    "</pre>"
   ]
  },
  {
   "cell_type": "code",
   "execution_count": null,
   "metadata": {},
   "outputs": [],
   "source": [
    "\n",
    "\n",
    "import json\n",
    "with open(TEST_FILE,'r') as json_file:    \n",
    "    data = json.load(json_file)\n",
    "\n",
    "count = 0 \n",
    "for review in data[\"yelp\"][0][\"reviews\"]:\n",
    "    print(\"-----------------------------------------------------\")\n",
    "    print(review[\"text\"])\n",
    "    print(\"Rating: \",review[\"ratings\"])\n",
    "    count += 1\n",
    "    if count == 3:\n",
    "        break"
   ]
  }
 ],
 "metadata": {
  "kernelspec": {
   "display_name": "Python 2",
   "language": "python",
   "name": "python2"
  },
  "language_info": {
   "codemirror_mode": {
    "name": "ipython",
    "version": 2
   },
   "file_extension": ".py",
   "mimetype": "text/x-python",
   "name": "python",
   "nbconvert_exporter": "python",
   "pygments_lexer": "ipython2",
   "version": "2.7.12"
  }
 },
 "nbformat": 4,
 "nbformat_minor": 2
}
