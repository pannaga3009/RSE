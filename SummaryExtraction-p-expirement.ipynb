{
 "cells": [
  {
   "cell_type": "code",
   "execution_count": 2,
   "metadata": {},
   "outputs": [],
   "source": [
    "import pandas as pd"
   ]
  },
  {
   "cell_type": "markdown",
   "metadata": {},
   "source": [
    "### Train Dataset"
   ]
  },
  {
   "cell_type": "code",
   "execution_count": 3,
   "metadata": {},
   "outputs": [],
   "source": [
    "ds = pd.read_csv(\"data/train/small.csv\")"
   ]
  },
  {
   "cell_type": "code",
   "execution_count": 4,
   "metadata": {},
   "outputs": [
    {
     "data": {
      "text/html": [
       "<div>\n",
       "<style scoped>\n",
       "    .dataframe tbody tr th:only-of-type {\n",
       "        vertical-align: middle;\n",
       "    }\n",
       "\n",
       "    .dataframe tbody tr th {\n",
       "        vertical-align: top;\n",
       "    }\n",
       "\n",
       "    .dataframe thead th {\n",
       "        text-align: right;\n",
       "    }\n",
       "</style>\n",
       "<table border=\"1\" class=\"dataframe\">\n",
       "  <thead>\n",
       "    <tr style=\"text-align: right;\">\n",
       "      <th></th>\n",
       "      <th>_id</th>\n",
       "      <th>business_id</th>\n",
       "      <th>review_id</th>\n",
       "      <th>stars</th>\n",
       "      <th>text</th>\n",
       "      <th>useful</th>\n",
       "    </tr>\n",
       "  </thead>\n",
       "  <tbody>\n",
       "    <tr>\n",
       "      <th>0</th>\n",
       "      <td>5ad77a48d209ba1dce460064</td>\n",
       "      <td>eLFfWcdb7VkqNyTONksHiQ</td>\n",
       "      <td>7ECYfYWSx5_SEIYsDiCZ1A</td>\n",
       "      <td>5</td>\n",
       "      <td>Great all you can eat Korean BBQ. Very clean, ...</td>\n",
       "      <td>1</td>\n",
       "    </tr>\n",
       "    <tr>\n",
       "      <th>1</th>\n",
       "      <td>5ad77a94d209ba1dce5c7096</td>\n",
       "      <td>Yp9w4nhUowBU_IS_StFXbQ</td>\n",
       "      <td>uBkU8wLvQCCCL0TZ8ESLaw</td>\n",
       "      <td>5</td>\n",
       "      <td>This place is sort of hidden.  It's behind the...</td>\n",
       "      <td>1</td>\n",
       "    </tr>\n",
       "    <tr>\n",
       "      <th>2</th>\n",
       "      <td>5ad77b87d209ba1dce91f888</td>\n",
       "      <td>5md4i4diIWMNYQgHMj_Nbg</td>\n",
       "      <td>4xlVPqc8nuEWeIQYCL0FEA</td>\n",
       "      <td>5</td>\n",
       "      <td>The hoover dam kayaking tour was great. No pro...</td>\n",
       "      <td>0</td>\n",
       "    </tr>\n",
       "    <tr>\n",
       "      <th>3</th>\n",
       "      <td>5ad77aead209ba1dce6dccd7</td>\n",
       "      <td>XBEx2FI2GKmsjs7eWNr7Lw</td>\n",
       "      <td>CyaJqWU8bmaEPLWgxekAOg</td>\n",
       "      <td>5</td>\n",
       "      <td>Awesome acai bowls. As a cheesecake lover, I w...</td>\n",
       "      <td>1</td>\n",
       "    </tr>\n",
       "  </tbody>\n",
       "</table>\n",
       "</div>"
      ],
      "text/plain": [
       "                        _id             business_id               review_id  \\\n",
       "0  5ad77a48d209ba1dce460064  eLFfWcdb7VkqNyTONksHiQ  7ECYfYWSx5_SEIYsDiCZ1A   \n",
       "1  5ad77a94d209ba1dce5c7096  Yp9w4nhUowBU_IS_StFXbQ  uBkU8wLvQCCCL0TZ8ESLaw   \n",
       "2  5ad77b87d209ba1dce91f888  5md4i4diIWMNYQgHMj_Nbg  4xlVPqc8nuEWeIQYCL0FEA   \n",
       "3  5ad77aead209ba1dce6dccd7  XBEx2FI2GKmsjs7eWNr7Lw  CyaJqWU8bmaEPLWgxekAOg   \n",
       "\n",
       "   stars                                               text  useful  \n",
       "0      5  Great all you can eat Korean BBQ. Very clean, ...       1  \n",
       "1      5  This place is sort of hidden.  It's behind the...       1  \n",
       "2      5  The hoover dam kayaking tour was great. No pro...       0  \n",
       "3      5  Awesome acai bowls. As a cheesecake lover, I w...       1  "
      ]
     },
     "execution_count": 4,
     "metadata": {},
     "output_type": "execute_result"
    }
   ],
   "source": [
    "ds.head(4)"
   ]
  },
  {
   "cell_type": "markdown",
   "metadata": {},
   "source": [
    "### Test Dataset"
   ]
  },
  {
   "cell_type": "code",
   "execution_count": 5,
   "metadata": {},
   "outputs": [],
   "source": [
    "TEST_FILE = 'data/test/10.json'"
   ]
  },
  {
   "cell_type": "code",
   "execution_count": 6,
   "metadata": {},
   "outputs": [],
   "source": [
    "import json\n",
    "with open(TEST_FILE,'r') as json_file:    \n",
    "    data = json.load(json_file)"
   ]
  },
  {
   "cell_type": "code",
   "execution_count": 7,
   "metadata": {},
   "outputs": [
    {
     "name": "stdout",
     "output_type": "stream",
     "text": [
      "-----------------------------------------------------\n",
      "This is one of my top 3 places to get BBQ pork (char siu). It is not the cheapest option, but you get what you pay for. My other go tos include Kum Hong BBQ and Skyview Fusion restaurant.\n",
      "Rating:  4\n",
      "-----------------------------------------------------\n",
      "This restaurant is famous for their BBQ dishes and they are actually very good. It also has a variety of other non-BBQ dishes. Compare to other places that sell BBQ dishes, this restaurant is a bit pricey but their dishes are pretty good.\n",
      "Rating:  3\n",
      "-----------------------------------------------------\n",
      "Roasted pork is one of my favorite things... And we pay a premium for the meat around the ribs and the belly area because of the wonderful marbling...  beautiful layer after layer of alternating meat and fat.  My wife bought some from John's today... paid a premium for this \"cut\" and when I opened up the box it was all meaty pieces without marbling... Very disappointed.  The flavour was decent but not the cut we paid for.  Probably best to keep going to the BBQ place at Valleymede and HWY 7 (north side) in the plaza with McDees.\n",
      "Rating:  2\n"
     ]
    }
   ],
   "source": [
    "count = 0 \n",
    "for review in data[\"yelp\"][0][\"reviews\"]:\n",
    "    print(\"-----------------------------------------------------\")\n",
    "    print(review[\"text\"])\n",
    "    print(\"Rating: \",review[\"ratings\"])\n",
    "    count += 1\n",
    "    if count == 3:\n",
    "        break"
   ]
  },
  {
   "cell_type": "markdown",
   "metadata": {},
   "source": [
    "### Other Variations of Train Set in size"
   ]
  },
  {
   "cell_type": "code",
   "execution_count": 8,
   "metadata": {},
   "outputs": [
    {
     "data": {
      "text/plain": [
       "(50000, 6)"
      ]
     },
     "execution_count": 8,
     "metadata": {},
     "output_type": "execute_result"
    }
   ],
   "source": [
    "d = pd.read_csv(\"data/train/50K.csv\")\n",
    "d.shape"
   ]
  },
  {
   "cell_type": "code",
   "execution_count": 9,
   "metadata": {},
   "outputs": [
    {
     "data": {
      "text/plain": [
       "(10000, 6)"
      ]
     },
     "execution_count": 9,
     "metadata": {},
     "output_type": "execute_result"
    }
   ],
   "source": [
    "d = pd.read_csv(\"data/train/10K.csv\")\n",
    "d.shape"
   ]
  },
  {
   "cell_type": "code",
   "execution_count": 10,
   "metadata": {},
   "outputs": [],
   "source": [
    "d[\"indicator\"] = d[\"useful\"]  * d[\"stars\"]"
   ]
  },
  {
   "cell_type": "code",
   "execution_count": 11,
   "metadata": {},
   "outputs": [
    {
     "data": {
      "text/html": [
       "<div>\n",
       "<style scoped>\n",
       "    .dataframe tbody tr th:only-of-type {\n",
       "        vertical-align: middle;\n",
       "    }\n",
       "\n",
       "    .dataframe tbody tr th {\n",
       "        vertical-align: top;\n",
       "    }\n",
       "\n",
       "    .dataframe thead th {\n",
       "        text-align: right;\n",
       "    }\n",
       "</style>\n",
       "<table border=\"1\" class=\"dataframe\">\n",
       "  <thead>\n",
       "    <tr style=\"text-align: right;\">\n",
       "      <th></th>\n",
       "      <th>_id</th>\n",
       "      <th>business_id</th>\n",
       "      <th>review_id</th>\n",
       "      <th>stars</th>\n",
       "      <th>text</th>\n",
       "      <th>useful</th>\n",
       "      <th>indicator</th>\n",
       "    </tr>\n",
       "  </thead>\n",
       "  <tbody>\n",
       "    <tr>\n",
       "      <th>0</th>\n",
       "      <td>5ad77a66d209ba1dce5030b2</td>\n",
       "      <td>kcF-en40P3J9L8nLy5lKqQ</td>\n",
       "      <td>XJEz7zcJzwMWyoAv22hIvQ</td>\n",
       "      <td>5</td>\n",
       "      <td>Everything about Central Bistro was fantastic!...</td>\n",
       "      <td>3</td>\n",
       "      <td>15</td>\n",
       "    </tr>\n",
       "    <tr>\n",
       "      <th>1</th>\n",
       "      <td>5ad77b05d209ba1dce748580</td>\n",
       "      <td>ZibmYdOPKLlqDM9oR6xzOA</td>\n",
       "      <td>RX_u02e8FSaGeV2CEP5B9g</td>\n",
       "      <td>4</td>\n",
       "      <td>Went before 6pm, before the dinner crowd and h...</td>\n",
       "      <td>0</td>\n",
       "      <td>0</td>\n",
       "    </tr>\n",
       "    <tr>\n",
       "      <th>2</th>\n",
       "      <td>5ad77b1fd209ba1dce7a37dd</td>\n",
       "      <td>LXrSnbUlEnw_fI7A2Dpp9Q</td>\n",
       "      <td>Jc3j0FGT_KWXhA_UWgj9eg</td>\n",
       "      <td>4</td>\n",
       "      <td>I shop at Nordstrom somewhat regularly.\\n\\nA b...</td>\n",
       "      <td>12</td>\n",
       "      <td>48</td>\n",
       "    </tr>\n",
       "    <tr>\n",
       "      <th>3</th>\n",
       "      <td>5ad77ac3d209ba1dce66dbde</td>\n",
       "      <td>66jwLkSd6M0cZulZrA3zcw</td>\n",
       "      <td>EMIWAZ_WKD-_d4VQOEQRQg</td>\n",
       "      <td>5</td>\n",
       "      <td>Came for dinner, it happened to be late night ...</td>\n",
       "      <td>0</td>\n",
       "      <td>0</td>\n",
       "    </tr>\n",
       "    <tr>\n",
       "      <th>4</th>\n",
       "      <td>5ad77abfd209ba1dce65da1c</td>\n",
       "      <td>hhLKp8ilQac7M5UTTpnPnQ</td>\n",
       "      <td>V6KzjQzd38q_1i3Ghpurzw</td>\n",
       "      <td>5</td>\n",
       "      <td>I am VERY particular about getting my nails do...</td>\n",
       "      <td>5</td>\n",
       "      <td>25</td>\n",
       "    </tr>\n",
       "  </tbody>\n",
       "</table>\n",
       "</div>"
      ],
      "text/plain": [
       "                        _id             business_id               review_id  \\\n",
       "0  5ad77a66d209ba1dce5030b2  kcF-en40P3J9L8nLy5lKqQ  XJEz7zcJzwMWyoAv22hIvQ   \n",
       "1  5ad77b05d209ba1dce748580  ZibmYdOPKLlqDM9oR6xzOA  RX_u02e8FSaGeV2CEP5B9g   \n",
       "2  5ad77b1fd209ba1dce7a37dd  LXrSnbUlEnw_fI7A2Dpp9Q  Jc3j0FGT_KWXhA_UWgj9eg   \n",
       "3  5ad77ac3d209ba1dce66dbde  66jwLkSd6M0cZulZrA3zcw  EMIWAZ_WKD-_d4VQOEQRQg   \n",
       "4  5ad77abfd209ba1dce65da1c  hhLKp8ilQac7M5UTTpnPnQ  V6KzjQzd38q_1i3Ghpurzw   \n",
       "\n",
       "   stars                                               text  useful  indicator  \n",
       "0      5  Everything about Central Bistro was fantastic!...       3         15  \n",
       "1      4  Went before 6pm, before the dinner crowd and h...       0          0  \n",
       "2      4  I shop at Nordstrom somewhat regularly.\\n\\nA b...      12         48  \n",
       "3      5  Came for dinner, it happened to be late night ...       0          0  \n",
       "4      5  I am VERY particular about getting my nails do...       5         25  "
      ]
     },
     "execution_count": 11,
     "metadata": {},
     "output_type": "execute_result"
    }
   ],
   "source": [
    "d.head()"
   ]
  },
  {
   "cell_type": "markdown",
   "metadata": {},
   "source": [
    "REMOVE STOPWORDS"
   ]
  },
  {
   "cell_type": "code",
   "execution_count": 12,
   "metadata": {},
   "outputs": [
    {
     "ename": "ModuleNotFoundError",
     "evalue": "No module named 'nltk'",
     "output_type": "error",
     "traceback": [
      "\u001b[0;31m---------------------------------------------------------------------------\u001b[0m",
      "\u001b[0;31mModuleNotFoundError\u001b[0m                       Traceback (most recent call last)",
      "\u001b[0;32m<ipython-input-12-6398221662f8>\u001b[0m in \u001b[0;36m<module>\u001b[0;34m()\u001b[0m\n\u001b[0;32m----> 1\u001b[0;31m \u001b[0;32mfrom\u001b[0m \u001b[0mnltk\u001b[0m\u001b[0;34m.\u001b[0m\u001b[0mcorpus\u001b[0m \u001b[0;32mimport\u001b[0m \u001b[0mstopwords\u001b[0m\u001b[0;34m\u001b[0m\u001b[0m\n\u001b[0m\u001b[1;32m      2\u001b[0m \u001b[0;32mdef\u001b[0m \u001b[0mclean_text\u001b[0m\u001b[0;34m(\u001b[0m\u001b[0mtext\u001b[0m\u001b[0;34m,\u001b[0m \u001b[0mremove_stopwords\u001b[0m \u001b[0;34m=\u001b[0m \u001b[0;32mTrue\u001b[0m\u001b[0;34m)\u001b[0m\u001b[0;34m:\u001b[0m\u001b[0;34m\u001b[0m\u001b[0m\n\u001b[1;32m      3\u001b[0m \u001b[0;34m\u001b[0m\u001b[0m\n\u001b[1;32m      4\u001b[0m \u001b[0;34m\u001b[0m\u001b[0m\n\u001b[1;32m      5\u001b[0m     \u001b[0;31m# Convert words to lower case\u001b[0m\u001b[0;34m\u001b[0m\u001b[0;34m\u001b[0m\u001b[0m\n",
      "\u001b[0;31mModuleNotFoundError\u001b[0m: No module named 'nltk'"
     ]
    }
   ],
   "source": [
    "from nltk.corpus import stopwords\n",
    "def clean_text(text, remove_stopwords = True):\n",
    "    \n",
    "    \n",
    "    # Convert words to lower case\n",
    "    text = text.lower()\n",
    "    \n",
    "# A Python library for expanding and creating common English contractions in text. \n",
    "#This is very useful for dimensionality reduction by normalizing the text before generating word or character vectors. \n",
    "#It performs contraction by simple replacement rules of the commonly used English contractions.\n",
    "#Replace contractions with their longer forms \n",
    "    \n",
    "    \n",
    "    # Optionally, remove stop words\n",
    "    if remove_stopwords:\n",
    "        text = text.split()\n",
    "        stops = set(stopwords.words(\"english\"))\n",
    "        text = [w for w in text if not w in stops]\n",
    "        text = \" \".join(text)\n",
    "\n",
    "    return text"
   ]
  },
  {
   "cell_type": "code",
   "execution_count": 13,
   "metadata": {},
   "outputs": [
    {
     "data": {
      "text/plain": [
       "'love place'"
      ]
     },
     "execution_count": 13,
     "metadata": {},
     "output_type": "execute_result"
    }
   ],
   "source": [
    "clean_text(\"I love this place\")\n",
    "    "
   ]
  },
  {
   "cell_type": "markdown",
   "metadata": {},
   "source": [
    "### Section 2 : Cleaning the Data\n",
    "Pre-requirements\n",
    "\n",
    "<p> Initiate the command <span style=\"color:red\"> pip install TextBlob </span> from the terminal </p>\n",
    "- http://textblob.readthedocs.io/en/dev/\n",
    "\n",
    "<pre>\n",
    "**********************************************************************\n",
    "  Resource punkt not found.\n",
    "  Please use the NLTK Downloader to obtain the resource:\n",
    "\n",
    "  >>> import nltk\n",
    "  >>> nltk.download('punkt')\n",
    "**********************************************************************\n",
    "</pre>"
   ]
  },
  {
   "cell_type": "code",
   "execution_count": 38,
   "metadata": {},
   "outputs": [
    {
     "name": "stdout",
     "output_type": "stream",
     "text": [
      "[nltk_data] Downloading package averaged_perceptron_tagger to\n",
      "[nltk_data]     /Users/pannaga/nltk_data...\n",
      "[nltk_data]   Package averaged_perceptron_tagger is already up-to-\n",
      "[nltk_data]       date!\n",
      "[nltk_data] Downloading package brown to /Users/pannaga/nltk_data...\n",
      "[nltk_data]   Package brown is already up-to-date!\n"
     ]
    },
    {
     "data": {
      "text/plain": [
       "True"
      ]
     },
     "execution_count": 38,
     "metadata": {},
     "output_type": "execute_result"
    }
   ],
   "source": [
    "from textblob import TextBlob\n",
    "import nltk\n",
    "nltk.download('averaged_perceptron_tagger')\n",
    "nltk.download('brown')"
   ]
  },
  {
   "cell_type": "code",
   "execution_count": 39,
   "metadata": {},
   "outputs": [
    {
     "data": {
      "text/html": [
       "<div>\n",
       "<style scoped>\n",
       "    .dataframe tbody tr th:only-of-type {\n",
       "        vertical-align: middle;\n",
       "    }\n",
       "\n",
       "    .dataframe tbody tr th {\n",
       "        vertical-align: top;\n",
       "    }\n",
       "\n",
       "    .dataframe thead th {\n",
       "        text-align: right;\n",
       "    }\n",
       "</style>\n",
       "<table border=\"1\" class=\"dataframe\">\n",
       "  <thead>\n",
       "    <tr style=\"text-align: right;\">\n",
       "      <th></th>\n",
       "      <th>_id</th>\n",
       "      <th>business_id</th>\n",
       "      <th>review_id</th>\n",
       "      <th>stars</th>\n",
       "      <th>text</th>\n",
       "      <th>useful</th>\n",
       "    </tr>\n",
       "  </thead>\n",
       "  <tbody>\n",
       "    <tr>\n",
       "      <th>0</th>\n",
       "      <td>5ad77a48d209ba1dce460064</td>\n",
       "      <td>eLFfWcdb7VkqNyTONksHiQ</td>\n",
       "      <td>7ECYfYWSx5_SEIYsDiCZ1A</td>\n",
       "      <td>5</td>\n",
       "      <td>Great all you can eat Korean BBQ. Very clean, ...</td>\n",
       "      <td>1</td>\n",
       "    </tr>\n",
       "    <tr>\n",
       "      <th>1</th>\n",
       "      <td>5ad77a94d209ba1dce5c7096</td>\n",
       "      <td>Yp9w4nhUowBU_IS_StFXbQ</td>\n",
       "      <td>uBkU8wLvQCCCL0TZ8ESLaw</td>\n",
       "      <td>5</td>\n",
       "      <td>This place is sort of hidden.  It's behind the...</td>\n",
       "      <td>1</td>\n",
       "    </tr>\n",
       "    <tr>\n",
       "      <th>2</th>\n",
       "      <td>5ad77b87d209ba1dce91f888</td>\n",
       "      <td>5md4i4diIWMNYQgHMj_Nbg</td>\n",
       "      <td>4xlVPqc8nuEWeIQYCL0FEA</td>\n",
       "      <td>5</td>\n",
       "      <td>The hoover dam kayaking tour was great. No pro...</td>\n",
       "      <td>0</td>\n",
       "    </tr>\n",
       "    <tr>\n",
       "      <th>3</th>\n",
       "      <td>5ad77aead209ba1dce6dccd7</td>\n",
       "      <td>XBEx2FI2GKmsjs7eWNr7Lw</td>\n",
       "      <td>CyaJqWU8bmaEPLWgxekAOg</td>\n",
       "      <td>5</td>\n",
       "      <td>Awesome acai bowls. As a cheesecake lover, I w...</td>\n",
       "      <td>1</td>\n",
       "    </tr>\n",
       "  </tbody>\n",
       "</table>\n",
       "</div>"
      ],
      "text/plain": [
       "                        _id             business_id               review_id  \\\n",
       "0  5ad77a48d209ba1dce460064  eLFfWcdb7VkqNyTONksHiQ  7ECYfYWSx5_SEIYsDiCZ1A   \n",
       "1  5ad77a94d209ba1dce5c7096  Yp9w4nhUowBU_IS_StFXbQ  uBkU8wLvQCCCL0TZ8ESLaw   \n",
       "2  5ad77b87d209ba1dce91f888  5md4i4diIWMNYQgHMj_Nbg  4xlVPqc8nuEWeIQYCL0FEA   \n",
       "3  5ad77aead209ba1dce6dccd7  XBEx2FI2GKmsjs7eWNr7Lw  CyaJqWU8bmaEPLWgxekAOg   \n",
       "\n",
       "   stars                                               text  useful  \n",
       "0      5  Great all you can eat Korean BBQ. Very clean, ...       1  \n",
       "1      5  This place is sort of hidden.  It's behind the...       1  \n",
       "2      5  The hoover dam kayaking tour was great. No pro...       0  \n",
       "3      5  Awesome acai bowls. As a cheesecake lover, I w...       1  "
      ]
     },
     "execution_count": 39,
     "metadata": {},
     "output_type": "execute_result"
    }
   ],
   "source": [
    "ds.head(4)"
   ]
  },
  {
   "cell_type": "code",
   "execution_count": 41,
   "metadata": {},
   "outputs": [],
   "source": [
    "ds[\"popularity\"]= ds[\"stars\"]*ds[\"useful\"]+1\n"
   ]
  },
  {
   "cell_type": "code",
   "execution_count": 42,
   "metadata": {},
   "outputs": [
    {
     "data": {
      "text/html": [
       "<div>\n",
       "<style scoped>\n",
       "    .dataframe tbody tr th:only-of-type {\n",
       "        vertical-align: middle;\n",
       "    }\n",
       "\n",
       "    .dataframe tbody tr th {\n",
       "        vertical-align: top;\n",
       "    }\n",
       "\n",
       "    .dataframe thead th {\n",
       "        text-align: right;\n",
       "    }\n",
       "</style>\n",
       "<table border=\"1\" class=\"dataframe\">\n",
       "  <thead>\n",
       "    <tr style=\"text-align: right;\">\n",
       "      <th></th>\n",
       "      <th>_id</th>\n",
       "      <th>business_id</th>\n",
       "      <th>review_id</th>\n",
       "      <th>stars</th>\n",
       "      <th>text</th>\n",
       "      <th>useful</th>\n",
       "      <th>popularity</th>\n",
       "    </tr>\n",
       "  </thead>\n",
       "  <tbody>\n",
       "    <tr>\n",
       "      <th>0</th>\n",
       "      <td>5ad77a48d209ba1dce460064</td>\n",
       "      <td>eLFfWcdb7VkqNyTONksHiQ</td>\n",
       "      <td>7ECYfYWSx5_SEIYsDiCZ1A</td>\n",
       "      <td>5</td>\n",
       "      <td>Great all you can eat Korean BBQ. Very clean, ...</td>\n",
       "      <td>1</td>\n",
       "      <td>6</td>\n",
       "    </tr>\n",
       "    <tr>\n",
       "      <th>1</th>\n",
       "      <td>5ad77a94d209ba1dce5c7096</td>\n",
       "      <td>Yp9w4nhUowBU_IS_StFXbQ</td>\n",
       "      <td>uBkU8wLvQCCCL0TZ8ESLaw</td>\n",
       "      <td>5</td>\n",
       "      <td>This place is sort of hidden.  It's behind the...</td>\n",
       "      <td>1</td>\n",
       "      <td>6</td>\n",
       "    </tr>\n",
       "    <tr>\n",
       "      <th>2</th>\n",
       "      <td>5ad77b87d209ba1dce91f888</td>\n",
       "      <td>5md4i4diIWMNYQgHMj_Nbg</td>\n",
       "      <td>4xlVPqc8nuEWeIQYCL0FEA</td>\n",
       "      <td>5</td>\n",
       "      <td>The hoover dam kayaking tour was great. No pro...</td>\n",
       "      <td>0</td>\n",
       "      <td>1</td>\n",
       "    </tr>\n",
       "    <tr>\n",
       "      <th>3</th>\n",
       "      <td>5ad77aead209ba1dce6dccd7</td>\n",
       "      <td>XBEx2FI2GKmsjs7eWNr7Lw</td>\n",
       "      <td>CyaJqWU8bmaEPLWgxekAOg</td>\n",
       "      <td>5</td>\n",
       "      <td>Awesome acai bowls. As a cheesecake lover, I w...</td>\n",
       "      <td>1</td>\n",
       "      <td>6</td>\n",
       "    </tr>\n",
       "    <tr>\n",
       "      <th>4</th>\n",
       "      <td>5ad77b49d209ba1dce83bff8</td>\n",
       "      <td>4JNXUYY8wbaaDmk3BPzlWw</td>\n",
       "      <td>34oG__K5A98aSVpUqMGMzQ</td>\n",
       "      <td>2</td>\n",
       "      <td>I love this place. i really do. the food is pr...</td>\n",
       "      <td>2</td>\n",
       "      <td>5</td>\n",
       "    </tr>\n",
       "  </tbody>\n",
       "</table>\n",
       "</div>"
      ],
      "text/plain": [
       "                        _id             business_id               review_id  \\\n",
       "0  5ad77a48d209ba1dce460064  eLFfWcdb7VkqNyTONksHiQ  7ECYfYWSx5_SEIYsDiCZ1A   \n",
       "1  5ad77a94d209ba1dce5c7096  Yp9w4nhUowBU_IS_StFXbQ  uBkU8wLvQCCCL0TZ8ESLaw   \n",
       "2  5ad77b87d209ba1dce91f888  5md4i4diIWMNYQgHMj_Nbg  4xlVPqc8nuEWeIQYCL0FEA   \n",
       "3  5ad77aead209ba1dce6dccd7  XBEx2FI2GKmsjs7eWNr7Lw  CyaJqWU8bmaEPLWgxekAOg   \n",
       "4  5ad77b49d209ba1dce83bff8  4JNXUYY8wbaaDmk3BPzlWw  34oG__K5A98aSVpUqMGMzQ   \n",
       "\n",
       "   stars                                               text  useful  \\\n",
       "0      5  Great all you can eat Korean BBQ. Very clean, ...       1   \n",
       "1      5  This place is sort of hidden.  It's behind the...       1   \n",
       "2      5  The hoover dam kayaking tour was great. No pro...       0   \n",
       "3      5  Awesome acai bowls. As a cheesecake lover, I w...       1   \n",
       "4      2  I love this place. i really do. the food is pr...       2   \n",
       "\n",
       "   popularity  \n",
       "0           6  \n",
       "1           6  \n",
       "2           1  \n",
       "3           6  \n",
       "4           5  "
      ]
     },
     "execution_count": 42,
     "metadata": {},
     "output_type": "execute_result"
    }
   ],
   "source": [
    "ds.head(5)"
   ]
  },
  {
   "cell_type": "markdown",
   "metadata": {},
   "source": [
    "First three review text"
   ]
  },
  {
   "cell_type": "code",
   "execution_count": 16,
   "metadata": {},
   "outputs": [
    {
     "data": {
      "text/html": [
       "<div>\n",
       "<style scoped>\n",
       "    .dataframe tbody tr th:only-of-type {\n",
       "        vertical-align: middle;\n",
       "    }\n",
       "\n",
       "    .dataframe tbody tr th {\n",
       "        vertical-align: top;\n",
       "    }\n",
       "\n",
       "    .dataframe thead th {\n",
       "        text-align: right;\n",
       "    }\n",
       "</style>\n",
       "<table border=\"1\" class=\"dataframe\">\n",
       "  <thead>\n",
       "    <tr style=\"text-align: right;\">\n",
       "      <th></th>\n",
       "      <th>_id</th>\n",
       "      <th>business_id</th>\n",
       "      <th>review_id</th>\n",
       "      <th>stars</th>\n",
       "      <th>text</th>\n",
       "      <th>useful</th>\n",
       "    </tr>\n",
       "  </thead>\n",
       "  <tbody>\n",
       "    <tr>\n",
       "      <th>0</th>\n",
       "      <td>5ad77a48d209ba1dce460064</td>\n",
       "      <td>eLFfWcdb7VkqNyTONksHiQ</td>\n",
       "      <td>7ECYfYWSx5_SEIYsDiCZ1A</td>\n",
       "      <td>5</td>\n",
       "      <td>Great all you can eat Korean BBQ. Very clean, ...</td>\n",
       "      <td>1</td>\n",
       "    </tr>\n",
       "    <tr>\n",
       "      <th>1</th>\n",
       "      <td>5ad77a94d209ba1dce5c7096</td>\n",
       "      <td>Yp9w4nhUowBU_IS_StFXbQ</td>\n",
       "      <td>uBkU8wLvQCCCL0TZ8ESLaw</td>\n",
       "      <td>5</td>\n",
       "      <td>This place is sort of hidden.  It's behind the...</td>\n",
       "      <td>1</td>\n",
       "    </tr>\n",
       "    <tr>\n",
       "      <th>2</th>\n",
       "      <td>5ad77b87d209ba1dce91f888</td>\n",
       "      <td>5md4i4diIWMNYQgHMj_Nbg</td>\n",
       "      <td>4xlVPqc8nuEWeIQYCL0FEA</td>\n",
       "      <td>5</td>\n",
       "      <td>The hoover dam kayaking tour was great. No pro...</td>\n",
       "      <td>0</td>\n",
       "    </tr>\n",
       "    <tr>\n",
       "      <th>3</th>\n",
       "      <td>5ad77aead209ba1dce6dccd7</td>\n",
       "      <td>XBEx2FI2GKmsjs7eWNr7Lw</td>\n",
       "      <td>CyaJqWU8bmaEPLWgxekAOg</td>\n",
       "      <td>5</td>\n",
       "      <td>Awesome acai bowls. As a cheesecake lover, I w...</td>\n",
       "      <td>1</td>\n",
       "    </tr>\n",
       "    <tr>\n",
       "      <th>7</th>\n",
       "      <td>5ad77a85d209ba1dce5848b4</td>\n",
       "      <td>roK6f1bMuKG3XC-r01Oo5w</td>\n",
       "      <td>IqVR2uIirQNGStQzjCFuuQ</td>\n",
       "      <td>5</td>\n",
       "      <td>CLYC!....Love spending time here. Always a gre...</td>\n",
       "      <td>0</td>\n",
       "    </tr>\n",
       "    <tr>\n",
       "      <th>8</th>\n",
       "      <td>5ad77b43d209ba1dce8280df</td>\n",
       "      <td>D4KQSY_8qsx6n-ANwPfFuQ</td>\n",
       "      <td>LrHgcV8v8Mshx75DIc71ag</td>\n",
       "      <td>5</td>\n",
       "      <td>WOW is all I have to say about this place. I'v...</td>\n",
       "      <td>4</td>\n",
       "    </tr>\n",
       "    <tr>\n",
       "      <th>9</th>\n",
       "      <td>5ad77a2cd209ba1dce39efac</td>\n",
       "      <td>MmQsPiVSN08WtmlsC_ZSVA</td>\n",
       "      <td>hcNYz8UFZXltwr6s1TdY7g</td>\n",
       "      <td>3</td>\n",
       "      <td>It's OK.  I have been there a few times, but I...</td>\n",
       "      <td>4</td>\n",
       "    </tr>\n",
       "    <tr>\n",
       "      <th>10</th>\n",
       "      <td>5ad77accd209ba1dce68c679</td>\n",
       "      <td>zwNC-Ow4eIMan2__bS9-rg</td>\n",
       "      <td>QETWn4X3whTD0YB3XvcmzA</td>\n",
       "      <td>5</td>\n",
       "      <td>Taco Y Taco has my favorite al pastor tacos in...</td>\n",
       "      <td>0</td>\n",
       "    </tr>\n",
       "    <tr>\n",
       "      <th>11</th>\n",
       "      <td>5ad77a89d209ba1dce598e3f</td>\n",
       "      <td>jfUjzI1u_NgKkaA40upHXw</td>\n",
       "      <td>mzS2JjK0xC88hMlgyZG4dw</td>\n",
       "      <td>5</td>\n",
       "      <td>Friendly and comfortable staff. Winston always...</td>\n",
       "      <td>0</td>\n",
       "    </tr>\n",
       "    <tr>\n",
       "      <th>12</th>\n",
       "      <td>5ad77ba0d209ba1dce988b88</td>\n",
       "      <td>VxsLjIAut_VNpbaLYsIcFA</td>\n",
       "      <td>EHT513B5s_ew7cFC3JGmoA</td>\n",
       "      <td>4</td>\n",
       "      <td>If you're staying at the Cosmo you should take...</td>\n",
       "      <td>13</td>\n",
       "    </tr>\n",
       "    <tr>\n",
       "      <th>13</th>\n",
       "      <td>5ad77b95d209ba1dce9639c2</td>\n",
       "      <td>QPCPa-LasXaj61vHyVRf5Q</td>\n",
       "      <td>FgDBpwVDQlpwzYYVsZbuAQ</td>\n",
       "      <td>4</td>\n",
       "      <td>Same day surgery 9/13/16 for Green Light Laser...</td>\n",
       "      <td>2</td>\n",
       "    </tr>\n",
       "    <tr>\n",
       "      <th>14</th>\n",
       "      <td>5ad77badd209ba1dce9c841b</td>\n",
       "      <td>0cf-w9PK5gLkBkitL3bdqw</td>\n",
       "      <td>BJq3hjL2g-G7NJEk0ZnnjA</td>\n",
       "      <td>5</td>\n",
       "      <td>We LOVE this place.  Usually get the chicken b...</td>\n",
       "      <td>0</td>\n",
       "    </tr>\n",
       "    <tr>\n",
       "      <th>15</th>\n",
       "      <td>5ad77a88d209ba1dce594f48</td>\n",
       "      <td>So132GP_uy3XbGs0KNyzyw</td>\n",
       "      <td>VAhTsJKwPuFMgatHG6-lBQ</td>\n",
       "      <td>5</td>\n",
       "      <td>This is The Gargoyle's favorite Las Vegas off ...</td>\n",
       "      <td>0</td>\n",
       "    </tr>\n",
       "    <tr>\n",
       "      <th>16</th>\n",
       "      <td>5ad77a7bd209ba1dce5638e4</td>\n",
       "      <td>mIJO9f2A3gfj4ahAM0QBQw</td>\n",
       "      <td>S4R8n0GoKj2RWppbvIYMVQ</td>\n",
       "      <td>5</td>\n",
       "      <td>I work for an electrical company. We do electr...</td>\n",
       "      <td>0</td>\n",
       "    </tr>\n",
       "    <tr>\n",
       "      <th>17</th>\n",
       "      <td>5ad77ab7d209ba1dce63dcc4</td>\n",
       "      <td>eS29S_06lvsDW04wVrIVxg</td>\n",
       "      <td>uX7xm_pfBeVVHQmizhnFYQ</td>\n",
       "      <td>4</td>\n",
       "      <td>Barrio is on my short list when I'm visiting P...</td>\n",
       "      <td>1</td>\n",
       "    </tr>\n",
       "    <tr>\n",
       "      <th>18</th>\n",
       "      <td>5ad77ac9d209ba1dce67d93a</td>\n",
       "      <td>ab3-BhBFlkfvlUwg8w0-1g</td>\n",
       "      <td>DUVXlU6JY2WPtSz9GHrUbg</td>\n",
       "      <td>5</td>\n",
       "      <td>Brian did an awesome job on my Grand Cherokee....</td>\n",
       "      <td>2</td>\n",
       "    </tr>\n",
       "    <tr>\n",
       "      <th>19</th>\n",
       "      <td>5ad77a7dd209ba1dce56ebc9</td>\n",
       "      <td>0HTL9Budfc3jD9sqNUuq9w</td>\n",
       "      <td>r70_N7k4_9MjPNW2rQwrvA</td>\n",
       "      <td>5</td>\n",
       "      <td>When it comes to pools...you shouldn't come he...</td>\n",
       "      <td>2</td>\n",
       "    </tr>\n",
       "    <tr>\n",
       "      <th>23</th>\n",
       "      <td>5ad77a11d209ba1dce29470e</td>\n",
       "      <td>lWc6CdEyEpThhnKc-2Nbtg</td>\n",
       "      <td>HGX9NoyquP8SLem4WCTapw</td>\n",
       "      <td>4</td>\n",
       "      <td>Toasty Torpedo. $4 and I'm good for lunch. The...</td>\n",
       "      <td>0</td>\n",
       "    </tr>\n",
       "    <tr>\n",
       "      <th>24</th>\n",
       "      <td>5ad77a4dd209ba1dce46c1e6</td>\n",
       "      <td>W2bxzyiQouzBhPuzg95Vrw</td>\n",
       "      <td>l9DMnTHSWGyBAdLqEpL0sg</td>\n",
       "      <td>5</td>\n",
       "      <td>Total nail rehab. Nivea transformed a terrible...</td>\n",
       "      <td>1</td>\n",
       "    </tr>\n",
       "    <tr>\n",
       "      <th>25</th>\n",
       "      <td>5ad77b04d209ba1dce746394</td>\n",
       "      <td>0xnGWFg45GdBwL3gYk-WEQ</td>\n",
       "      <td>Ln_ruFzA-8pPys2UJmVW-Q</td>\n",
       "      <td>5</td>\n",
       "      <td>They are THE Westside tobacco shop. Nice selec...</td>\n",
       "      <td>0</td>\n",
       "    </tr>\n",
       "    <tr>\n",
       "      <th>26</th>\n",
       "      <td>5ad77a31d209ba1dce3c12fe</td>\n",
       "      <td>Kf02EOsn00K7KNLN4dGH8g</td>\n",
       "      <td>al60LJucv87VcwXYZz2pfg</td>\n",
       "      <td>5</td>\n",
       "      <td>I have been going to Level/10 for years gettin...</td>\n",
       "      <td>0</td>\n",
       "    </tr>\n",
       "    <tr>\n",
       "      <th>27</th>\n",
       "      <td>5ad77b3ed209ba1dce814184</td>\n",
       "      <td>XNFA-aJFX8IQjol8Dg6GnA</td>\n",
       "      <td>aCswtganeZZhGETsR_57wQ</td>\n",
       "      <td>5</td>\n",
       "      <td>My fiancé and I had our rehearsal dinner here ...</td>\n",
       "      <td>0</td>\n",
       "    </tr>\n",
       "    <tr>\n",
       "      <th>30</th>\n",
       "      <td>5ad77ac9d209ba1dce67be76</td>\n",
       "      <td>rbcfYmJtqwIkk17IeOI5Kw</td>\n",
       "      <td>hduRhl4kPkj8MC29zkU4Tw</td>\n",
       "      <td>5</td>\n",
       "      <td>Truly incredible experience from beginning to ...</td>\n",
       "      <td>0</td>\n",
       "    </tr>\n",
       "    <tr>\n",
       "      <th>31</th>\n",
       "      <td>5ad77a69d209ba1dce511cbf</td>\n",
       "      <td>fbQaKW0Lte0JQ_opbnjdKg</td>\n",
       "      <td>fkIm9yjnpJcRUTbysXVzKw</td>\n",
       "      <td>4</td>\n",
       "      <td>Do not be intimidated by the ordering process....</td>\n",
       "      <td>0</td>\n",
       "    </tr>\n",
       "    <tr>\n",
       "      <th>32</th>\n",
       "      <td>5ad77a78d209ba1dce558e4b</td>\n",
       "      <td>ujHiaprwCQ5ewziu0Vi9rw</td>\n",
       "      <td>M4y8QXI6cd2j5-PXRq3Huw</td>\n",
       "      <td>4</td>\n",
       "      <td>Prepare to wait in line on the weekends!!!\\n\\n...</td>\n",
       "      <td>1</td>\n",
       "    </tr>\n",
       "    <tr>\n",
       "      <th>35</th>\n",
       "      <td>5ad77a36d209ba1dce3e7c5e</td>\n",
       "      <td>qJFyEn2PE20zIA1-BoAeXA</td>\n",
       "      <td>Np2LxyuIXKAJZ1KHIrhUvA</td>\n",
       "      <td>5</td>\n",
       "      <td>We booked knight sounds to DJ our wedding at B...</td>\n",
       "      <td>0</td>\n",
       "    </tr>\n",
       "    <tr>\n",
       "      <th>36</th>\n",
       "      <td>5ad77b38d209ba1dce7fe0ee</td>\n",
       "      <td>E7C8xUC0oSNOpRl1vMTMzA</td>\n",
       "      <td>c2MbhriG4sclowUgy_YiIQ</td>\n",
       "      <td>5</td>\n",
       "      <td>Great food! Boyfriend is Puerto rican and he l...</td>\n",
       "      <td>1</td>\n",
       "    </tr>\n",
       "    <tr>\n",
       "      <th>39</th>\n",
       "      <td>5ad77a46d209ba1dce452fe4</td>\n",
       "      <td>sAXy1yJRLllTm5WrJbJGAA</td>\n",
       "      <td>iTdRZI9Hppbl4fW_qNOM8A</td>\n",
       "      <td>5</td>\n",
       "      <td>Last night I had the best experience I've ever...</td>\n",
       "      <td>0</td>\n",
       "    </tr>\n",
       "    <tr>\n",
       "      <th>40</th>\n",
       "      <td>5ad77a8fd209ba1dce5ad274</td>\n",
       "      <td>eLFfWcdb7VkqNyTONksHiQ</td>\n",
       "      <td>vBUKjs__4lP4L0oc7DWQ-w</td>\n",
       "      <td>3</td>\n",
       "      <td>I have mixed feelings about Gen. On one hand, ...</td>\n",
       "      <td>0</td>\n",
       "    </tr>\n",
       "    <tr>\n",
       "      <th>42</th>\n",
       "      <td>5ad77a63d209ba1dce4ea17f</td>\n",
       "      <td>aNGcHb8rjFFI9nY_fUgImg</td>\n",
       "      <td>p4xlQwted5BCWfud1-puyA</td>\n",
       "      <td>5</td>\n",
       "      <td>Exceptional sushi, drinks, &amp; service from Chri...</td>\n",
       "      <td>1</td>\n",
       "    </tr>\n",
       "    <tr>\n",
       "      <th>...</th>\n",
       "      <td>...</td>\n",
       "      <td>...</td>\n",
       "      <td>...</td>\n",
       "      <td>...</td>\n",
       "      <td>...</td>\n",
       "      <td>...</td>\n",
       "    </tr>\n",
       "    <tr>\n",
       "      <th>64</th>\n",
       "      <td>5ad77b43d209ba1dce829644</td>\n",
       "      <td>p3YqOYELqXtLyHz9T49p_w</td>\n",
       "      <td>crJ9o-rBHTn4mWkkQJjkiA</td>\n",
       "      <td>5</td>\n",
       "      <td>Loved this place. Have been to vegas numerous ...</td>\n",
       "      <td>0</td>\n",
       "    </tr>\n",
       "    <tr>\n",
       "      <th>65</th>\n",
       "      <td>5ad77b3ed209ba1dce8177a6</td>\n",
       "      <td>emOK5Q4d_KZsA76tT9pOug</td>\n",
       "      <td>O5TckhGm61Fh3BCRSe5IqA</td>\n",
       "      <td>5</td>\n",
       "      <td>They have Monday special mania here! Rack of r...</td>\n",
       "      <td>1</td>\n",
       "    </tr>\n",
       "    <tr>\n",
       "      <th>66</th>\n",
       "      <td>5ad77b4dd209ba1dce847f41</td>\n",
       "      <td>OzcVyb1JudLFjZ9lfGSN3w</td>\n",
       "      <td>GclLpL38F7ZCQi9Nwkjp2Q</td>\n",
       "      <td>5</td>\n",
       "      <td>Our Favs 2013:  Breadfruits' Grilled calamari ...</td>\n",
       "      <td>0</td>\n",
       "    </tr>\n",
       "    <tr>\n",
       "      <th>67</th>\n",
       "      <td>5ad77b8fd209ba1dce9450b5</td>\n",
       "      <td>ZumOnWbstgsIE6bJlxw0_Q</td>\n",
       "      <td>FrJCjgzCuVZvpC7RG49_FQ</td>\n",
       "      <td>5</td>\n",
       "      <td>Great coffee and great service. He worked hard...</td>\n",
       "      <td>0</td>\n",
       "    </tr>\n",
       "    <tr>\n",
       "      <th>68</th>\n",
       "      <td>5ad77b06d209ba1dce74e4cc</td>\n",
       "      <td>3dG81ZT3TjPdRARfClWMkw</td>\n",
       "      <td>58nYJBYLwobPLFOjoo9GNQ</td>\n",
       "      <td>4</td>\n",
       "      <td>Sometimes when I have dinner plans, I take it ...</td>\n",
       "      <td>1</td>\n",
       "    </tr>\n",
       "    <tr>\n",
       "      <th>69</th>\n",
       "      <td>5ad77b53d209ba1dce860bac</td>\n",
       "      <td>NJ0RzuWd5xDqfJejYQZ65g</td>\n",
       "      <td>SSwRMxN1LeHEZm-ErgzlgA</td>\n",
       "      <td>5</td>\n",
       "      <td>This is a well-kept secret, at least it was to...</td>\n",
       "      <td>1</td>\n",
       "    </tr>\n",
       "    <tr>\n",
       "      <th>70</th>\n",
       "      <td>5ad77ba2d209ba1dce995306</td>\n",
       "      <td>JOoblYsQjFT-47tkt6om0A</td>\n",
       "      <td>BoLbcRKkQCKttsWnR0UJAQ</td>\n",
       "      <td>3</td>\n",
       "      <td>So disappointed. Don't go there for food. It's...</td>\n",
       "      <td>1</td>\n",
       "    </tr>\n",
       "    <tr>\n",
       "      <th>71</th>\n",
       "      <td>5ad77ad1d209ba1dce69fed5</td>\n",
       "      <td>uuGL8diLlHfeUeFuod3F-w</td>\n",
       "      <td>zOf8qzPfFuRMXrzO-vjMPQ</td>\n",
       "      <td>5</td>\n",
       "      <td>You know I really liked this place especially ...</td>\n",
       "      <td>22</td>\n",
       "    </tr>\n",
       "    <tr>\n",
       "      <th>72</th>\n",
       "      <td>5ad77ba3d209ba1dce99ab88</td>\n",
       "      <td>NmTHKM9JuEN8au3P0587Sw</td>\n",
       "      <td>Cjv9QqNEogTKULkEoqPagw</td>\n",
       "      <td>5</td>\n",
       "      <td>Absolutely love this store location, it always...</td>\n",
       "      <td>0</td>\n",
       "    </tr>\n",
       "    <tr>\n",
       "      <th>73</th>\n",
       "      <td>5ad77a40d209ba1dce42728e</td>\n",
       "      <td>P5PwMjdMGP6QRnNzlfY6bQ</td>\n",
       "      <td>1WlLMrfiSWoH7lvvvaw54w</td>\n",
       "      <td>4</td>\n",
       "      <td>Rich was very helpful to us, from getting a fl...</td>\n",
       "      <td>2</td>\n",
       "    </tr>\n",
       "    <tr>\n",
       "      <th>74</th>\n",
       "      <td>5ad77b7cd209ba1dce8f1750</td>\n",
       "      <td>SIVi2UQp1UT0lMIoqHP0QA</td>\n",
       "      <td>ofvae03wIAvckNPywbi0SA</td>\n",
       "      <td>4</td>\n",
       "      <td>Great place for kids. Food was pretty good, se...</td>\n",
       "      <td>0</td>\n",
       "    </tr>\n",
       "    <tr>\n",
       "      <th>75</th>\n",
       "      <td>5ad77b5fd209ba1dce886ced</td>\n",
       "      <td>awI4hHMfa7H0Xf0-ChU5hg</td>\n",
       "      <td>0I9DEtZW6FvX7CP-IeAodQ</td>\n",
       "      <td>5</td>\n",
       "      <td>Heartily Delicious! Had a dozen of oysters and...</td>\n",
       "      <td>1</td>\n",
       "    </tr>\n",
       "    <tr>\n",
       "      <th>76</th>\n",
       "      <td>5ad77bb4d209ba1dce9d9414</td>\n",
       "      <td>t-o_Sraneime4DDhWrQRBA</td>\n",
       "      <td>_1-pnyN6IhsZF3u5IJFebA</td>\n",
       "      <td>4</td>\n",
       "      <td>A hotel that treats its guests very well. Ever...</td>\n",
       "      <td>1</td>\n",
       "    </tr>\n",
       "    <tr>\n",
       "      <th>77</th>\n",
       "      <td>5ad77a88d209ba1dce593cb2</td>\n",
       "      <td>t749-3jKKDyO8QH3VezUHA</td>\n",
       "      <td>8aIHAVMK881p25QOzrQ58g</td>\n",
       "      <td>5</td>\n",
       "      <td>New place for this New Yorker. Server will ask...</td>\n",
       "      <td>2</td>\n",
       "    </tr>\n",
       "    <tr>\n",
       "      <th>78</th>\n",
       "      <td>5ad77a50d209ba1dce47f473</td>\n",
       "      <td>K7lWdNUhCbcnEvI0NhGewg</td>\n",
       "      <td>fEIpDUDG94f7Uxqrapw0mg</td>\n",
       "      <td>5</td>\n",
       "      <td>Best buffet in vegas. Amazing selection of foo...</td>\n",
       "      <td>0</td>\n",
       "    </tr>\n",
       "    <tr>\n",
       "      <th>79</th>\n",
       "      <td>5ad77ac6d209ba1dce673da7</td>\n",
       "      <td>r71RUi85E60aGuhVqXWjKA</td>\n",
       "      <td>js5HRwGS9IefwFOaGgfWhQ</td>\n",
       "      <td>4</td>\n",
       "      <td>Wasn't too sure because of all the bad reviews...</td>\n",
       "      <td>2</td>\n",
       "    </tr>\n",
       "    <tr>\n",
       "      <th>80</th>\n",
       "      <td>5ad77ac6d209ba1dce673ea3</td>\n",
       "      <td>AL5YzikrmxwcBzBNLGO7Jw</td>\n",
       "      <td>yFswtY-ZT0qxGH6sH-_sQw</td>\n",
       "      <td>4</td>\n",
       "      <td>This is a decent Fuddrucker's location with pl...</td>\n",
       "      <td>6</td>\n",
       "    </tr>\n",
       "    <tr>\n",
       "      <th>81</th>\n",
       "      <td>5ad77a98d209ba1dce5d4512</td>\n",
       "      <td>oKvlZL1ETK-Zejk5u76_Hg</td>\n",
       "      <td>E_skyHS3L3-mIYJSuI8wlw</td>\n",
       "      <td>5</td>\n",
       "      <td>My stylist was informative and helped me to se...</td>\n",
       "      <td>0</td>\n",
       "    </tr>\n",
       "    <tr>\n",
       "      <th>82</th>\n",
       "      <td>5ad77abfd209ba1dce65f1b3</td>\n",
       "      <td>tisVBZM6OFh1ih4x6rGtDw</td>\n",
       "      <td>EzMOSAK-oNaq7zBr5wWIOg</td>\n",
       "      <td>4</td>\n",
       "      <td>The Goof is an amazing gem of a restaurant, a ...</td>\n",
       "      <td>1</td>\n",
       "    </tr>\n",
       "    <tr>\n",
       "      <th>83</th>\n",
       "      <td>5ad77b61d209ba1dce88f771</td>\n",
       "      <td>a2ZBDIXmwBm7IWnXR6LK-g</td>\n",
       "      <td>2SEUAb39TeKX6Js_ckvWng</td>\n",
       "      <td>4</td>\n",
       "      <td>I purchased a Groupon that gave me $30 worth o...</td>\n",
       "      <td>3</td>\n",
       "    </tr>\n",
       "    <tr>\n",
       "      <th>84</th>\n",
       "      <td>5ad77a21d209ba1dce33547d</td>\n",
       "      <td>Bb8Ui0qEU4ue888AgFpWwg</td>\n",
       "      <td>9e81Ct4d3d0Tep9kwaN6-g</td>\n",
       "      <td>4</td>\n",
       "      <td>Riesige Portionen fleischreicher Gerichte sind...</td>\n",
       "      <td>1</td>\n",
       "    </tr>\n",
       "    <tr>\n",
       "      <th>85</th>\n",
       "      <td>5ad77a65d209ba1dce4fa2c7</td>\n",
       "      <td>o7AiTlyWUrBSzdz6oMHj5w</td>\n",
       "      <td>lNS_7o62MHxPPMLssWeaVw</td>\n",
       "      <td>3</td>\n",
       "      <td>It was ok. The check in process took too long....</td>\n",
       "      <td>0</td>\n",
       "    </tr>\n",
       "    <tr>\n",
       "      <th>86</th>\n",
       "      <td>5ad77aa3d209ba1dce5f457f</td>\n",
       "      <td>zP-ACMba8Jscn0aAnM4w2w</td>\n",
       "      <td>k2PiYTWroE2Y-7HnBW999w</td>\n",
       "      <td>5</td>\n",
       "      <td>Hmmm So they changed their location from the c...</td>\n",
       "      <td>0</td>\n",
       "    </tr>\n",
       "    <tr>\n",
       "      <th>87</th>\n",
       "      <td>5ad77a3dd209ba1dce41024b</td>\n",
       "      <td>T18OuXcOAkmsFVzAtf1I3w</td>\n",
       "      <td>MDt0vJXcncQlPTc5EkSNyg</td>\n",
       "      <td>5</td>\n",
       "      <td>I had been referred to Nevada Oral and Facial ...</td>\n",
       "      <td>0</td>\n",
       "    </tr>\n",
       "    <tr>\n",
       "      <th>89</th>\n",
       "      <td>5ad77accd209ba1dce68a1c6</td>\n",
       "      <td>SEMvJDVnDB4NoPW6tXXO_Q</td>\n",
       "      <td>seWvisCIJXs27QKyDXOXSA</td>\n",
       "      <td>5</td>\n",
       "      <td>Delicious Korean BBQ their menu is very authen...</td>\n",
       "      <td>0</td>\n",
       "    </tr>\n",
       "    <tr>\n",
       "      <th>93</th>\n",
       "      <td>5ad77b8ed209ba1dce93fa76</td>\n",
       "      <td>G5qOZI12XTSowKZzlq_5lw</td>\n",
       "      <td>w7ws0hRWyoQNOGP1RSuz9A</td>\n",
       "      <td>5</td>\n",
       "      <td>I have been here quite a few times this year a...</td>\n",
       "      <td>0</td>\n",
       "    </tr>\n",
       "    <tr>\n",
       "      <th>95</th>\n",
       "      <td>5ad77b33d209ba1dce7e8d2f</td>\n",
       "      <td>jlbP9Yd0AQP8OlcsFkZ4hQ</td>\n",
       "      <td>Swv5qPVplcyKkIKy11v1AQ</td>\n",
       "      <td>3</td>\n",
       "      <td>Extremely frustrating. Only ikea in the state....</td>\n",
       "      <td>0</td>\n",
       "    </tr>\n",
       "    <tr>\n",
       "      <th>97</th>\n",
       "      <td>5ad77a29d209ba1dce389543</td>\n",
       "      <td>LZSyWy4IHgXg6QhW2jrBlw</td>\n",
       "      <td>egiY5EamRdnhRPTnrVSW2Q</td>\n",
       "      <td>4</td>\n",
       "      <td>When we arrived, we were seated for almost 20 ...</td>\n",
       "      <td>0</td>\n",
       "    </tr>\n",
       "    <tr>\n",
       "      <th>98</th>\n",
       "      <td>5ad77ac1d209ba1dce66500d</td>\n",
       "      <td>c5TOGBUCCUUNBPM7h_KbmQ</td>\n",
       "      <td>otxK1kq36oW64ZeUl4Ud-Q</td>\n",
       "      <td>5</td>\n",
       "      <td>California burrito with chicken! Bomb!</td>\n",
       "      <td>2</td>\n",
       "    </tr>\n",
       "    <tr>\n",
       "      <th>99</th>\n",
       "      <td>5ad77ba9d209ba1dce9ba989</td>\n",
       "      <td>qKn9nynsVYIST8rf6tEFRQ</td>\n",
       "      <td>q8Vi3smmuJvkWVmGxXZTZA</td>\n",
       "      <td>4</td>\n",
       "      <td>This was my first time at Corner Thai. Walked ...</td>\n",
       "      <td>32</td>\n",
       "    </tr>\n",
       "  </tbody>\n",
       "</table>\n",
       "<p>74 rows × 6 columns</p>\n",
       "</div>"
      ],
      "text/plain": [
       "                         _id             business_id               review_id  \\\n",
       "0   5ad77a48d209ba1dce460064  eLFfWcdb7VkqNyTONksHiQ  7ECYfYWSx5_SEIYsDiCZ1A   \n",
       "1   5ad77a94d209ba1dce5c7096  Yp9w4nhUowBU_IS_StFXbQ  uBkU8wLvQCCCL0TZ8ESLaw   \n",
       "2   5ad77b87d209ba1dce91f888  5md4i4diIWMNYQgHMj_Nbg  4xlVPqc8nuEWeIQYCL0FEA   \n",
       "3   5ad77aead209ba1dce6dccd7  XBEx2FI2GKmsjs7eWNr7Lw  CyaJqWU8bmaEPLWgxekAOg   \n",
       "7   5ad77a85d209ba1dce5848b4  roK6f1bMuKG3XC-r01Oo5w  IqVR2uIirQNGStQzjCFuuQ   \n",
       "8   5ad77b43d209ba1dce8280df  D4KQSY_8qsx6n-ANwPfFuQ  LrHgcV8v8Mshx75DIc71ag   \n",
       "9   5ad77a2cd209ba1dce39efac  MmQsPiVSN08WtmlsC_ZSVA  hcNYz8UFZXltwr6s1TdY7g   \n",
       "10  5ad77accd209ba1dce68c679  zwNC-Ow4eIMan2__bS9-rg  QETWn4X3whTD0YB3XvcmzA   \n",
       "11  5ad77a89d209ba1dce598e3f  jfUjzI1u_NgKkaA40upHXw  mzS2JjK0xC88hMlgyZG4dw   \n",
       "12  5ad77ba0d209ba1dce988b88  VxsLjIAut_VNpbaLYsIcFA  EHT513B5s_ew7cFC3JGmoA   \n",
       "13  5ad77b95d209ba1dce9639c2  QPCPa-LasXaj61vHyVRf5Q  FgDBpwVDQlpwzYYVsZbuAQ   \n",
       "14  5ad77badd209ba1dce9c841b  0cf-w9PK5gLkBkitL3bdqw  BJq3hjL2g-G7NJEk0ZnnjA   \n",
       "15  5ad77a88d209ba1dce594f48  So132GP_uy3XbGs0KNyzyw  VAhTsJKwPuFMgatHG6-lBQ   \n",
       "16  5ad77a7bd209ba1dce5638e4  mIJO9f2A3gfj4ahAM0QBQw  S4R8n0GoKj2RWppbvIYMVQ   \n",
       "17  5ad77ab7d209ba1dce63dcc4  eS29S_06lvsDW04wVrIVxg  uX7xm_pfBeVVHQmizhnFYQ   \n",
       "18  5ad77ac9d209ba1dce67d93a  ab3-BhBFlkfvlUwg8w0-1g  DUVXlU6JY2WPtSz9GHrUbg   \n",
       "19  5ad77a7dd209ba1dce56ebc9  0HTL9Budfc3jD9sqNUuq9w  r70_N7k4_9MjPNW2rQwrvA   \n",
       "23  5ad77a11d209ba1dce29470e  lWc6CdEyEpThhnKc-2Nbtg  HGX9NoyquP8SLem4WCTapw   \n",
       "24  5ad77a4dd209ba1dce46c1e6  W2bxzyiQouzBhPuzg95Vrw  l9DMnTHSWGyBAdLqEpL0sg   \n",
       "25  5ad77b04d209ba1dce746394  0xnGWFg45GdBwL3gYk-WEQ  Ln_ruFzA-8pPys2UJmVW-Q   \n",
       "26  5ad77a31d209ba1dce3c12fe  Kf02EOsn00K7KNLN4dGH8g  al60LJucv87VcwXYZz2pfg   \n",
       "27  5ad77b3ed209ba1dce814184  XNFA-aJFX8IQjol8Dg6GnA  aCswtganeZZhGETsR_57wQ   \n",
       "30  5ad77ac9d209ba1dce67be76  rbcfYmJtqwIkk17IeOI5Kw  hduRhl4kPkj8MC29zkU4Tw   \n",
       "31  5ad77a69d209ba1dce511cbf  fbQaKW0Lte0JQ_opbnjdKg  fkIm9yjnpJcRUTbysXVzKw   \n",
       "32  5ad77a78d209ba1dce558e4b  ujHiaprwCQ5ewziu0Vi9rw  M4y8QXI6cd2j5-PXRq3Huw   \n",
       "35  5ad77a36d209ba1dce3e7c5e  qJFyEn2PE20zIA1-BoAeXA  Np2LxyuIXKAJZ1KHIrhUvA   \n",
       "36  5ad77b38d209ba1dce7fe0ee  E7C8xUC0oSNOpRl1vMTMzA  c2MbhriG4sclowUgy_YiIQ   \n",
       "39  5ad77a46d209ba1dce452fe4  sAXy1yJRLllTm5WrJbJGAA  iTdRZI9Hppbl4fW_qNOM8A   \n",
       "40  5ad77a8fd209ba1dce5ad274  eLFfWcdb7VkqNyTONksHiQ  vBUKjs__4lP4L0oc7DWQ-w   \n",
       "42  5ad77a63d209ba1dce4ea17f  aNGcHb8rjFFI9nY_fUgImg  p4xlQwted5BCWfud1-puyA   \n",
       "..                       ...                     ...                     ...   \n",
       "64  5ad77b43d209ba1dce829644  p3YqOYELqXtLyHz9T49p_w  crJ9o-rBHTn4mWkkQJjkiA   \n",
       "65  5ad77b3ed209ba1dce8177a6  emOK5Q4d_KZsA76tT9pOug  O5TckhGm61Fh3BCRSe5IqA   \n",
       "66  5ad77b4dd209ba1dce847f41  OzcVyb1JudLFjZ9lfGSN3w  GclLpL38F7ZCQi9Nwkjp2Q   \n",
       "67  5ad77b8fd209ba1dce9450b5  ZumOnWbstgsIE6bJlxw0_Q  FrJCjgzCuVZvpC7RG49_FQ   \n",
       "68  5ad77b06d209ba1dce74e4cc  3dG81ZT3TjPdRARfClWMkw  58nYJBYLwobPLFOjoo9GNQ   \n",
       "69  5ad77b53d209ba1dce860bac  NJ0RzuWd5xDqfJejYQZ65g  SSwRMxN1LeHEZm-ErgzlgA   \n",
       "70  5ad77ba2d209ba1dce995306  JOoblYsQjFT-47tkt6om0A  BoLbcRKkQCKttsWnR0UJAQ   \n",
       "71  5ad77ad1d209ba1dce69fed5  uuGL8diLlHfeUeFuod3F-w  zOf8qzPfFuRMXrzO-vjMPQ   \n",
       "72  5ad77ba3d209ba1dce99ab88  NmTHKM9JuEN8au3P0587Sw  Cjv9QqNEogTKULkEoqPagw   \n",
       "73  5ad77a40d209ba1dce42728e  P5PwMjdMGP6QRnNzlfY6bQ  1WlLMrfiSWoH7lvvvaw54w   \n",
       "74  5ad77b7cd209ba1dce8f1750  SIVi2UQp1UT0lMIoqHP0QA  ofvae03wIAvckNPywbi0SA   \n",
       "75  5ad77b5fd209ba1dce886ced  awI4hHMfa7H0Xf0-ChU5hg  0I9DEtZW6FvX7CP-IeAodQ   \n",
       "76  5ad77bb4d209ba1dce9d9414  t-o_Sraneime4DDhWrQRBA  _1-pnyN6IhsZF3u5IJFebA   \n",
       "77  5ad77a88d209ba1dce593cb2  t749-3jKKDyO8QH3VezUHA  8aIHAVMK881p25QOzrQ58g   \n",
       "78  5ad77a50d209ba1dce47f473  K7lWdNUhCbcnEvI0NhGewg  fEIpDUDG94f7Uxqrapw0mg   \n",
       "79  5ad77ac6d209ba1dce673da7  r71RUi85E60aGuhVqXWjKA  js5HRwGS9IefwFOaGgfWhQ   \n",
       "80  5ad77ac6d209ba1dce673ea3  AL5YzikrmxwcBzBNLGO7Jw  yFswtY-ZT0qxGH6sH-_sQw   \n",
       "81  5ad77a98d209ba1dce5d4512  oKvlZL1ETK-Zejk5u76_Hg  E_skyHS3L3-mIYJSuI8wlw   \n",
       "82  5ad77abfd209ba1dce65f1b3  tisVBZM6OFh1ih4x6rGtDw  EzMOSAK-oNaq7zBr5wWIOg   \n",
       "83  5ad77b61d209ba1dce88f771  a2ZBDIXmwBm7IWnXR6LK-g  2SEUAb39TeKX6Js_ckvWng   \n",
       "84  5ad77a21d209ba1dce33547d  Bb8Ui0qEU4ue888AgFpWwg  9e81Ct4d3d0Tep9kwaN6-g   \n",
       "85  5ad77a65d209ba1dce4fa2c7  o7AiTlyWUrBSzdz6oMHj5w  lNS_7o62MHxPPMLssWeaVw   \n",
       "86  5ad77aa3d209ba1dce5f457f  zP-ACMba8Jscn0aAnM4w2w  k2PiYTWroE2Y-7HnBW999w   \n",
       "87  5ad77a3dd209ba1dce41024b  T18OuXcOAkmsFVzAtf1I3w  MDt0vJXcncQlPTc5EkSNyg   \n",
       "89  5ad77accd209ba1dce68a1c6  SEMvJDVnDB4NoPW6tXXO_Q  seWvisCIJXs27QKyDXOXSA   \n",
       "93  5ad77b8ed209ba1dce93fa76  G5qOZI12XTSowKZzlq_5lw  w7ws0hRWyoQNOGP1RSuz9A   \n",
       "95  5ad77b33d209ba1dce7e8d2f  jlbP9Yd0AQP8OlcsFkZ4hQ  Swv5qPVplcyKkIKy11v1AQ   \n",
       "97  5ad77a29d209ba1dce389543  LZSyWy4IHgXg6QhW2jrBlw  egiY5EamRdnhRPTnrVSW2Q   \n",
       "98  5ad77ac1d209ba1dce66500d  c5TOGBUCCUUNBPM7h_KbmQ  otxK1kq36oW64ZeUl4Ud-Q   \n",
       "99  5ad77ba9d209ba1dce9ba989  qKn9nynsVYIST8rf6tEFRQ  q8Vi3smmuJvkWVmGxXZTZA   \n",
       "\n",
       "    stars                                               text  useful  \n",
       "0       5  Great all you can eat Korean BBQ. Very clean, ...       1  \n",
       "1       5  This place is sort of hidden.  It's behind the...       1  \n",
       "2       5  The hoover dam kayaking tour was great. No pro...       0  \n",
       "3       5  Awesome acai bowls. As a cheesecake lover, I w...       1  \n",
       "7       5  CLYC!....Love spending time here. Always a gre...       0  \n",
       "8       5  WOW is all I have to say about this place. I'v...       4  \n",
       "9       3  It's OK.  I have been there a few times, but I...       4  \n",
       "10      5  Taco Y Taco has my favorite al pastor tacos in...       0  \n",
       "11      5  Friendly and comfortable staff. Winston always...       0  \n",
       "12      4  If you're staying at the Cosmo you should take...      13  \n",
       "13      4  Same day surgery 9/13/16 for Green Light Laser...       2  \n",
       "14      5  We LOVE this place.  Usually get the chicken b...       0  \n",
       "15      5  This is The Gargoyle's favorite Las Vegas off ...       0  \n",
       "16      5  I work for an electrical company. We do electr...       0  \n",
       "17      4  Barrio is on my short list when I'm visiting P...       1  \n",
       "18      5  Brian did an awesome job on my Grand Cherokee....       2  \n",
       "19      5  When it comes to pools...you shouldn't come he...       2  \n",
       "23      4  Toasty Torpedo. $4 and I'm good for lunch. The...       0  \n",
       "24      5  Total nail rehab. Nivea transformed a terrible...       1  \n",
       "25      5  They are THE Westside tobacco shop. Nice selec...       0  \n",
       "26      5  I have been going to Level/10 for years gettin...       0  \n",
       "27      5  My fiancé and I had our rehearsal dinner here ...       0  \n",
       "30      5  Truly incredible experience from beginning to ...       0  \n",
       "31      4  Do not be intimidated by the ordering process....       0  \n",
       "32      4  Prepare to wait in line on the weekends!!!\\n\\n...       1  \n",
       "35      5  We booked knight sounds to DJ our wedding at B...       0  \n",
       "36      5  Great food! Boyfriend is Puerto rican and he l...       1  \n",
       "39      5  Last night I had the best experience I've ever...       0  \n",
       "40      3  I have mixed feelings about Gen. On one hand, ...       0  \n",
       "42      5  Exceptional sushi, drinks, & service from Chri...       1  \n",
       "..    ...                                                ...     ...  \n",
       "64      5  Loved this place. Have been to vegas numerous ...       0  \n",
       "65      5  They have Monday special mania here! Rack of r...       1  \n",
       "66      5  Our Favs 2013:  Breadfruits' Grilled calamari ...       0  \n",
       "67      5  Great coffee and great service. He worked hard...       0  \n",
       "68      4  Sometimes when I have dinner plans, I take it ...       1  \n",
       "69      5  This is a well-kept secret, at least it was to...       1  \n",
       "70      3  So disappointed. Don't go there for food. It's...       1  \n",
       "71      5  You know I really liked this place especially ...      22  \n",
       "72      5  Absolutely love this store location, it always...       0  \n",
       "73      4  Rich was very helpful to us, from getting a fl...       2  \n",
       "74      4  Great place for kids. Food was pretty good, se...       0  \n",
       "75      5  Heartily Delicious! Had a dozen of oysters and...       1  \n",
       "76      4  A hotel that treats its guests very well. Ever...       1  \n",
       "77      5  New place for this New Yorker. Server will ask...       2  \n",
       "78      5  Best buffet in vegas. Amazing selection of foo...       0  \n",
       "79      4  Wasn't too sure because of all the bad reviews...       2  \n",
       "80      4  This is a decent Fuddrucker's location with pl...       6  \n",
       "81      5  My stylist was informative and helped me to se...       0  \n",
       "82      4  The Goof is an amazing gem of a restaurant, a ...       1  \n",
       "83      4  I purchased a Groupon that gave me $30 worth o...       3  \n",
       "84      4  Riesige Portionen fleischreicher Gerichte sind...       1  \n",
       "85      3  It was ok. The check in process took too long....       0  \n",
       "86      5  Hmmm So they changed their location from the c...       0  \n",
       "87      5  I had been referred to Nevada Oral and Facial ...       0  \n",
       "89      5  Delicious Korean BBQ their menu is very authen...       0  \n",
       "93      5  I have been here quite a few times this year a...       0  \n",
       "95      3  Extremely frustrating. Only ikea in the state....       0  \n",
       "97      4  When we arrived, we were seated for almost 20 ...       0  \n",
       "98      5             California burrito with chicken! Bomb!       2  \n",
       "99      4  This was my first time at Corner Thai. Walked ...      32  \n",
       "\n",
       "[74 rows x 6 columns]"
      ]
     },
     "execution_count": 16,
     "metadata": {},
     "output_type": "execute_result"
    }
   ],
   "source": [
    "ds[ds[\"stars\"] > 2]"
   ]
  },
  {
   "cell_type": "code",
   "execution_count": 54,
   "metadata": {},
   "outputs": [],
   "source": [
    "ds[\"Y\"] = ds[ds[\"stars\"]>2]"
   ]
  },
  {
   "cell_type": "code",
   "execution_count": 47,
   "metadata": {},
   "outputs": [
    {
     "ename": "ValueError",
     "evalue": "The truth value of a DataFrame is ambiguous. Use a.empty, a.bool(), a.item(), a.any() or a.all().",
     "output_type": "error",
     "traceback": [
      "\u001b[0;31m---------------------------------------------------------------------------\u001b[0m",
      "\u001b[0;31mValueError\u001b[0m                                Traceback (most recent call last)",
      "\u001b[0;32m<ipython-input-47-4b38b95a73b9>\u001b[0m in \u001b[0;36m<module>\u001b[0;34m()\u001b[0m\n\u001b[1;32m      1\u001b[0m \u001b[0mds\u001b[0m\u001b[0;34m[\u001b[0m\u001b[0;34m\"Y\"\u001b[0m\u001b[0;34m]\u001b[0m \u001b[0;34m=\u001b[0m \u001b[0;36m0\u001b[0m\u001b[0;34m\u001b[0m\u001b[0m\n\u001b[1;32m      2\u001b[0m \u001b[0;34m\u001b[0m\u001b[0m\n\u001b[0;32m----> 3\u001b[0;31m \u001b[0;32mif\u001b[0m \u001b[0mds\u001b[0m\u001b[0;34m[\u001b[0m\u001b[0mds\u001b[0m\u001b[0;34m[\u001b[0m\u001b[0;34m\"stars\"\u001b[0m\u001b[0;34m]\u001b[0m \u001b[0;34m>\u001b[0m \u001b[0;36m2\u001b[0m\u001b[0;34m]\u001b[0m\u001b[0;34m:\u001b[0m\u001b[0;34m\u001b[0m\u001b[0m\n\u001b[0m\u001b[1;32m      4\u001b[0m     \u001b[0mds\u001b[0m\u001b[0;34m[\u001b[0m\u001b[0;34m\"Y\"\u001b[0m\u001b[0;34m]\u001b[0m \u001b[0;34m=\u001b[0m \u001b[0;36m1\u001b[0m\u001b[0;34m\u001b[0m\u001b[0m\n\u001b[1;32m      5\u001b[0m \u001b[0;32melse\u001b[0m \u001b[0;34m:\u001b[0m\u001b[0;34m\u001b[0m\u001b[0m\n",
      "\u001b[0;32m~/tools/anaconda/anaconda3/lib/python3.6/site-packages/pandas/core/generic.py\u001b[0m in \u001b[0;36m__nonzero__\u001b[0;34m(self)\u001b[0m\n\u001b[1;32m   1119\u001b[0m         raise ValueError(\"The truth value of a {0} is ambiguous. \"\n\u001b[1;32m   1120\u001b[0m                          \u001b[0;34m\"Use a.empty, a.bool(), a.item(), a.any() or a.all().\"\u001b[0m\u001b[0;34m\u001b[0m\u001b[0m\n\u001b[0;32m-> 1121\u001b[0;31m                          .format(self.__class__.__name__))\n\u001b[0m\u001b[1;32m   1122\u001b[0m \u001b[0;34m\u001b[0m\u001b[0m\n\u001b[1;32m   1123\u001b[0m     \u001b[0m__bool__\u001b[0m \u001b[0;34m=\u001b[0m \u001b[0m__nonzero__\u001b[0m\u001b[0;34m\u001b[0m\u001b[0m\n",
      "\u001b[0;31mValueError\u001b[0m: The truth value of a DataFrame is ambiguous. Use a.empty, a.bool(), a.item(), a.any() or a.all()."
     ]
    }
   ],
   "source": [
    "ds[\"Y\"] = 0\n",
    "\n",
    "if ds[ds[\"stars\"] > 2]:\n",
    "    ds[\"Y\"] = 1\n",
    "else :\n",
    "    ds[\"Y\"] = 0\n",
    "        "
   ]
  },
  {
   "cell_type": "code",
   "execution_count": 28,
   "metadata": {},
   "outputs": [],
   "source": [
    "sample_reviews = ds.loc[:5, \"text\"]"
   ]
  },
  {
   "cell_type": "code",
   "execution_count": 29,
   "metadata": {},
   "outputs": [
    {
     "data": {
      "text/plain": [
       "'Great all you can eat Korean BBQ. Very clean, good food, our server Jay-Ar was great and very attentive to his customers. I would highly recommend this place.'"
      ]
     },
     "execution_count": 29,
     "metadata": {},
     "output_type": "execute_result"
    }
   ],
   "source": [
    "sample_reviews[0]"
   ]
  },
  {
   "cell_type": "code",
   "execution_count": 30,
   "metadata": {},
   "outputs": [
    {
     "name": "stdout",
     "output_type": "stream",
     "text": [
      "==========================Tags=============================\n",
      "[('Great', 'NNP'), ('all', 'DT'), ('you', 'PRP'), ('can', 'MD'), ('eat', 'VB'), ('Korean', 'JJ'), ('BBQ', 'NNP'), ('Very', 'RB'), ('clean', 'JJ'), ('good', 'JJ'), ('food', 'NN'), ('our', 'PRP$'), ('server', 'JJ'), ('Jay-Ar', 'NNP'), ('was', 'VBD'), ('great', 'JJ'), ('and', 'CC'), ('very', 'RB'), ('attentive', 'JJ'), ('to', 'TO'), ('his', 'PRP$'), ('customers', 'NNS'), ('I', 'PRP'), ('would', 'MD'), ('highly', 'RB'), ('recommend', 'VB'), ('this', 'DT'), ('place', 'NN')]\n",
      "==========================Nouns=============================\n",
      "['korean bbq', 'good food', 'jay-ar']\n",
      "==========================Sentiment :) / :( =============================\n",
      "==========================Tags=============================\n",
      "[('This', 'DT'), ('place', 'NN'), ('is', 'VBZ'), ('sort', 'NN'), ('of', 'IN'), ('hidden', 'NN'), ('It', 'PRP'), (\"'s\", 'VBZ'), ('behind', 'IN'), ('the', 'DT'), ('tower', 'NN'), ('suites', 'VBZ'), ('so', 'RB'), ('you', 'PRP'), ('kind', 'NN'), ('of', 'IN'), ('have', 'NN'), ('to', 'TO'), ('look', 'VB'), ('for', 'IN'), ('it', 'PRP'), ('on', 'IN'), ('the', 'DT'), ('map', 'NN'), ('or', 'CC'), ('ask', 'VB'), ('the', 'DT'), ('workers', 'NNS'), ('to', 'TO'), ('lead', 'VB'), ('you', 'PRP'), ('there', 'RB'), ('It', 'PRP'), ('was', 'VBD'), ('our', 'PRP$'), ('last', 'JJ'), ('day', 'NN'), ('in', 'IN'), ('vegas', 'NN'), ('and', 'CC'), ('we', 'PRP'), ('had', 'VBD'), ('resort', 'VBN'), ('credit', 'NN'), ('to', 'TO'), ('spend', 'VB'), ('still', 'RB'), ('We', 'PRP'), ('ordered', 'VBD'), ('the', 'DT'), ('seafood', 'NN'), ('platter', 'RB'), ('72', 'CD'), ('which', 'WDT'), ('was', 'VBD'), ('AMAZINGGGGG', 'NNP'), ('We', 'PRP'), ('also', 'RB'), ('got', 'VBD'), ('the', 'DT'), ('duck', 'NN'), ('ravioli', 'NN'), ('Prawns', 'NNP'), ('plate', 'NN'), ('Salmon', 'NNP'), ('salad', 'NN'), ('and', 'CC'), ('a', 'DT'), ('few', 'JJ'), ('other', 'JJ'), ('plates', 'NNS'), ('The', 'DT'), ('service', 'NN'), ('here', 'RB'), ('was', 'VBD'), ('perfect', 'JJ'), ('and', 'CC'), ('did', 'VBD'), (\"n't\", 'RB'), ('come', 'VB'), ('to', 'TO'), ('the', 'DT'), ('table', 'NN'), ('too', 'RB'), ('many', 'JJ'), ('times', 'NNS'), ('to', 'TO'), ('disturb', 'VB'), ('us', 'PRP'), ('YOU', 'NNS'), ('HAVE', 'VBP'), ('TO', 'NNP'), ('GET', 'NNP'), ('THE', 'NNP'), ('DUCK', 'NNP'), ('RAVIOLI', 'NNP'), ('So', 'RB'), ('delicious', 'JJ'), ('I', 'PRP'), ('will', 'MD'), ('have', 'VB'), ('to', 'TO'), ('come', 'VB'), ('back', 'RB'), ('here', 'RB'), ('to', 'TO'), ('eat', 'VB'), ('all', 'PDT'), ('the', 'DT'), ('other', 'JJ'), ('good', 'JJ'), ('stuff', 'NN'), ('on', 'IN'), ('the', 'DT'), ('menu', 'NN'), ('but', 'CC'), ('there', 'EX'), ('was', 'VBD'), (\"n't\", 'RB'), ('one', 'CD'), ('thing', 'NN'), ('that', 'IN'), ('we', 'PRP'), ('were', 'VBD'), (\"n't\", 'RB'), ('disappointed', 'VBN'), ('about', 'RB')]\n",
      "==========================Nouns=============================\n",
      "['tower suites', 'resort credit', 'seafood platter $', 'amazinggggg', 'duck ravioli', 'prawns', 'salmon', 'you have to get the duck ravioli', 'good stuff']\n",
      "==========================Sentiment :) / :( =============================\n",
      "==========================Tags=============================\n",
      "[('The', 'DT'), ('hoover', 'NN'), ('dam', 'NN'), ('kayaking', 'VBG'), ('tour', 'NN'), ('was', 'VBD'), ('great', 'JJ'), ('No', 'DT'), ('problems', 'NNS'), ('at', 'IN'), ('all-', 'JJ'), ('the', 'DT'), ('entire', 'JJ'), ('trip', 'NN'), ('was', 'VBD'), ('smooth', 'JJ'), ('and', 'CC'), ('efficient', 'JJ'), ('We', 'PRP'), ('paddled', 'VBD'), ('the', 'DT'), ('entire', 'JJ'), ('day', 'NN'), ('hiked', 'VBD'), ('to', 'TO'), ('the', 'DT'), ('hot', 'JJ'), ('spring', 'NN'), ('and', 'CC'), ('more', 'JJR'), ('paddling', 'NN'), ('and', 'CC'), ('hiking', 'NN'), ('Our', 'PRP$'), ('tour', 'NN'), ('guy', 'NN'), ('Alex', 'NNP'), ('was', 'VBD'), ('excellent', 'JJ'), ('He', 'PRP'), ('is', 'VBZ'), ('very', 'RB'), ('knowledgeable', 'JJ'), ('friendly', 'JJ'), ('and', 'CC'), ('helped', 'VBD'), ('us', 'PRP'), ('take', 'VB'), ('pictures', 'NNS'), ('along', 'IN'), ('the', 'DT'), ('way', 'NN'), ('We', 'PRP'), ('had', 'VBD'), ('Mcdonalds', 'NNP'), ('breakfast', 'NN'), ('and', 'CC'), ('some', 'DT'), ('Arby', 'NNP'), (\"'s\", 'POS'), ('sandwiches', 'NNS'), ('grapes', 'NNS'), ('crackers', 'NNS'), ('for', 'IN'), ('lunch', 'NN'), ('and', 'CC'), ('an', 'DT'), ('abundant', 'JJ'), ('supply', 'NN'), ('of', 'IN'), ('water', 'NN'), ('during', 'IN'), ('the', 'DT'), ('entire', 'JJ'), ('trip', 'NN'), ('Very', 'RB'), ('enjoyable', 'JJ')]\n",
      "==========================Nouns=============================\n",
      "['hoover dam', 'entire trip', 'entire day', 'hot spring', 'tour guy', 'alex', 'mcdonalds', 'arby', \"'s sandwiches\", 'entire trip']\n",
      "==========================Sentiment :) / :( =============================\n",
      "==========================Tags=============================\n",
      "[('Awesome', 'NNP'), ('acai', 'NN'), ('bowls', 'NN'), ('As', 'IN'), ('a', 'DT'), ('cheesecake', 'NN'), ('lover', 'NN'), ('I', 'PRP'), ('was', 'VBD'), ('pleasantly', 'RB'), ('surprised', 'VBN'), ('to', 'TO'), ('try', 'VB'), ('their', 'PRP$'), ('cheesecake', 'NN'), ('flavored', 'VBN'), ('Acai', 'NNP'), ('bowl', 'NN'), ('Would', 'MD'), ('definitely', 'RB'), ('return', 'VB')]\n",
      "==========================Nouns=============================\n",
      "['awesome', 'acai bowls', 'cheesecake lover', 'acai']\n",
      "==========================Sentiment :) / :( =============================\n",
      "==========================Tags=============================\n",
      "[('I', 'PRP'), ('love', 'VBP'), ('this', 'DT'), ('place', 'NN'), ('i', 'NN'), ('really', 'RB'), ('do', 'VBP'), ('the', 'DT'), ('food', 'NN'), ('is', 'VBZ'), ('pretty', 'RB'), ('good', 'JJ'), ('but', 'CC'), ('this', 'DT'), ('time', 'NN'), ('just', 'RB'), ('sucked', 'VBD'), ('Checked', 'VBN'), ('in', 'IN'), ('was', 'VBD'), ('told', 'VBN'), ('it', 'PRP'), ('was', 'VBD'), ('15-30', 'JJ'), ('minutes', 'NNS'), ('for', 'IN'), ('an', 'DT'), ('outside', 'JJ'), ('patio', 'NN'), ('table', 'NN'), ('Weather', 'NNP'), ('was', 'VBD'), ('perfect', 'JJ'), ('so', 'IN'), ('we', 'PRP'), ('decided', 'VBD'), ('to', 'TO'), ('wait', 'VB'), ('45', 'CD'), ('minutes', 'NNS'), ('later', 'RB'), ('with', 'IN'), ('my', 'PRP$'), ('buzzer', 'NN'), ('in', 'IN'), ('hand', 'NN'), ('i', 'NN'), ('was', 'VBD'), ('told', 'VBN'), ('my', 'PRP$'), ('reservation', 'NN'), ('was', 'VBD'), ('lost', 'VBN'), ('and', 'CC'), ('i', 'JJ'), (\"'d\", 'MD'), ('have', 'VB'), ('the', 'DT'), ('next', 'JJ'), ('available', 'JJ'), ('table.\\\\nStrolling', 'VBG'), ('through', 'IN'), ('the', 'DT'), ('restaurant', 'NN'), ('passing', 'VBG'), ('a', 'DT'), ('table', 'NN'), ('for', 'IN'), ('2', 'CD'), ('at', 'IN'), ('the', 'DT'), ('outside', 'JJ'), ('rail', 'NN'), ('we', 'PRP'), ('were', 'VBD'), ('seated', 'VBN'), ('at', 'IN'), ('a', 'DT'), ('table', 'NN'), ('for', 'IN'), ('4', 'CD'), ('right', 'JJ'), ('next', 'JJ'), ('to', 'TO'), ('the', 'DT'), ('goddamn', 'NN'), ('server', 'NN'), ('station', 'NN'), ('\\\\nFor', 'SYM'), ('an', 'DT'), ('hour', 'NN'), ('i', 'NN'), ('was', 'VBD'), ('continuously', 'RB'), ('bumped', 'VBN'), ('and', 'CC'), ('kicked', 'VBN'), ('by', 'IN'), ('servers', 'NNS'), ('sitting', 'VBG'), ('here', 'RB'), ('and', 'CC'), ('the', 'DT'), ('ONLY', 'NNP'), ('reason', 'NN'), ('i', 'NN'), ('did', 'VBD'), (\"n't\", 'RB'), ('blow', 'VB'), ('up', 'RP'), ('is', 'VBZ'), ('because', 'IN'), ('this', 'DT'), ('was', 'VBD'), ('my', 'PRP$'), ('wifes', 'JJ'), ('birthday', 'JJ'), ('weekend', 'NN'), ('and', 'CC'), ('she', 'PRP'), ('specifically', 'RB'), ('wanted', 'VBD'), ('to', 'TO'), ('go', 'VB'), ('here', 'RB'), ('\\\\n', 'RB'), ('150', 'CD'), ('for', 'IN'), ('lunch', 'NN'), ('including', 'VBG'), ('cocktails', 'NNS')]\n",
      "==========================Nouns=============================\n",
      "['... ...', 'checked', 'outside patio table', 'weather', \"i 'd\", 'outside rail', 'goddamn server station', 'hour i', 'only', 'reason i', \"n't blow\", 'wifes birthday weekend', '\\\\n $', 'cocktails ... ...']\n",
      "==========================Sentiment :) / :( =============================\n",
      "==========================Tags=============================\n",
      "[('The', 'DT'), ('Meatball', 'NNP'), ('Spot', 'NNP'), ('was', 'VBD'), ('okay', 'RB'), ('not', 'RB'), ('great', 'JJ'), ('not', 'RB'), ('terrible', 'JJ'), ('just', 'RB'), ('okay', 'NN'), ('I', 'PRP'), ('think', 'VBP'), ('it', 'PRP'), ('has', 'VBZ'), ('a', 'DT'), ('good', 'JJ'), ('vibe', 'NN'), ('and', 'CC'), ('good', 'JJ'), ('concept', 'NN'), ('but', 'CC'), ('based', 'VBN'), ('on', 'IN'), ('what', 'WP'), ('I', 'PRP'), ('ordered', 'VBD'), ('I', 'PRP'), ('think', 'VBP'), ('their', 'PRP$'), ('food', 'NN'), ('is', 'VBZ'), ('just', 'RB'), ('so-so', 'JJ'), ('I', 'PRP'), ('ordered', 'VBD'), ('the', 'DT'), ('turkey', 'NN'), ('meatballs', 'VBZ'), ('with', 'IN'), ('the', 'DT'), ('classic', 'JJ'), ('tomato', 'NN'), ('sauce', 'NN'), ('I', 'PRP'), ('also', 'RB'), ('ordered', 'VBD'), ('a', 'DT'), ('side', 'NN'), ('of', 'IN'), ('Parmesan', 'NNP'), ('fries', 'NNS'), ('The', 'DT'), ('meatballs', 'NNS'), ('did', 'VBD'), (\"n't\", 'RB'), ('wow', 'VB'), ('me', 'PRP'), ('They', 'PRP'), ('were', 'VBD'), ('very', 'RB'), ('very', 'RB'), ('dry', 'JJ'), ('and', 'CC'), ('did', 'VBD'), (\"n't\", 'RB'), ('have', 'VB'), ('enough', 'JJ'), ('flavor', 'NN'), ('There', 'EX'), ('was', 'VBD'), ('nothing', 'NN'), ('to', 'TO'), ('make', 'VB'), ('me', 'PRP'), ('want', 'VB'), ('more', 'RBR'), ('The', 'DT'), ('classic', 'JJ'), ('tomato', 'NN'), ('sauce', 'NN'), ('was', 'VBD'), ('okay', 'RB'), ('I', 'PRP'), ('liked', 'VBD'), ('the', 'DT'), ('texture', 'NN'), ('of', 'IN'), ('the', 'DT'), ('crispy', 'NN'), ('fries', 'NNS'), ('but', 'CC'), ('they', 'PRP'), ('did', 'VBD'), (\"n't\", 'RB'), ('have', 'VB'), ('much', 'JJ'), ('flavor', 'NN'), ('either', 'RB'), ('They', 'PRP'), ('had', 'VBD'), ('parmesan', 'VBN'), ('sprinkled', 'VBN'), ('on', 'IN'), ('top', 'NN'), ('but', 'CC'), ('nothing', 'NN'), ('stuck', 'NN'), ('to', 'TO'), ('the', 'DT'), ('fries', 'NNS'), ('There', 'EX'), ('was', 'VBD'), ('also', 'RB'), ('only', 'RB'), ('a', 'DT'), ('hint', 'NN'), ('of', 'IN'), ('garlic', 'NN'), ('Just', 'RB'), ('not', 'RB'), ('enough', 'JJ'), ('flavor', 'NN'), ('\\\\n\\\\nIt', 'RB'), ('seems', 'VBZ'), ('like', 'IN'), ('it', 'PRP'), ('would', 'MD'), ('be', 'VB'), ('fun', 'VBN'), ('during', 'IN'), ('happy', 'JJ'), ('hour', 'NN'), ('but', 'CC'), ('until', 'IN'), ('their', 'PRP$'), ('signature', 'NN'), ('meatballs', 'NNS'), ('improve', 'VBP'), ('I', 'PRP'), ('wo', 'MD'), (\"n't\", 'RB'), ('be', 'VB'), ('back', 'RB')]\n",
      "==========================Nouns=============================\n",
      "['meatball', 'good vibe', 'good concept', 'turkey meatballs', 'classic tomato sauce', 'parmesan', \"n't wow\", 'classic tomato sauce', 'crispy fries', 'happy hour', 'signature meatballs', \"wo n't\"]\n",
      "==========================Sentiment :) / :( =============================\n"
     ]
    }
   ],
   "source": [
    "for review in sample_reviews:\n",
    "    r_meta = TextBlob(review)\n",
    "    print(\"==========================Tags=============================\")\n",
    "    print(r_meta.tags)\n",
    "    print(\"==========================Nouns=============================\")\n",
    "    print(r_meta.noun_phrases)\n",
    "    print(\"==========================Sentiment :) / :( =============================\")\n",
    "    \n",
    "    "
   ]
  },
  {
   "cell_type": "code",
   "execution_count": 103,
   "metadata": {},
   "outputs": [
    {
     "data": {
      "text/plain": [
       "'Great all you can eat Korean BBQ. Very clean, good food, our server Jay-Ar was great and very attentive to his customers. I would highly recommend this place.'"
      ]
     },
     "execution_count": 103,
     "metadata": {},
     "output_type": "execute_result"
    }
   ],
   "source": [
    "sample_reviews[0]\n"
   ]
  },
  {
   "cell_type": "code",
   "execution_count": 100,
   "metadata": {},
   "outputs": [
    {
     "data": {
      "text/plain": [
       "\"I love this place. i really do. the food is pretty good, but this time just sucked....... Checked in, was told it was 15-30 minutes for an outside patio table. Weather was perfect, so we decided to wait. 45 minutes later (with my buzzer in hand) i was told my reservation was lost and i'd have the next available table.\\\\nStrolling through the restaurant, passing a table for 2 at the outside rail, we were seated at a table for 4 right next to the goddamn server station. \\\\nFor an hour i was continuously bumped and kicked by servers sitting here and the ONLY reason i didn't blow up, is because this was my wifes birthday weekend and she specifically wanted to go here. \\\\n$150 for lunch, including cocktails......\""
      ]
     },
     "execution_count": 100,
     "metadata": {},
     "output_type": "execute_result"
    }
   ],
   "source": [
    "sample_reviews[4]\n"
   ]
  },
  {
   "cell_type": "code",
   "execution_count": 101,
   "metadata": {},
   "outputs": [
    {
     "data": {
      "text/plain": [
       "\"The hoover dam kayaking tour was great. No problems at all- the entire trip was smooth and efficient. We paddled the entire day, hiked to the hot spring and more paddling and hiking! Our tour guy, Alex was excellent. He is very knowledgeable, friendly and helped us take pictures along the way. We had Mcdonalds breakfast and some Arby's sandwiches, grapes, crackers for lunch; and an abundant supply of water during the entire trip. Very enjoyable!\""
      ]
     },
     "execution_count": 101,
     "metadata": {},
     "output_type": "execute_result"
    }
   ],
   "source": [
    "sample_reviews[2]"
   ]
  },
  {
   "cell_type": "markdown",
   "metadata": {},
   "source": [
    "#### Sentimental Analysis on some sample review"
   ]
  },
  {
   "cell_type": "code",
   "execution_count": 102,
   "metadata": {},
   "outputs": [
    {
     "name": "stdout",
     "output_type": "stream",
     "text": [
      "Happy  57.611111111111114\n",
      "Sad 16.602564102564102\n",
      "Happy  42.1875\n",
      "Sad 36.66666666666667\n",
      "Sad 25.659340659340657\n",
      "Sad 29.746031746031743\n"
     ]
    }
   ],
   "source": [
    "for review in sample_reviews:\n",
    "    if TextBlob(review).sentiment.polarity > 0.4:\n",
    "        print(\"Happy \",TextBlob(review).sentiment.polarity*100)\n",
    "    else:\n",
    "        print(\"Sad\",TextBlob(review).sentiment.polarity*100)"
   ]
  },
  {
   "cell_type": "markdown",
   "metadata": {},
   "source": [
    "list of todos\n",
    "- correct the spelling on all reviews as much as possible\n",
    "- Apply Naive bayes\n",
    "\n",
    "<p style=\"color:red\"> learn the below topics from http://textblob.readthedocs.io/en/dev/quickstart.html </p>\n",
    "Tutorial: Quickstart\n",
    "\n",
    "    Create a TextBlob\n",
    "    Part-of-speech Tagging\n",
    "    Noun Phrase Extraction\n",
    "    Sentiment Analysis\n",
    "    Tokenization\n",
    "    Words Inflection and Lemmatization\n",
    "    WordNet Integration\n",
    "    WordLists\n",
    "    Spelling Correction\n",
    "    Get Word and Noun Phrase Frequencies\n",
    "    Translation and Language Detection\n",
    "    Parsing\n",
    "    TextBlobs Are Like Python Strings!\n",
    "    n-grams\n",
    "    Get Start and End Indices of Sentences\n",
    "\n",
    "\n"
   ]
  },
  {
   "cell_type": "code",
   "execution_count": 40,
   "metadata": {},
   "outputs": [
    {
     "data": {
      "text/plain": [
       "TextBlob(\"I have good spelling!\")"
      ]
     },
     "execution_count": 40,
     "metadata": {},
     "output_type": "execute_result"
    }
   ],
   "source": [
    "# example for spelling correction\n",
    "b = TextBlob(\"I havv goood speling!\")\n",
    "b.correct()"
   ]
  },
  {
   "cell_type": "markdown",
   "metadata": {},
   "source": [
    "### Section 3: Classification of Model"
   ]
  },
  {
   "cell_type": "markdown",
   "metadata": {},
   "source": [
    "example http://textblob.readthedocs.io/en/dev/classifiers.html#classifiers"
   ]
  },
  {
   "cell_type": "code",
   "execution_count": 33,
   "metadata": {},
   "outputs": [],
   "source": [
    ">>> train = [\n",
    "...     ('I love this sandwich.', 'pos'),\n",
    "...     ('this is an amazing place!', 'pos'),\n",
    "...     ('I feel very good about these beers.', 'pos'),\n",
    "...     ('this is my best work.', 'pos'),\n",
    "...     (\"what an awesome view\", 'pos'),\n",
    "...     ('I do not like this restaurant', 'neg'),\n",
    "...     ('I am tired of this stuff.', 'neg'),\n",
    "...     (\"I can't deal with this\", 'neg'),\n",
    "...     ('he is my sworn enemy!', 'neg'),\n",
    "...     ('my boss is horrible.', 'neg'),\n",
    "        ('I hate this place.','neg')\n",
    "... ]\n",
    ">>> test = [\n",
    "...     ('the beer was good.', 'pos'),\n",
    "...     ('I do not enjoy my job', 'neg'),\n",
    "...     (\"I ain't feeling dandy today.\", 'neg'),\n",
    "...     (\"I feel amazing!\", 'pos'),\n",
    "...     ('Gary is a friend of mine.', 'pos'),\n",
    "...     (\"I can't believe I'm doing this.\", 'neg')\n",
    "... ]"
   ]
  },
  {
   "cell_type": "code",
   "execution_count": 17,
   "metadata": {},
   "outputs": [],
   "source": [
    "def create_ds_train():\n",
    "    ds_train = [] # empty list \n",
    "    for index, row in ds.iterrows():\n",
    "        if row[\"stars\"] >= 4 :\n",
    "            ds_train.append((clean_text(TextBlob(row[\"text\"]).correct()), 'pos')) # append \n",
    "        else:\n",
    "            ds_train.append((clean_text(TextBlob(row[\"text\"]).correct()), 'neg'))\n",
    "    return ds_train\n",
    "\n"
   ]
  },
  {
   "cell_type": "code",
   "execution_count": 19,
   "metadata": {},
   "outputs": [],
   "source": [
    "from textblob.classifiers import NaiveBayesClassifier\n",
    "cl = NaiveBayesClassifier(create_ds_train())"
   ]
  },
  {
   "cell_type": "code",
   "execution_count": 20,
   "metadata": {},
   "outputs": [
    {
     "data": {
      "text/plain": [
       "'pos'"
      ]
     },
     "execution_count": 20,
     "metadata": {},
     "output_type": "execute_result"
    }
   ],
   "source": [
    "cl.classify(\"This is library!\")\n"
   ]
  },
  {
   "cell_type": "code",
   "execution_count": 21,
   "metadata": {},
   "outputs": [
    {
     "data": {
      "text/plain": [
       "'pos'"
      ]
     },
     "execution_count": 21,
     "metadata": {},
     "output_type": "execute_result"
    }
   ],
   "source": [
    "cl.classify(\"I hate the ambience\")\n",
    "\n",
    "\n",
    "\n"
   ]
  },
  {
   "cell_type": "code",
   "execution_count": 22,
   "metadata": {},
   "outputs": [
    {
     "data": {
      "text/plain": [
       "'pos'"
      ]
     },
     "execution_count": 22,
     "metadata": {},
     "output_type": "execute_result"
    }
   ],
   "source": [
    "cl.classify(\"my day was horrible\")"
   ]
  },
  {
   "cell_type": "code",
   "execution_count": 23,
   "metadata": {},
   "outputs": [
    {
     "data": {
      "text/plain": [
       "'pos'"
      ]
     },
     "execution_count": 23,
     "metadata": {},
     "output_type": "execute_result"
    }
   ],
   "source": [
    "cl.classify(\"gross\")"
   ]
  },
  {
   "cell_type": "code",
   "execution_count": 24,
   "metadata": {},
   "outputs": [
    {
     "name": "stdout",
     "output_type": "stream",
     "text": [
      "Most Informative Features\n",
      "         contains(great) = True              pos : neg    =      6.0 : 1.0\n",
      "      contains(friendly) = True              pos : neg    =      5.7 : 1.0\n",
      "             contains(o) = True              neg : pos    =      5.7 : 1.0\n",
      "           contains(pay) = True              neg : pos    =      5.7 : 1.0\n",
      "      contains(terrible) = True              neg : pos    =      5.7 : 1.0\n",
      "      contains(customer) = True              neg : pos    =      5.0 : 1.0\n",
      "       contains(weekend) = True              neg : pos    =      4.5 : 1.0\n",
      "           contains(due) = True              neg : pos    =      4.5 : 1.0\n",
      "          contains(stay) = True              neg : pos    =      4.5 : 1.0\n",
      "         contains(hotel) = True              neg : pos    =      4.5 : 1.0\n"
     ]
    }
   ],
   "source": [
    "cl.show_informative_features()  "
   ]
  },
  {
   "cell_type": "code",
   "execution_count": 73,
   "metadata": {},
   "outputs": [
    {
     "data": {
      "text/plain": [
       "0.8333333333333334"
      ]
     },
     "execution_count": 73,
     "metadata": {},
     "output_type": "execute_result"
    }
   ],
   "source": [
    "cl.accuracy(test)"
   ]
  },
  {
   "cell_type": "code",
   "execution_count": 74,
   "metadata": {},
   "outputs": [
    {
     "data": {
      "text/plain": [
       "[('the beer was good.', 'pos'),\n",
       " ('I do not enjoy my job', 'neg'),\n",
       " (\"I ain't feeling dandy today.\", 'neg'),\n",
       " ('I feel amazing!', 'pos'),\n",
       " ('Gary is a friend of mine.', 'pos'),\n",
       " (\"I can't believe I'm doing this.\", 'neg')]"
      ]
     },
     "execution_count": 74,
     "metadata": {},
     "output_type": "execute_result"
    }
   ],
   "source": [
    "test"
   ]
  },
  {
   "cell_type": "code",
   "execution_count": 75,
   "metadata": {},
   "outputs": [
    {
     "data": {
      "text/plain": [
       "[('I love this sandwich.', 'pos'),\n",
       " ('this is an amazing place!', 'pos'),\n",
       " ('I feel very good about these beers.', 'pos'),\n",
       " ('this is my best work.', 'pos'),\n",
       " ('what an awesome view', 'pos'),\n",
       " ('I do not like this restaurant', 'neg'),\n",
       " ('I am tired of this stuff.', 'neg'),\n",
       " (\"I can't deal with this\", 'neg'),\n",
       " ('he is my sworn enemy!', 'neg'),\n",
       " ('my boss is horrible.', 'neg'),\n",
       " ('I hate this place.', 'neg')]"
      ]
     },
     "execution_count": 75,
     "metadata": {},
     "output_type": "execute_result"
    }
   ],
   "source": [
    "train "
   ]
  },
  {
   "cell_type": "code",
   "execution_count": 116,
   "metadata": {},
   "outputs": [],
   "source": [
    "test1 = [\n",
    "...\n",
    "...     (\"love\", 'pos'),\n",
    "...     (\"super!\", 'neg')\n",
    "...     \n",
    "    \n",
    "    \n",
    "... ]"
   ]
  },
  {
   "cell_type": "code",
   "execution_count": 117,
   "metadata": {},
   "outputs": [
    {
     "data": {
      "text/plain": [
       "1.0"
      ]
     },
     "execution_count": 117,
     "metadata": {},
     "output_type": "execute_result"
    }
   ],
   "source": [
    "cl.accuracy(test1)\n"
   ]
  },
  {
   "cell_type": "code",
   "execution_count": 98,
   "metadata": {},
   "outputs": [
    {
     "data": {
      "text/plain": [
       "'pos'"
      ]
     },
     "execution_count": 98,
     "metadata": {},
     "output_type": "execute_result"
    }
   ],
   "source": [
    "cl.classify(test1[0])\n",
    "\n"
   ]
  },
  {
   "cell_type": "code",
   "execution_count": 89,
   "metadata": {},
   "outputs": [
    {
     "data": {
      "text/plain": [
       "('I am creepy', 'neg')"
      ]
     },
     "execution_count": 89,
     "metadata": {},
     "output_type": "execute_result"
    }
   ],
   "source": [
    "test1[1]"
   ]
  },
  {
   "cell_type": "code",
   "execution_count": 90,
   "metadata": {},
   "outputs": [
    {
     "data": {
      "text/plain": [
       "'neg'"
      ]
     },
     "execution_count": 90,
     "metadata": {},
     "output_type": "execute_result"
    }
   ],
   "source": [
    "cl.classify(\"I am creepy\")"
   ]
  },
  {
   "cell_type": "markdown",
   "metadata": {},
   "source": [
    "Accuracy = (TP + TN) / (TP + TN + FP + FN)\n",
    "With TP, FP, TN, FN being number of true positives, false positives, true negatives and false negatives, respectively."
   ]
  },
  {
   "cell_type": "code",
   "execution_count": 99,
   "metadata": {},
   "outputs": [
    {
     "data": {
      "text/plain": [
       "0.5"
      ]
     },
     "execution_count": 99,
     "metadata": {},
     "output_type": "execute_result"
    }
   ],
   "source": [
    "cl.accuracy(test1)"
   ]
  },
  {
   "cell_type": "code",
   "execution_count": 107,
   "metadata": {},
   "outputs": [
    {
     "data": {
      "text/plain": [
       "'pos'"
      ]
     },
     "execution_count": 107,
     "metadata": {},
     "output_type": "execute_result"
    }
   ],
   "source": [
    "cl.classify(\" the place is amazing\")"
   ]
  },
  {
   "cell_type": "code",
   "execution_count": 88,
   "metadata": {},
   "outputs": [
    {
     "data": {
      "text/plain": [
       "[('i', 'JJ'), ('hate', 'VBP'), ('mountain', 'NN')]"
      ]
     },
     "execution_count": 88,
     "metadata": {},
     "output_type": "execute_result"
    }
   ],
   "source": [
    "import nltk\n",
    ">>> nltk.tag.pos_tag(\"i hate mountain\".split())"
   ]
  },
  {
   "cell_type": "code",
   "execution_count": 98,
   "metadata": {},
   "outputs": [
    {
     "name": "stdout",
     "output_type": "stream",
     "text": [
      "I do not like this\n"
     ]
    }
   ],
   "source": [
    "import nltk\n",
    "sentence = \"I do not like this restaurant \"                      \n",
    "nltk.tag.pos_tag(sentence.split())\n",
    "tagged_sentence = nltk.tag.pos_tag(sentence.split())\n",
    "edited_sentence = [word for word,tag in tagged_sentence if tag != 'NNP' and tag != 'NNS' and tag !='NNPS' and tag !='NN']\n",
    "print(' '.join(edited_sentence))\n",
    "\n",
    "\n"
   ]
  },
  {
   "cell_type": "code",
   "execution_count": null,
   "metadata": {},
   "outputs": [],
   "source": []
  }
 ],
 "metadata": {
  "kernelspec": {
   "display_name": "Python [default]",
   "language": "python",
   "name": "python3"
  },
  "language_info": {
   "codemirror_mode": {
    "name": "ipython",
    "version": 3
   },
   "file_extension": ".py",
   "mimetype": "text/x-python",
   "name": "python",
   "nbconvert_exporter": "python",
   "pygments_lexer": "ipython3",
   "version": "3.6.4"
  }
 },
 "nbformat": 4,
 "nbformat_minor": 2
}
