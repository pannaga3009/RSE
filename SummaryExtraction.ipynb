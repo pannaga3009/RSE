{
 "cells": [
  {
   "cell_type": "code",
   "execution_count": 2,
   "metadata": {},
   "outputs": [],
   "source": [
    "import pandas as pd"
   ]
  },
  {
   "cell_type": "markdown",
   "metadata": {},
   "source": [
    "### Train Dataset"
   ]
  },
  {
   "cell_type": "code",
   "execution_count": 3,
   "metadata": {},
   "outputs": [],
   "source": [
    "ds = pd.read_csv(\"data/train/small.csv\")"
   ]
  },
  {
   "cell_type": "code",
   "execution_count": 4,
   "metadata": {},
   "outputs": [
    {
     "data": {
      "text/html": [
       "<div>\n",
       "<style scoped>\n",
       "    .dataframe tbody tr th:only-of-type {\n",
       "        vertical-align: middle;\n",
       "    }\n",
       "\n",
       "    .dataframe tbody tr th {\n",
       "        vertical-align: top;\n",
       "    }\n",
       "\n",
       "    .dataframe thead th {\n",
       "        text-align: right;\n",
       "    }\n",
       "</style>\n",
       "<table border=\"1\" class=\"dataframe\">\n",
       "  <thead>\n",
       "    <tr style=\"text-align: right;\">\n",
       "      <th></th>\n",
       "      <th>_id</th>\n",
       "      <th>business_id</th>\n",
       "      <th>review_id</th>\n",
       "      <th>stars</th>\n",
       "      <th>text</th>\n",
       "      <th>useful</th>\n",
       "    </tr>\n",
       "  </thead>\n",
       "  <tbody>\n",
       "    <tr>\n",
       "      <th>0</th>\n",
       "      <td>5ad77a48d209ba1dce460064</td>\n",
       "      <td>eLFfWcdb7VkqNyTONksHiQ</td>\n",
       "      <td>7ECYfYWSx5_SEIYsDiCZ1A</td>\n",
       "      <td>5</td>\n",
       "      <td>Great all you can eat Korean BBQ. Very clean, ...</td>\n",
       "      <td>1</td>\n",
       "    </tr>\n",
       "    <tr>\n",
       "      <th>1</th>\n",
       "      <td>5ad77a94d209ba1dce5c7096</td>\n",
       "      <td>Yp9w4nhUowBU_IS_StFXbQ</td>\n",
       "      <td>uBkU8wLvQCCCL0TZ8ESLaw</td>\n",
       "      <td>5</td>\n",
       "      <td>This place is sort of hidden.  It's behind the...</td>\n",
       "      <td>1</td>\n",
       "    </tr>\n",
       "    <tr>\n",
       "      <th>2</th>\n",
       "      <td>5ad77b87d209ba1dce91f888</td>\n",
       "      <td>5md4i4diIWMNYQgHMj_Nbg</td>\n",
       "      <td>4xlVPqc8nuEWeIQYCL0FEA</td>\n",
       "      <td>5</td>\n",
       "      <td>The hoover dam kayaking tour was great. No pro...</td>\n",
       "      <td>0</td>\n",
       "    </tr>\n",
       "    <tr>\n",
       "      <th>3</th>\n",
       "      <td>5ad77aead209ba1dce6dccd7</td>\n",
       "      <td>XBEx2FI2GKmsjs7eWNr7Lw</td>\n",
       "      <td>CyaJqWU8bmaEPLWgxekAOg</td>\n",
       "      <td>5</td>\n",
       "      <td>Awesome acai bowls. As a cheesecake lover, I w...</td>\n",
       "      <td>1</td>\n",
       "    </tr>\n",
       "  </tbody>\n",
       "</table>\n",
       "</div>"
      ],
      "text/plain": [
       "                        _id             business_id               review_id  \\\n",
       "0  5ad77a48d209ba1dce460064  eLFfWcdb7VkqNyTONksHiQ  7ECYfYWSx5_SEIYsDiCZ1A   \n",
       "1  5ad77a94d209ba1dce5c7096  Yp9w4nhUowBU_IS_StFXbQ  uBkU8wLvQCCCL0TZ8ESLaw   \n",
       "2  5ad77b87d209ba1dce91f888  5md4i4diIWMNYQgHMj_Nbg  4xlVPqc8nuEWeIQYCL0FEA   \n",
       "3  5ad77aead209ba1dce6dccd7  XBEx2FI2GKmsjs7eWNr7Lw  CyaJqWU8bmaEPLWgxekAOg   \n",
       "\n",
       "   stars                                               text  useful  \n",
       "0      5  Great all you can eat Korean BBQ. Very clean, ...       1  \n",
       "1      5  This place is sort of hidden.  It's behind the...       1  \n",
       "2      5  The hoover dam kayaking tour was great. No pro...       0  \n",
       "3      5  Awesome acai bowls. As a cheesecake lover, I w...       1  "
      ]
     },
     "execution_count": 4,
     "metadata": {},
     "output_type": "execute_result"
    }
   ],
   "source": [
    "ds.head(4)"
   ]
  },
  {
   "cell_type": "markdown",
   "metadata": {},
   "source": [
    "### Test Dataset"
   ]
  },
  {
   "cell_type": "code",
   "execution_count": 6,
   "metadata": {},
   "outputs": [],
   "source": [
    "TEST_FILE = 'data/test/10.json'\n",
    "\n",
    "import json\n",
    "with open(TEST_FILE,'r') as json_file:    \n",
    "    data = json.load(json_file)\n",
    "\n",
    "count = 0 \n",
    "for review in data[\"yelp\"][0][\"reviews\"]:\n",
    "    print(\"-----------------------------------------------------\")\n",
    "    print(review[\"text\"])\n",
    "    print(\"Rating: \",review[\"ratings\"])\n",
    "    count += 1\n",
    "    if count == 3:\n",
    "        break"
   ]
  },
  {
   "cell_type": "markdown",
   "metadata": {},
   "source": [
    "### Other Variations of Train Set in size"
   ]
  },
  {
   "cell_type": "code",
   "execution_count": 8,
   "metadata": {},
   "outputs": [
    {
     "data": {
      "text/plain": [
       "(50000, 6)"
      ]
     },
     "execution_count": 8,
     "metadata": {},
     "output_type": "execute_result"
    }
   ],
   "source": [
    "d = pd.read_csv(\"data/train/50K.csv\")\n",
    "d.shape"
   ]
  },
  {
   "cell_type": "code",
   "execution_count": 9,
   "metadata": {},
   "outputs": [
    {
     "data": {
      "text/plain": [
       "(10000, 6)"
      ]
     },
     "execution_count": 9,
     "metadata": {},
     "output_type": "execute_result"
    }
   ],
   "source": [
    "d = pd.read_csv(\"data/train/10K.csv\")\n",
    "d.shape"
   ]
  },
  {
   "cell_type": "code",
   "execution_count": 10,
   "metadata": {},
   "outputs": [],
   "source": [
    "d[\"indicator\"] = d[\"useful\"]  * d[\"stars\"] +1"
   ]
  },
  {
   "cell_type": "code",
   "execution_count": 11,
   "metadata": {},
   "outputs": [
    {
     "data": {
      "text/html": [
       "<div>\n",
       "<style scoped>\n",
       "    .dataframe tbody tr th:only-of-type {\n",
       "        vertical-align: middle;\n",
       "    }\n",
       "\n",
       "    .dataframe tbody tr th {\n",
       "        vertical-align: top;\n",
       "    }\n",
       "\n",
       "    .dataframe thead th {\n",
       "        text-align: right;\n",
       "    }\n",
       "</style>\n",
       "<table border=\"1\" class=\"dataframe\">\n",
       "  <thead>\n",
       "    <tr style=\"text-align: right;\">\n",
       "      <th></th>\n",
       "      <th>_id</th>\n",
       "      <th>business_id</th>\n",
       "      <th>review_id</th>\n",
       "      <th>stars</th>\n",
       "      <th>text</th>\n",
       "      <th>useful</th>\n",
       "      <th>indicator</th>\n",
       "    </tr>\n",
       "  </thead>\n",
       "  <tbody>\n",
       "    <tr>\n",
       "      <th>0</th>\n",
       "      <td>5ad77a66d209ba1dce5030b2</td>\n",
       "      <td>kcF-en40P3J9L8nLy5lKqQ</td>\n",
       "      <td>XJEz7zcJzwMWyoAv22hIvQ</td>\n",
       "      <td>5</td>\n",
       "      <td>Everything about Central Bistro was fantastic!...</td>\n",
       "      <td>3</td>\n",
       "      <td>16</td>\n",
       "    </tr>\n",
       "    <tr>\n",
       "      <th>1</th>\n",
       "      <td>5ad77b05d209ba1dce748580</td>\n",
       "      <td>ZibmYdOPKLlqDM9oR6xzOA</td>\n",
       "      <td>RX_u02e8FSaGeV2CEP5B9g</td>\n",
       "      <td>4</td>\n",
       "      <td>Went before 6pm, before the dinner crowd and h...</td>\n",
       "      <td>0</td>\n",
       "      <td>1</td>\n",
       "    </tr>\n",
       "    <tr>\n",
       "      <th>2</th>\n",
       "      <td>5ad77b1fd209ba1dce7a37dd</td>\n",
       "      <td>LXrSnbUlEnw_fI7A2Dpp9Q</td>\n",
       "      <td>Jc3j0FGT_KWXhA_UWgj9eg</td>\n",
       "      <td>4</td>\n",
       "      <td>I shop at Nordstrom somewhat regularly.\\n\\nA b...</td>\n",
       "      <td>12</td>\n",
       "      <td>49</td>\n",
       "    </tr>\n",
       "    <tr>\n",
       "      <th>3</th>\n",
       "      <td>5ad77ac3d209ba1dce66dbde</td>\n",
       "      <td>66jwLkSd6M0cZulZrA3zcw</td>\n",
       "      <td>EMIWAZ_WKD-_d4VQOEQRQg</td>\n",
       "      <td>5</td>\n",
       "      <td>Came for dinner, it happened to be late night ...</td>\n",
       "      <td>0</td>\n",
       "      <td>1</td>\n",
       "    </tr>\n",
       "    <tr>\n",
       "      <th>4</th>\n",
       "      <td>5ad77abfd209ba1dce65da1c</td>\n",
       "      <td>hhLKp8ilQac7M5UTTpnPnQ</td>\n",
       "      <td>V6KzjQzd38q_1i3Ghpurzw</td>\n",
       "      <td>5</td>\n",
       "      <td>I am VERY particular about getting my nails do...</td>\n",
       "      <td>5</td>\n",
       "      <td>26</td>\n",
       "    </tr>\n",
       "  </tbody>\n",
       "</table>\n",
       "</div>"
      ],
      "text/plain": [
       "                        _id             business_id               review_id  \\\n",
       "0  5ad77a66d209ba1dce5030b2  kcF-en40P3J9L8nLy5lKqQ  XJEz7zcJzwMWyoAv22hIvQ   \n",
       "1  5ad77b05d209ba1dce748580  ZibmYdOPKLlqDM9oR6xzOA  RX_u02e8FSaGeV2CEP5B9g   \n",
       "2  5ad77b1fd209ba1dce7a37dd  LXrSnbUlEnw_fI7A2Dpp9Q  Jc3j0FGT_KWXhA_UWgj9eg   \n",
       "3  5ad77ac3d209ba1dce66dbde  66jwLkSd6M0cZulZrA3zcw  EMIWAZ_WKD-_d4VQOEQRQg   \n",
       "4  5ad77abfd209ba1dce65da1c  hhLKp8ilQac7M5UTTpnPnQ  V6KzjQzd38q_1i3Ghpurzw   \n",
       "\n",
       "   stars                                               text  useful  indicator  \n",
       "0      5  Everything about Central Bistro was fantastic!...       3         16  \n",
       "1      4  Went before 6pm, before the dinner crowd and h...       0          1  \n",
       "2      4  I shop at Nordstrom somewhat regularly.\\n\\nA b...      12         49  \n",
       "3      5  Came for dinner, it happened to be late night ...       0          1  \n",
       "4      5  I am VERY particular about getting my nails do...       5         26  "
      ]
     },
     "execution_count": 11,
     "metadata": {},
     "output_type": "execute_result"
    }
   ],
   "source": [
    "d.head()"
   ]
  },
  {
   "cell_type": "markdown",
   "metadata": {},
   "source": [
    "REMOVE STOPWORDS"
   ]
  },
  {
   "cell_type": "code",
   "execution_count": 54,
   "metadata": {},
   "outputs": [],
   "source": [
    "from nltk.corpus import stopwords\n",
    "def clean_text(text, remove_stopwords = True):\n",
    "    \n",
    "    \n",
    "    # Convert words to lower case\n",
    "    text = text.lower()\n",
    "    \n",
    "# A Python library for expanding and creating common English contractions in text. \n",
    "#This is very useful for dimensionality reduction by normalizing the text before generating word or character vectors. \n",
    "#It performs contraction by simple replacement rules of the commonly used English contractions.\n",
    "#Replace contractions with their longer forms \n",
    "    \n",
    "    \n",
    "    # Optionally, remove stop words\n",
    "    if remove_stopwords:\n",
    "        text = text.split()\n",
    "        stops = set(stopwords.words(\"english\"))\n",
    "        text = [w for w in text if not w in stops]\n",
    "        text = \" \".join(text)\n",
    "\n",
    "    return text"
   ]
  },
  {
   "cell_type": "code",
   "execution_count": 55,
   "metadata": {},
   "outputs": [
    {
     "data": {
      "text/plain": [
       "'love place'"
      ]
     },
     "execution_count": 55,
     "metadata": {},
     "output_type": "execute_result"
    }
   ],
   "source": [
    "clean_text(\"I love this place\")\n",
    "    "
   ]
  },
  {
   "cell_type": "markdown",
   "metadata": {},
   "source": [
    "### Section 2 : Cleaning the Data\n",
    "Pre-requirements\n",
    "\n",
    "<p> Initiate the command <span style=\"color:red\"> pip install TextBlob </span> from the terminal </p>\n",
    "- http://textblob.readthedocs.io/en/dev/\n",
    "\n",
    "<pre>\n",
    "**********************************************************************\n",
    "  Resource punkt not found.\n",
    "  Please use the NLTK Downloader to obtain the resource:\n",
    "\n",
    "  >>> import nltk\n",
    "  >>> nltk.download('punkt')\n",
    "**********************************************************************\n",
    "</pre>"
   ]
  },
  {
   "cell_type": "code",
   "execution_count": 56,
   "metadata": {},
   "outputs": [
    {
     "name": "stdout",
     "output_type": "stream",
     "text": [
      "[nltk_data] Downloading package averaged_perceptron_tagger to\n",
      "[nltk_data]     /Users/pannaga/nltk_data...\n",
      "[nltk_data]   Package averaged_perceptron_tagger is already up-to-\n",
      "[nltk_data]       date!\n",
      "[nltk_data] Downloading package brown to /Users/pannaga/nltk_data...\n",
      "[nltk_data]   Package brown is already up-to-date!\n"
     ]
    },
    {
     "data": {
      "text/plain": [
       "True"
      ]
     },
     "execution_count": 56,
     "metadata": {},
     "output_type": "execute_result"
    }
   ],
   "source": [
    "from textblob import TextBlob\n",
    "import nltk\n",
    "nltk.download('averaged_perceptron_tagger')\n",
    "nltk.download('brown')"
   ]
  },
  {
   "cell_type": "code",
   "execution_count": 57,
   "metadata": {},
   "outputs": [
    {
     "data": {
      "text/html": [
       "<div>\n",
       "<style scoped>\n",
       "    .dataframe tbody tr th:only-of-type {\n",
       "        vertical-align: middle;\n",
       "    }\n",
       "\n",
       "    .dataframe tbody tr th {\n",
       "        vertical-align: top;\n",
       "    }\n",
       "\n",
       "    .dataframe thead th {\n",
       "        text-align: right;\n",
       "    }\n",
       "</style>\n",
       "<table border=\"1\" class=\"dataframe\">\n",
       "  <thead>\n",
       "    <tr style=\"text-align: right;\">\n",
       "      <th></th>\n",
       "      <th>_id</th>\n",
       "      <th>business_id</th>\n",
       "      <th>review_id</th>\n",
       "      <th>stars</th>\n",
       "      <th>text</th>\n",
       "      <th>useful</th>\n",
       "    </tr>\n",
       "  </thead>\n",
       "  <tbody>\n",
       "    <tr>\n",
       "      <th>0</th>\n",
       "      <td>5ad77a48d209ba1dce460064</td>\n",
       "      <td>eLFfWcdb7VkqNyTONksHiQ</td>\n",
       "      <td>7ECYfYWSx5_SEIYsDiCZ1A</td>\n",
       "      <td>5</td>\n",
       "      <td>Great all you can eat Korean BBQ. Very clean, ...</td>\n",
       "      <td>1</td>\n",
       "    </tr>\n",
       "    <tr>\n",
       "      <th>1</th>\n",
       "      <td>5ad77a94d209ba1dce5c7096</td>\n",
       "      <td>Yp9w4nhUowBU_IS_StFXbQ</td>\n",
       "      <td>uBkU8wLvQCCCL0TZ8ESLaw</td>\n",
       "      <td>5</td>\n",
       "      <td>This place is sort of hidden.  It's behind the...</td>\n",
       "      <td>1</td>\n",
       "    </tr>\n",
       "    <tr>\n",
       "      <th>2</th>\n",
       "      <td>5ad77b87d209ba1dce91f888</td>\n",
       "      <td>5md4i4diIWMNYQgHMj_Nbg</td>\n",
       "      <td>4xlVPqc8nuEWeIQYCL0FEA</td>\n",
       "      <td>5</td>\n",
       "      <td>The hoover dam kayaking tour was great. No pro...</td>\n",
       "      <td>0</td>\n",
       "    </tr>\n",
       "    <tr>\n",
       "      <th>3</th>\n",
       "      <td>5ad77aead209ba1dce6dccd7</td>\n",
       "      <td>XBEx2FI2GKmsjs7eWNr7Lw</td>\n",
       "      <td>CyaJqWU8bmaEPLWgxekAOg</td>\n",
       "      <td>5</td>\n",
       "      <td>Awesome acai bowls. As a cheesecake lover, I w...</td>\n",
       "      <td>1</td>\n",
       "    </tr>\n",
       "  </tbody>\n",
       "</table>\n",
       "</div>"
      ],
      "text/plain": [
       "                        _id             business_id               review_id  \\\n",
       "0  5ad77a48d209ba1dce460064  eLFfWcdb7VkqNyTONksHiQ  7ECYfYWSx5_SEIYsDiCZ1A   \n",
       "1  5ad77a94d209ba1dce5c7096  Yp9w4nhUowBU_IS_StFXbQ  uBkU8wLvQCCCL0TZ8ESLaw   \n",
       "2  5ad77b87d209ba1dce91f888  5md4i4diIWMNYQgHMj_Nbg  4xlVPqc8nuEWeIQYCL0FEA   \n",
       "3  5ad77aead209ba1dce6dccd7  XBEx2FI2GKmsjs7eWNr7Lw  CyaJqWU8bmaEPLWgxekAOg   \n",
       "\n",
       "   stars                                               text  useful  \n",
       "0      5  Great all you can eat Korean BBQ. Very clean, ...       1  \n",
       "1      5  This place is sort of hidden.  It's behind the...       1  \n",
       "2      5  The hoover dam kayaking tour was great. No pro...       0  \n",
       "3      5  Awesome acai bowls. As a cheesecake lover, I w...       1  "
      ]
     },
     "execution_count": 57,
     "metadata": {},
     "output_type": "execute_result"
    }
   ],
   "source": [
    "ds.head(4)"
   ]
  },
  {
   "cell_type": "markdown",
   "metadata": {},
   "source": [
    "First three review text"
   ]
  },
  {
   "cell_type": "code",
   "execution_count": 58,
   "metadata": {},
   "outputs": [],
   "source": [
    "sample_reviews = ds.loc[:5, \"text\"]"
   ]
  },
  {
   "cell_type": "code",
   "execution_count": 59,
   "metadata": {},
   "outputs": [
    {
     "data": {
      "text/plain": [
       "'Great all you can eat Korean BBQ. Very clean, good food, our server Jay-Ar was great and very attentive to his customers. I would highly recommend this place.'"
      ]
     },
     "execution_count": 59,
     "metadata": {},
     "output_type": "execute_result"
    }
   ],
   "source": [
    "sample_reviews[0]"
   ]
  },
  {
   "cell_type": "code",
   "execution_count": 60,
   "metadata": {},
   "outputs": [
    {
     "name": "stdout",
     "output_type": "stream",
     "text": [
      "==========================Tags=============================\n",
      "[('Great', 'NNP'), ('all', 'DT'), ('you', 'PRP'), ('can', 'MD'), ('eat', 'VB'), ('Korean', 'JJ'), ('BBQ', 'NNP'), ('Very', 'RB'), ('clean', 'JJ'), ('good', 'JJ'), ('food', 'NN'), ('our', 'PRP$'), ('server', 'JJ'), ('Jay-Ar', 'NNP'), ('was', 'VBD'), ('great', 'JJ'), ('and', 'CC'), ('very', 'RB'), ('attentive', 'JJ'), ('to', 'TO'), ('his', 'PRP$'), ('customers', 'NNS'), ('I', 'PRP'), ('would', 'MD'), ('highly', 'RB'), ('recommend', 'VB'), ('this', 'DT'), ('place', 'NN')]\n",
      "==========================Nouns=============================\n",
      "['korean bbq', 'good food', 'jay-ar']\n",
      "==========================Sentiment :) / :( =============================\n",
      "==========================Tags=============================\n",
      "[('This', 'DT'), ('place', 'NN'), ('is', 'VBZ'), ('sort', 'NN'), ('of', 'IN'), ('hidden', 'NN'), ('It', 'PRP'), (\"'s\", 'VBZ'), ('behind', 'IN'), ('the', 'DT'), ('tower', 'NN'), ('suites', 'VBZ'), ('so', 'RB'), ('you', 'PRP'), ('kind', 'NN'), ('of', 'IN'), ('have', 'NN'), ('to', 'TO'), ('look', 'VB'), ('for', 'IN'), ('it', 'PRP'), ('on', 'IN'), ('the', 'DT'), ('map', 'NN'), ('or', 'CC'), ('ask', 'VB'), ('the', 'DT'), ('workers', 'NNS'), ('to', 'TO'), ('lead', 'VB'), ('you', 'PRP'), ('there', 'RB'), ('It', 'PRP'), ('was', 'VBD'), ('our', 'PRP$'), ('last', 'JJ'), ('day', 'NN'), ('in', 'IN'), ('vegas', 'NN'), ('and', 'CC'), ('we', 'PRP'), ('had', 'VBD'), ('resort', 'VBN'), ('credit', 'NN'), ('to', 'TO'), ('spend', 'VB'), ('still', 'RB'), ('We', 'PRP'), ('ordered', 'VBD'), ('the', 'DT'), ('seafood', 'NN'), ('platter', 'RB'), ('72', 'CD'), ('which', 'WDT'), ('was', 'VBD'), ('AMAZINGGGGG', 'NNP'), ('We', 'PRP'), ('also', 'RB'), ('got', 'VBD'), ('the', 'DT'), ('duck', 'NN'), ('ravioli', 'NN'), ('Prawns', 'NNP'), ('plate', 'NN'), ('Salmon', 'NNP'), ('salad', 'NN'), ('and', 'CC'), ('a', 'DT'), ('few', 'JJ'), ('other', 'JJ'), ('plates', 'NNS'), ('The', 'DT'), ('service', 'NN'), ('here', 'RB'), ('was', 'VBD'), ('perfect', 'JJ'), ('and', 'CC'), ('did', 'VBD'), (\"n't\", 'RB'), ('come', 'VB'), ('to', 'TO'), ('the', 'DT'), ('table', 'NN'), ('too', 'RB'), ('many', 'JJ'), ('times', 'NNS'), ('to', 'TO'), ('disturb', 'VB'), ('us', 'PRP'), ('YOU', 'NNS'), ('HAVE', 'VBP'), ('TO', 'NNP'), ('GET', 'NNP'), ('THE', 'NNP'), ('DUCK', 'NNP'), ('RAVIOLI', 'NNP'), ('So', 'RB'), ('delicious', 'JJ'), ('I', 'PRP'), ('will', 'MD'), ('have', 'VB'), ('to', 'TO'), ('come', 'VB'), ('back', 'RB'), ('here', 'RB'), ('to', 'TO'), ('eat', 'VB'), ('all', 'PDT'), ('the', 'DT'), ('other', 'JJ'), ('good', 'JJ'), ('stuff', 'NN'), ('on', 'IN'), ('the', 'DT'), ('menu', 'NN'), ('but', 'CC'), ('there', 'EX'), ('was', 'VBD'), (\"n't\", 'RB'), ('one', 'CD'), ('thing', 'NN'), ('that', 'IN'), ('we', 'PRP'), ('were', 'VBD'), (\"n't\", 'RB'), ('disappointed', 'VBN'), ('about', 'RB')]\n",
      "==========================Nouns=============================\n",
      "['tower suites', 'resort credit', 'seafood platter $', 'amazinggggg', 'duck ravioli', 'prawns', 'salmon', 'you have to get the duck ravioli', 'good stuff']\n",
      "==========================Sentiment :) / :( =============================\n",
      "==========================Tags=============================\n",
      "[('The', 'DT'), ('hoover', 'NN'), ('dam', 'NN'), ('kayaking', 'VBG'), ('tour', 'NN'), ('was', 'VBD'), ('great', 'JJ'), ('No', 'DT'), ('problems', 'NNS'), ('at', 'IN'), ('all-', 'JJ'), ('the', 'DT'), ('entire', 'JJ'), ('trip', 'NN'), ('was', 'VBD'), ('smooth', 'JJ'), ('and', 'CC'), ('efficient', 'JJ'), ('We', 'PRP'), ('paddled', 'VBD'), ('the', 'DT'), ('entire', 'JJ'), ('day', 'NN'), ('hiked', 'VBD'), ('to', 'TO'), ('the', 'DT'), ('hot', 'JJ'), ('spring', 'NN'), ('and', 'CC'), ('more', 'JJR'), ('paddling', 'NN'), ('and', 'CC'), ('hiking', 'NN'), ('Our', 'PRP$'), ('tour', 'NN'), ('guy', 'NN'), ('Alex', 'NNP'), ('was', 'VBD'), ('excellent', 'JJ'), ('He', 'PRP'), ('is', 'VBZ'), ('very', 'RB'), ('knowledgeable', 'JJ'), ('friendly', 'JJ'), ('and', 'CC'), ('helped', 'VBD'), ('us', 'PRP'), ('take', 'VB'), ('pictures', 'NNS'), ('along', 'IN'), ('the', 'DT'), ('way', 'NN'), ('We', 'PRP'), ('had', 'VBD'), ('Mcdonalds', 'NNP'), ('breakfast', 'NN'), ('and', 'CC'), ('some', 'DT'), ('Arby', 'NNP'), (\"'s\", 'POS'), ('sandwiches', 'NNS'), ('grapes', 'NNS'), ('crackers', 'NNS'), ('for', 'IN'), ('lunch', 'NN'), ('and', 'CC'), ('an', 'DT'), ('abundant', 'JJ'), ('supply', 'NN'), ('of', 'IN'), ('water', 'NN'), ('during', 'IN'), ('the', 'DT'), ('entire', 'JJ'), ('trip', 'NN'), ('Very', 'RB'), ('enjoyable', 'JJ')]\n",
      "==========================Nouns=============================\n",
      "['hoover dam', 'entire trip', 'entire day', 'hot spring', 'tour guy', 'alex', 'mcdonalds', 'arby', \"'s sandwiches\", 'entire trip']\n",
      "==========================Sentiment :) / :( =============================\n",
      "==========================Tags=============================\n",
      "[('Awesome', 'NNP'), ('acai', 'NN'), ('bowls', 'NN'), ('As', 'IN'), ('a', 'DT'), ('cheesecake', 'NN'), ('lover', 'NN'), ('I', 'PRP'), ('was', 'VBD'), ('pleasantly', 'RB'), ('surprised', 'VBN'), ('to', 'TO'), ('try', 'VB'), ('their', 'PRP$'), ('cheesecake', 'NN'), ('flavored', 'VBN'), ('Acai', 'NNP'), ('bowl', 'NN'), ('Would', 'MD'), ('definitely', 'RB'), ('return', 'VB')]\n",
      "==========================Nouns=============================\n",
      "['awesome', 'acai bowls', 'cheesecake lover', 'acai']\n",
      "==========================Sentiment :) / :( =============================\n",
      "==========================Tags=============================\n",
      "[('I', 'PRP'), ('love', 'VBP'), ('this', 'DT'), ('place', 'NN'), ('i', 'NN'), ('really', 'RB'), ('do', 'VBP'), ('the', 'DT'), ('food', 'NN'), ('is', 'VBZ'), ('pretty', 'RB'), ('good', 'JJ'), ('but', 'CC'), ('this', 'DT'), ('time', 'NN'), ('just', 'RB'), ('sucked', 'VBD'), ('Checked', 'VBN'), ('in', 'IN'), ('was', 'VBD'), ('told', 'VBN'), ('it', 'PRP'), ('was', 'VBD'), ('15-30', 'JJ'), ('minutes', 'NNS'), ('for', 'IN'), ('an', 'DT'), ('outside', 'JJ'), ('patio', 'NN'), ('table', 'NN'), ('Weather', 'NNP'), ('was', 'VBD'), ('perfect', 'JJ'), ('so', 'IN'), ('we', 'PRP'), ('decided', 'VBD'), ('to', 'TO'), ('wait', 'VB'), ('45', 'CD'), ('minutes', 'NNS'), ('later', 'RB'), ('with', 'IN'), ('my', 'PRP$'), ('buzzer', 'NN'), ('in', 'IN'), ('hand', 'NN'), ('i', 'NN'), ('was', 'VBD'), ('told', 'VBN'), ('my', 'PRP$'), ('reservation', 'NN'), ('was', 'VBD'), ('lost', 'VBN'), ('and', 'CC'), ('i', 'JJ'), (\"'d\", 'MD'), ('have', 'VB'), ('the', 'DT'), ('next', 'JJ'), ('available', 'JJ'), ('table.\\\\nStrolling', 'VBG'), ('through', 'IN'), ('the', 'DT'), ('restaurant', 'NN'), ('passing', 'VBG'), ('a', 'DT'), ('table', 'NN'), ('for', 'IN'), ('2', 'CD'), ('at', 'IN'), ('the', 'DT'), ('outside', 'JJ'), ('rail', 'NN'), ('we', 'PRP'), ('were', 'VBD'), ('seated', 'VBN'), ('at', 'IN'), ('a', 'DT'), ('table', 'NN'), ('for', 'IN'), ('4', 'CD'), ('right', 'JJ'), ('next', 'JJ'), ('to', 'TO'), ('the', 'DT'), ('goddamn', 'NN'), ('server', 'NN'), ('station', 'NN'), ('\\\\nFor', 'SYM'), ('an', 'DT'), ('hour', 'NN'), ('i', 'NN'), ('was', 'VBD'), ('continuously', 'RB'), ('bumped', 'VBN'), ('and', 'CC'), ('kicked', 'VBN'), ('by', 'IN'), ('servers', 'NNS'), ('sitting', 'VBG'), ('here', 'RB'), ('and', 'CC'), ('the', 'DT'), ('ONLY', 'NNP'), ('reason', 'NN'), ('i', 'NN'), ('did', 'VBD'), (\"n't\", 'RB'), ('blow', 'VB'), ('up', 'RP'), ('is', 'VBZ'), ('because', 'IN'), ('this', 'DT'), ('was', 'VBD'), ('my', 'PRP$'), ('wifes', 'JJ'), ('birthday', 'JJ'), ('weekend', 'NN'), ('and', 'CC'), ('she', 'PRP'), ('specifically', 'RB'), ('wanted', 'VBD'), ('to', 'TO'), ('go', 'VB'), ('here', 'RB'), ('\\\\n', 'RB'), ('150', 'CD'), ('for', 'IN'), ('lunch', 'NN'), ('including', 'VBG'), ('cocktails', 'NNS')]\n",
      "==========================Nouns=============================\n",
      "['... ...', 'checked', 'outside patio table', 'weather', \"i 'd\", 'outside rail', 'goddamn server station', 'hour i', 'only', 'reason i', \"n't blow\", 'wifes birthday weekend', '\\\\n $', 'cocktails ... ...']\n",
      "==========================Sentiment :) / :( =============================\n",
      "==========================Tags=============================\n",
      "[('The', 'DT'), ('Meatball', 'NNP'), ('Spot', 'NNP'), ('was', 'VBD'), ('okay', 'RB'), ('not', 'RB'), ('great', 'JJ'), ('not', 'RB'), ('terrible', 'JJ'), ('just', 'RB'), ('okay', 'NN'), ('I', 'PRP'), ('think', 'VBP'), ('it', 'PRP'), ('has', 'VBZ'), ('a', 'DT'), ('good', 'JJ'), ('vibe', 'NN'), ('and', 'CC'), ('good', 'JJ'), ('concept', 'NN'), ('but', 'CC'), ('based', 'VBN'), ('on', 'IN'), ('what', 'WP'), ('I', 'PRP'), ('ordered', 'VBD'), ('I', 'PRP'), ('think', 'VBP'), ('their', 'PRP$'), ('food', 'NN'), ('is', 'VBZ'), ('just', 'RB'), ('so-so', 'JJ'), ('I', 'PRP'), ('ordered', 'VBD'), ('the', 'DT'), ('turkey', 'NN'), ('meatballs', 'VBZ'), ('with', 'IN'), ('the', 'DT'), ('classic', 'JJ'), ('tomato', 'NN'), ('sauce', 'NN'), ('I', 'PRP'), ('also', 'RB'), ('ordered', 'VBD'), ('a', 'DT'), ('side', 'NN'), ('of', 'IN'), ('Parmesan', 'NNP'), ('fries', 'NNS'), ('The', 'DT'), ('meatballs', 'NNS'), ('did', 'VBD'), (\"n't\", 'RB'), ('wow', 'VB'), ('me', 'PRP'), ('They', 'PRP'), ('were', 'VBD'), ('very', 'RB'), ('very', 'RB'), ('dry', 'JJ'), ('and', 'CC'), ('did', 'VBD'), (\"n't\", 'RB'), ('have', 'VB'), ('enough', 'JJ'), ('flavor', 'NN'), ('There', 'EX'), ('was', 'VBD'), ('nothing', 'NN'), ('to', 'TO'), ('make', 'VB'), ('me', 'PRP'), ('want', 'VB'), ('more', 'RBR'), ('The', 'DT'), ('classic', 'JJ'), ('tomato', 'NN'), ('sauce', 'NN'), ('was', 'VBD'), ('okay', 'RB'), ('I', 'PRP'), ('liked', 'VBD'), ('the', 'DT'), ('texture', 'NN'), ('of', 'IN'), ('the', 'DT'), ('crispy', 'NN'), ('fries', 'NNS'), ('but', 'CC'), ('they', 'PRP'), ('did', 'VBD'), (\"n't\", 'RB'), ('have', 'VB'), ('much', 'JJ'), ('flavor', 'NN'), ('either', 'RB'), ('They', 'PRP'), ('had', 'VBD'), ('parmesan', 'VBN'), ('sprinkled', 'VBN'), ('on', 'IN'), ('top', 'NN'), ('but', 'CC'), ('nothing', 'NN'), ('stuck', 'NN'), ('to', 'TO'), ('the', 'DT'), ('fries', 'NNS'), ('There', 'EX'), ('was', 'VBD'), ('also', 'RB'), ('only', 'RB'), ('a', 'DT'), ('hint', 'NN'), ('of', 'IN'), ('garlic', 'NN'), ('Just', 'RB'), ('not', 'RB'), ('enough', 'JJ'), ('flavor', 'NN'), ('\\\\n\\\\nIt', 'RB'), ('seems', 'VBZ'), ('like', 'IN'), ('it', 'PRP'), ('would', 'MD'), ('be', 'VB'), ('fun', 'VBN'), ('during', 'IN'), ('happy', 'JJ'), ('hour', 'NN'), ('but', 'CC'), ('until', 'IN'), ('their', 'PRP$'), ('signature', 'NN'), ('meatballs', 'NNS'), ('improve', 'VBP'), ('I', 'PRP'), ('wo', 'MD'), (\"n't\", 'RB'), ('be', 'VB'), ('back', 'RB')]\n",
      "==========================Nouns=============================\n",
      "['meatball', 'good vibe', 'good concept', 'turkey meatballs', 'classic tomato sauce', 'parmesan', \"n't wow\", 'classic tomato sauce', 'crispy fries', 'happy hour', 'signature meatballs', \"wo n't\"]\n",
      "==========================Sentiment :) / :( =============================\n"
     ]
    }
   ],
   "source": [
    "for review in sample_reviews:\n",
    "    r_meta = TextBlob(review)\n",
    "    print(\"==========================Tags=============================\")\n",
    "    print(r_meta.tags)\n",
    "    print(\"==========================Nouns=============================\")\n",
    "    print(r_meta.noun_phrases)\n",
    "    print(\"==========================Sentiment :) / :( =============================\")\n",
    "    \n",
    "    "
   ]
  },
  {
   "cell_type": "markdown",
   "metadata": {},
   "source": [
    "#### Sentimental Analysis on some sample review"
   ]
  },
  {
   "cell_type": "code",
   "execution_count": 61,
   "metadata": {},
   "outputs": [
    {
     "name": "stdout",
     "output_type": "stream",
     "text": [
      "Happy  57.611111111111114\n",
      "Sad 16.602564102564102\n",
      "Sad 42.1875\n",
      "Sad 36.66666666666667\n",
      "Sad 25.659340659340657\n",
      "Sad 29.746031746031743\n"
     ]
    }
   ],
   "source": [
    "for review in sample_reviews:\n",
    "    if TextBlob(review).sentiment.polarity > 0.5:\n",
    "        print(\"Happy \",TextBlob(review).sentiment.polarity*100)\n",
    "    else:\n",
    "        print(\"Sad\",TextBlob(review).sentiment.polarity*100)"
   ]
  },
  {
   "cell_type": "markdown",
   "metadata": {},
   "source": [
    "list of todos\n",
    "- correct the spelling on all reviews as much as possible\n",
    "- Apply Naive bayes\n",
    "\n",
    "<p style=\"color:red\"> learn the below topics from http://textblob.readthedocs.io/en/dev/quickstart.html </p>\n",
    "Tutorial: Quickstart\n",
    "\n",
    "    Create a TextBlob\n",
    "    Part-of-speech Tagging\n",
    "    Noun Phrase Extraction\n",
    "    Sentiment Analysis\n",
    "    Tokenization\n",
    "    Words Inflection and Lemmatization\n",
    "    WordNet Integration\n",
    "    WordLists\n",
    "    Spelling Correction\n",
    "    Get Word and Noun Phrase Frequencies\n",
    "    Translation and Language Detection\n",
    "    Parsing\n",
    "    TextBlobs Are Like Python Strings!\n",
    "    n-grams\n",
    "    Get Start and End Indices of Sentences\n",
    "\n",
    "\n"
   ]
  },
  {
   "cell_type": "code",
   "execution_count": 62,
   "metadata": {},
   "outputs": [
    {
     "data": {
      "text/plain": [
       "TextBlob(\"they have good chicken!\")"
      ]
     },
     "execution_count": 62,
     "metadata": {},
     "output_type": "execute_result"
    }
   ],
   "source": [
    "# example for spelling correction\n",
    "b = TextBlob(\"they havv good chicken!\")\n",
    "b.correct()"
   ]
  },
  {
   "cell_type": "markdown",
   "metadata": {},
   "source": [
    "### Section 3: Classification of Model"
   ]
  },
  {
   "cell_type": "markdown",
   "metadata": {},
   "source": [
    "example http://textblob.readthedocs.io/en/dev/classifiers.html#classifiers"
   ]
  },
  {
   "cell_type": "code",
   "execution_count": 63,
   "metadata": {},
   "outputs": [],
   "source": [
    " >>> train = [\n",
    "...     ('I love this sandwich.', 'pos'),\n",
    "...     ('this is an amazing place!', 'pos'),\n",
    "...     ('I feel very good about these beers.', 'pos'),\n",
    "...     ('this is my best work.', 'pos'),\n",
    "...     ('what an awesome view', 'pos'),\n",
    "...     ('I do not like this restaurant', 'neg'),\n",
    "...     ('I am tired of this stuff.', 'neg'),\n",
    "...     (\"I can't deal with this\", 'neg'),\n",
    "...     ('he is my sworn enemy!', 'neg'),\n",
    "...     ('my boss is horrible.', 'neg'),\n",
    "        ('This place is good.','pos')\n",
    "... ]\n",
    ">>> test = [\n",
    "...     ('the beer was good.', 'pos'),\n",
    "...     ('I do not enjoy my job', 'neg'),\n",
    "...     (\"I ain't feeling dandy today.\", 'neg'),\n",
    "...     (\"I feel amazing!\", 'pos'),\n",
    "...     ('Gary is a friend of mine.', 'pos'),\n",
    "...     (\"I can't believe I'm doing this.\", 'neg')\n",
    "        \n",
    "... ]"
   ]
  },
  {
   "cell_type": "code",
   "execution_count": 64,
   "metadata": {},
   "outputs": [],
   "source": [
    ">>> from textblob.classifiers import NaiveBayesClassifier\n",
    ">>> cl = NaiveBayesClassifier(train)"
   ]
  },
  {
   "cell_type": "code",
   "execution_count": 65,
   "metadata": {},
   "outputs": [
    {
     "data": {
      "text/plain": [
       "'pos'"
      ]
     },
     "execution_count": 65,
     "metadata": {},
     "output_type": "execute_result"
    }
   ],
   "source": [
    "cl.classify(\"This restaurant is good.\")"
   ]
  },
  {
   "cell_type": "code",
   "execution_count": 66,
   "metadata": {},
   "outputs": [
    {
     "data": {
      "text/plain": [
       "'pos'"
      ]
     },
     "execution_count": 66,
     "metadata": {},
     "output_type": "execute_result"
    }
   ],
   "source": [
    "cl.classify(\"pasta was \")"
   ]
  },
  {
   "cell_type": "code",
   "execution_count": 67,
   "metadata": {},
   "outputs": [
    {
     "name": "stdout",
     "output_type": "stream",
     "text": [
      "Most Informative Features\n",
      "            contains(my) = True              neg : pos    =      1.9 : 1.0\n",
      "             contains(I) = True              neg : pos    =      1.6 : 1.0\n",
      "             contains(I) = False             pos : neg    =      1.5 : 1.0\n",
      "         contains(place) = False             neg : pos    =      1.4 : 1.0\n",
      "          contains(good) = False             neg : pos    =      1.4 : 1.0\n",
      "            contains(an) = False             neg : pos    =      1.4 : 1.0\n",
      "            contains(my) = False             pos : neg    =      1.3 : 1.0\n",
      "         contains(tired) = False             pos : neg    =      1.2 : 1.0\n",
      "      contains(horrible) = False             pos : neg    =      1.2 : 1.0\n",
      "          contains(boss) = False             pos : neg    =      1.2 : 1.0\n"
     ]
    }
   ],
   "source": [
    "cl.show_informative_features()  "
   ]
  },
  {
   "cell_type": "markdown",
   "metadata": {},
   "source": [
    "APPLYING THIS CLASSIFICATION TO DATASET:"
   ]
  },
  {
   "cell_type": "code",
   "execution_count": 68,
   "metadata": {},
   "outputs": [],
   "source": [
    "def create_ds_train():\n",
    "    ds_train = [] # empty list \n",
    "    for index, row in ds.iterrows():\n",
    "        if row[\"stars\"] >= 4 :\n",
    "            ds_train.append((clean_text(TextBlob(row[\"text\"]).correct()), 'pos')) # append \n",
    "        else:\n",
    "            ds_train.append((clean_text(TextBlob(row[\"text\"]).correct()), 'neg'))\n",
    "    return ds_train"
   ]
  },
  {
   "cell_type": "code",
   "execution_count": 69,
   "metadata": {},
   "outputs": [],
   "source": [
    "from textblob.classifiers import NaiveBayesClassifier\n",
    "cl = NaiveBayesClassifier(create_ds_train())"
   ]
  },
  {
   "cell_type": "code",
   "execution_count": 71,
   "metadata": {},
   "outputs": [
    {
     "name": "stdout",
     "output_type": "stream",
     "text": [
      "Most Informative Features\n",
      "         contains(great) = True              pos : neg    =      6.0 : 1.0\n",
      "      contains(friendly) = True              pos : neg    =      5.7 : 1.0\n",
      "      contains(terrible) = True              neg : pos    =      5.7 : 1.0\n",
      "           contains(pay) = True              neg : pos    =      5.7 : 1.0\n",
      "             contains(o) = True              neg : pos    =      5.7 : 1.0\n",
      "      contains(customer) = True              neg : pos    =      5.0 : 1.0\n",
      "           contains(due) = True              neg : pos    =      4.5 : 1.0\n",
      "         contains(hotel) = True              neg : pos    =      4.5 : 1.0\n",
      "         contains(check) = True              neg : pos    =      4.5 : 1.0\n",
      "       contains(weekend) = True              neg : pos    =      4.5 : 1.0\n"
     ]
    }
   ],
   "source": [
    "cl.show_informative_features() "
   ]
  },
  {
   "cell_type": "code",
   "execution_count": null,
   "metadata": {},
   "outputs": [],
   "source": []
  }
 ],
 "metadata": {
  "kernelspec": {
   "display_name": "Python [default]",
   "language": "python",
   "name": "python3"
  },
  "language_info": {
   "codemirror_mode": {
    "name": "ipython",
    "version": 3
   },
   "file_extension": ".py",
   "mimetype": "text/x-python",
   "name": "python",
   "nbconvert_exporter": "python",
   "pygments_lexer": "ipython3",
   "version": "3.6.4"
  }
 },
 "nbformat": 4,
 "nbformat_minor": 2
}
