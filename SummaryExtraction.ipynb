{
 "cells": [
  {
   "cell_type": "code",
   "execution_count": 147,
   "metadata": {},
   "outputs": [],
   "source": [
    "import pandas as pd"
   ]
  },
  {
   "cell_type": "markdown",
   "metadata": {},
   "source": [
    "### Train Dataset"
   ]
  },
  {
   "cell_type": "code",
   "execution_count": 148,
   "metadata": {},
   "outputs": [],
   "source": [
    "ds = pd.read_csv(\"data/train/small.csv\")"
   ]
  },
  {
   "cell_type": "code",
   "execution_count": 149,
   "metadata": {},
   "outputs": [
    {
     "data": {
      "text/html": [
       "<div>\n",
       "<style scoped>\n",
       "    .dataframe tbody tr th:only-of-type {\n",
       "        vertical-align: middle;\n",
       "    }\n",
       "\n",
       "    .dataframe tbody tr th {\n",
       "        vertical-align: top;\n",
       "    }\n",
       "\n",
       "    .dataframe thead th {\n",
       "        text-align: right;\n",
       "    }\n",
       "</style>\n",
       "<table border=\"1\" class=\"dataframe\">\n",
       "  <thead>\n",
       "    <tr style=\"text-align: right;\">\n",
       "      <th></th>\n",
       "      <th>_id</th>\n",
       "      <th>business_id</th>\n",
       "      <th>review_id</th>\n",
       "      <th>stars</th>\n",
       "      <th>text</th>\n",
       "      <th>useful</th>\n",
       "    </tr>\n",
       "  </thead>\n",
       "  <tbody>\n",
       "    <tr>\n",
       "      <th>0</th>\n",
       "      <td>5ad77a48d209ba1dce460064</td>\n",
       "      <td>eLFfWcdb7VkqNyTONksHiQ</td>\n",
       "      <td>7ECYfYWSx5_SEIYsDiCZ1A</td>\n",
       "      <td>5</td>\n",
       "      <td>Great all you can eat Korean BBQ. Very clean, ...</td>\n",
       "      <td>1</td>\n",
       "    </tr>\n",
       "    <tr>\n",
       "      <th>1</th>\n",
       "      <td>5ad77a94d209ba1dce5c7096</td>\n",
       "      <td>Yp9w4nhUowBU_IS_StFXbQ</td>\n",
       "      <td>uBkU8wLvQCCCL0TZ8ESLaw</td>\n",
       "      <td>5</td>\n",
       "      <td>This place is sort of hidden.  It's behind the...</td>\n",
       "      <td>1</td>\n",
       "    </tr>\n",
       "    <tr>\n",
       "      <th>2</th>\n",
       "      <td>5ad77b87d209ba1dce91f888</td>\n",
       "      <td>5md4i4diIWMNYQgHMj_Nbg</td>\n",
       "      <td>4xlVPqc8nuEWeIQYCL0FEA</td>\n",
       "      <td>5</td>\n",
       "      <td>The hoover dam kayaking tour was great. No pro...</td>\n",
       "      <td>0</td>\n",
       "    </tr>\n",
       "    <tr>\n",
       "      <th>3</th>\n",
       "      <td>5ad77aead209ba1dce6dccd7</td>\n",
       "      <td>XBEx2FI2GKmsjs7eWNr7Lw</td>\n",
       "      <td>CyaJqWU8bmaEPLWgxekAOg</td>\n",
       "      <td>5</td>\n",
       "      <td>Awesome acai bowls. As a cheesecake lover, I w...</td>\n",
       "      <td>1</td>\n",
       "    </tr>\n",
       "  </tbody>\n",
       "</table>\n",
       "</div>"
      ],
      "text/plain": [
       "                        _id             business_id               review_id  \\\n",
       "0  5ad77a48d209ba1dce460064  eLFfWcdb7VkqNyTONksHiQ  7ECYfYWSx5_SEIYsDiCZ1A   \n",
       "1  5ad77a94d209ba1dce5c7096  Yp9w4nhUowBU_IS_StFXbQ  uBkU8wLvQCCCL0TZ8ESLaw   \n",
       "2  5ad77b87d209ba1dce91f888  5md4i4diIWMNYQgHMj_Nbg  4xlVPqc8nuEWeIQYCL0FEA   \n",
       "3  5ad77aead209ba1dce6dccd7  XBEx2FI2GKmsjs7eWNr7Lw  CyaJqWU8bmaEPLWgxekAOg   \n",
       "\n",
       "   stars                                               text  useful  \n",
       "0      5  Great all you can eat Korean BBQ. Very clean, ...       1  \n",
       "1      5  This place is sort of hidden.  It's behind the...       1  \n",
       "2      5  The hoover dam kayaking tour was great. No pro...       0  \n",
       "3      5  Awesome acai bowls. As a cheesecake lover, I w...       1  "
      ]
     },
     "execution_count": 149,
     "metadata": {},
     "output_type": "execute_result"
    }
   ],
   "source": [
    "ds.head(4)"
   ]
  },
  {
   "cell_type": "markdown",
   "metadata": {},
   "source": [
    "### Test Dataset"
   ]
  },
  {
   "cell_type": "code",
   "execution_count": 92,
   "metadata": {},
   "outputs": [],
   "source": [
    "TEST_FILE = 'data/test/10.json'"
   ]
  },
  {
   "cell_type": "code",
   "execution_count": 93,
   "metadata": {},
   "outputs": [],
   "source": [
    "import json\n",
    "with open(TEST_FILE,'r') as json_file:    \n",
    "    data = json.load(json_file)"
   ]
  },
  {
   "cell_type": "code",
   "execution_count": 94,
   "metadata": {},
   "outputs": [
    {
     "name": "stdout",
     "output_type": "stream",
     "text": [
      "-----------------------------------------------------\n",
      "This is one of my top 3 places to get BBQ pork (char siu). It is not the cheapest option, but you get what you pay for. My other go tos include Kum Hong BBQ and Skyview Fusion restaurant.\n",
      "('Rating: ', 4)\n",
      "-----------------------------------------------------\n",
      "This restaurant is famous for their BBQ dishes and they are actually very good. It also has a variety of other non-BBQ dishes. Compare to other places that sell BBQ dishes, this restaurant is a bit pricey but their dishes are pretty good.\n",
      "('Rating: ', 3)\n",
      "-----------------------------------------------------\n",
      "Roasted pork is one of my favorite things... And we pay a premium for the meat around the ribs and the belly area because of the wonderful marbling...  beautiful layer after layer of alternating meat and fat.  My wife bought some from John's today... paid a premium for this \"cut\" and when I opened up the box it was all meaty pieces without marbling... Very disappointed.  The flavour was decent but not the cut we paid for.  Probably best to keep going to the BBQ place at Valleymede and HWY 7 (north side) in the plaza with McDees.\n",
      "('Rating: ', 2)\n"
     ]
    }
   ],
   "source": [
    "count = 0 \n",
    "for review in data[\"yelp\"][0][\"reviews\"]:\n",
    "    print(\"-----------------------------------------------------\")\n",
    "    print(review[\"text\"])\n",
    "    print(\"Rating: \",review[\"ratings\"])\n",
    "    count += 1\n",
    "    if count == 3:\n",
    "        break"
   ]
  },
  {
   "cell_type": "markdown",
   "metadata": {},
   "source": [
    "### Other Variations of Train Set in size"
   ]
  },
  {
   "cell_type": "code",
   "execution_count": 95,
   "metadata": {},
   "outputs": [
    {
     "data": {
      "text/plain": [
       "(50000, 6)"
      ]
     },
     "execution_count": 95,
     "metadata": {},
     "output_type": "execute_result"
    }
   ],
   "source": [
    "d = pd.read_csv(\"data/train/50K.csv\")\n",
    "d.shape"
   ]
  },
  {
   "cell_type": "code",
   "execution_count": 96,
   "metadata": {},
   "outputs": [
    {
     "data": {
      "text/plain": [
       "(10000, 6)"
      ]
     },
     "execution_count": 96,
     "metadata": {},
     "output_type": "execute_result"
    }
   ],
   "source": [
    "d = pd.read_csv(\"data/train/10K.csv\")\n",
    "d.shape"
   ]
  },
  {
   "cell_type": "code",
   "execution_count": 97,
   "metadata": {},
   "outputs": [],
   "source": [
    "d[\"indicator\"] = d[\"useful\"]  * d[\"stars\"]"
   ]
  },
  {
   "cell_type": "code",
   "execution_count": 98,
   "metadata": {},
   "outputs": [
    {
     "data": {
      "text/html": [
       "<div>\n",
       "<style scoped>\n",
       "    .dataframe tbody tr th:only-of-type {\n",
       "        vertical-align: middle;\n",
       "    }\n",
       "\n",
       "    .dataframe tbody tr th {\n",
       "        vertical-align: top;\n",
       "    }\n",
       "\n",
       "    .dataframe thead th {\n",
       "        text-align: right;\n",
       "    }\n",
       "</style>\n",
       "<table border=\"1\" class=\"dataframe\">\n",
       "  <thead>\n",
       "    <tr style=\"text-align: right;\">\n",
       "      <th></th>\n",
       "      <th>_id</th>\n",
       "      <th>business_id</th>\n",
       "      <th>review_id</th>\n",
       "      <th>stars</th>\n",
       "      <th>text</th>\n",
       "      <th>useful</th>\n",
       "      <th>indicator</th>\n",
       "    </tr>\n",
       "  </thead>\n",
       "  <tbody>\n",
       "    <tr>\n",
       "      <th>0</th>\n",
       "      <td>5ad77a66d209ba1dce5030b2</td>\n",
       "      <td>kcF-en40P3J9L8nLy5lKqQ</td>\n",
       "      <td>XJEz7zcJzwMWyoAv22hIvQ</td>\n",
       "      <td>5</td>\n",
       "      <td>Everything about Central Bistro was fantastic!...</td>\n",
       "      <td>3</td>\n",
       "      <td>15</td>\n",
       "    </tr>\n",
       "    <tr>\n",
       "      <th>1</th>\n",
       "      <td>5ad77b05d209ba1dce748580</td>\n",
       "      <td>ZibmYdOPKLlqDM9oR6xzOA</td>\n",
       "      <td>RX_u02e8FSaGeV2CEP5B9g</td>\n",
       "      <td>4</td>\n",
       "      <td>Went before 6pm, before the dinner crowd and h...</td>\n",
       "      <td>0</td>\n",
       "      <td>0</td>\n",
       "    </tr>\n",
       "    <tr>\n",
       "      <th>2</th>\n",
       "      <td>5ad77b1fd209ba1dce7a37dd</td>\n",
       "      <td>LXrSnbUlEnw_fI7A2Dpp9Q</td>\n",
       "      <td>Jc3j0FGT_KWXhA_UWgj9eg</td>\n",
       "      <td>4</td>\n",
       "      <td>I shop at Nordstrom somewhat regularly.\\n\\nA b...</td>\n",
       "      <td>12</td>\n",
       "      <td>48</td>\n",
       "    </tr>\n",
       "    <tr>\n",
       "      <th>3</th>\n",
       "      <td>5ad77ac3d209ba1dce66dbde</td>\n",
       "      <td>66jwLkSd6M0cZulZrA3zcw</td>\n",
       "      <td>EMIWAZ_WKD-_d4VQOEQRQg</td>\n",
       "      <td>5</td>\n",
       "      <td>Came for dinner, it happened to be late night ...</td>\n",
       "      <td>0</td>\n",
       "      <td>0</td>\n",
       "    </tr>\n",
       "    <tr>\n",
       "      <th>4</th>\n",
       "      <td>5ad77abfd209ba1dce65da1c</td>\n",
       "      <td>hhLKp8ilQac7M5UTTpnPnQ</td>\n",
       "      <td>V6KzjQzd38q_1i3Ghpurzw</td>\n",
       "      <td>5</td>\n",
       "      <td>I am VERY particular about getting my nails do...</td>\n",
       "      <td>5</td>\n",
       "      <td>25</td>\n",
       "    </tr>\n",
       "  </tbody>\n",
       "</table>\n",
       "</div>"
      ],
      "text/plain": [
       "                        _id             business_id               review_id  \\\n",
       "0  5ad77a66d209ba1dce5030b2  kcF-en40P3J9L8nLy5lKqQ  XJEz7zcJzwMWyoAv22hIvQ   \n",
       "1  5ad77b05d209ba1dce748580  ZibmYdOPKLlqDM9oR6xzOA  RX_u02e8FSaGeV2CEP5B9g   \n",
       "2  5ad77b1fd209ba1dce7a37dd  LXrSnbUlEnw_fI7A2Dpp9Q  Jc3j0FGT_KWXhA_UWgj9eg   \n",
       "3  5ad77ac3d209ba1dce66dbde  66jwLkSd6M0cZulZrA3zcw  EMIWAZ_WKD-_d4VQOEQRQg   \n",
       "4  5ad77abfd209ba1dce65da1c  hhLKp8ilQac7M5UTTpnPnQ  V6KzjQzd38q_1i3Ghpurzw   \n",
       "\n",
       "   stars                                               text  useful  indicator  \n",
       "0      5  Everything about Central Bistro was fantastic!...       3         15  \n",
       "1      4  Went before 6pm, before the dinner crowd and h...       0          0  \n",
       "2      4  I shop at Nordstrom somewhat regularly.\\n\\nA b...      12         48  \n",
       "3      5  Came for dinner, it happened to be late night ...       0          0  \n",
       "4      5  I am VERY particular about getting my nails do...       5         25  "
      ]
     },
     "execution_count": 98,
     "metadata": {},
     "output_type": "execute_result"
    }
   ],
   "source": [
    "d.head()"
   ]
  },
  {
   "cell_type": "markdown",
   "metadata": {},
   "source": [
    "REMOVE STOPWORDS"
   ]
  },
  {
   "cell_type": "code",
   "execution_count": 167,
   "metadata": {},
   "outputs": [],
   "source": [
    "from nltk.corpus import stopwords\n",
    "def clean_text(text, remove_stopwords = True):\n",
    "    \n",
    "    \n",
    "    # Convert words to lower case\n",
    "    text = text.lower()\n",
    "    \n",
    "# A Python library for expanding and creating common English contractions in text. \n",
    "#This is very useful for dimensionality reduction by normalizing the text before generating word or character vectors. \n",
    "#It performs contraction by simple replacement rules of the commonly used English contractions.\n",
    "#Replace contractions with their longer forms \n",
    "    if True:\n",
    "        text = text.split()\n",
    "        new_text = []\n",
    "        for word in text:\n",
    "            if word in contractions:\n",
    "                new_text.append(contractions[word])\n",
    "            else:\n",
    "                new_text.append(word)\n",
    "        text = \" \".join(new_text)\n",
    "      \n",
    "    \n",
    "    # Optionally, remove stop words\n",
    "    if remove_stopwords:\n",
    "        text = text.split()\n",
    "        stops = set(stopwords.words(\"english\"))\n",
    "        text = [w for w in text if not w in stops]\n",
    "        text = \" \".join(text)\n",
    "\n",
    "    return text"
   ]
  },
  {
   "cell_type": "markdown",
   "metadata": {},
   "source": [
    "### Section 2 : Cleaning the Data\n",
    "Pre-requirements\n",
    "\n",
    "<p> Initiate the command <span style=\"color:red\"> pip install TextBlob </span> from the terminal </p>\n",
    "- http://textblob.readthedocs.io/en/dev/\n",
    "\n",
    "<pre>\n",
    "**********************************************************************\n",
    "  Resource punkt not found.\n",
    "  Please use the NLTK Downloader to obtain the resource:\n",
    "\n",
    "  >>> import nltk\n",
    "  >>> nltk.download('punkt')\n",
    "**********************************************************************\n",
    "</pre>"
   ]
  },
  {
   "cell_type": "code",
   "execution_count": 124,
   "metadata": {},
   "outputs": [
    {
     "name": "stdout",
     "output_type": "stream",
     "text": [
      "[nltk_data] Downloading package averaged_perceptron_tagger to\n",
      "[nltk_data]     /home/pfsa/nltk_data...\n",
      "[nltk_data]   Package averaged_perceptron_tagger is already up-to-\n",
      "[nltk_data]       date!\n",
      "[nltk_data] Downloading package brown to /home/pfsa/nltk_data...\n",
      "[nltk_data]   Package brown is already up-to-date!\n"
     ]
    },
    {
     "data": {
      "text/plain": [
       "True"
      ]
     },
     "execution_count": 124,
     "metadata": {},
     "output_type": "execute_result"
    }
   ],
   "source": [
    "from textblob import TextBlob\n",
    "import nltk\n",
    "nltk.download('averaged_perceptron_tagger')\n",
    "nltk.download('brown')"
   ]
  },
  {
   "cell_type": "code",
   "execution_count": 142,
   "metadata": {},
   "outputs": [
    {
     "data": {
      "text/html": [
       "<div>\n",
       "<style scoped>\n",
       "    .dataframe tbody tr th:only-of-type {\n",
       "        vertical-align: middle;\n",
       "    }\n",
       "\n",
       "    .dataframe tbody tr th {\n",
       "        vertical-align: top;\n",
       "    }\n",
       "\n",
       "    .dataframe thead th {\n",
       "        text-align: right;\n",
       "    }\n",
       "</style>\n",
       "<table border=\"1\" class=\"dataframe\">\n",
       "  <thead>\n",
       "    <tr style=\"text-align: right;\">\n",
       "      <th></th>\n",
       "      <th>_id</th>\n",
       "      <th>business_id</th>\n",
       "      <th>review_id</th>\n",
       "      <th>stars</th>\n",
       "      <th>text</th>\n",
       "      <th>useful</th>\n",
       "    </tr>\n",
       "  </thead>\n",
       "  <tbody>\n",
       "    <tr>\n",
       "      <th>0</th>\n",
       "      <td>5ad77a48d209ba1dce460064</td>\n",
       "      <td>eLFfWcdb7VkqNyTONksHiQ</td>\n",
       "      <td>7ECYfYWSx5_SEIYsDiCZ1A</td>\n",
       "      <td>5</td>\n",
       "      <td>Great all you can eat Korean BBQ. Very clean, ...</td>\n",
       "      <td>1</td>\n",
       "    </tr>\n",
       "    <tr>\n",
       "      <th>1</th>\n",
       "      <td>5ad77a94d209ba1dce5c7096</td>\n",
       "      <td>Yp9w4nhUowBU_IS_StFXbQ</td>\n",
       "      <td>uBkU8wLvQCCCL0TZ8ESLaw</td>\n",
       "      <td>5</td>\n",
       "      <td>This place is sort of hidden.  It's behind the...</td>\n",
       "      <td>1</td>\n",
       "    </tr>\n",
       "    <tr>\n",
       "      <th>2</th>\n",
       "      <td>5ad77b87d209ba1dce91f888</td>\n",
       "      <td>5md4i4diIWMNYQgHMj_Nbg</td>\n",
       "      <td>4xlVPqc8nuEWeIQYCL0FEA</td>\n",
       "      <td>5</td>\n",
       "      <td>The hoover dam kayaking tour was great. No pro...</td>\n",
       "      <td>0</td>\n",
       "    </tr>\n",
       "    <tr>\n",
       "      <th>3</th>\n",
       "      <td>5ad77aead209ba1dce6dccd7</td>\n",
       "      <td>XBEx2FI2GKmsjs7eWNr7Lw</td>\n",
       "      <td>CyaJqWU8bmaEPLWgxekAOg</td>\n",
       "      <td>5</td>\n",
       "      <td>Awesome acai bowls. As a cheesecake lover, I w...</td>\n",
       "      <td>1</td>\n",
       "    </tr>\n",
       "  </tbody>\n",
       "</table>\n",
       "</div>"
      ],
      "text/plain": [
       "                        _id             business_id               review_id  \\\n",
       "0  5ad77a48d209ba1dce460064  eLFfWcdb7VkqNyTONksHiQ  7ECYfYWSx5_SEIYsDiCZ1A   \n",
       "1  5ad77a94d209ba1dce5c7096  Yp9w4nhUowBU_IS_StFXbQ  uBkU8wLvQCCCL0TZ8ESLaw   \n",
       "2  5ad77b87d209ba1dce91f888  5md4i4diIWMNYQgHMj_Nbg  4xlVPqc8nuEWeIQYCL0FEA   \n",
       "3  5ad77aead209ba1dce6dccd7  XBEx2FI2GKmsjs7eWNr7Lw  CyaJqWU8bmaEPLWgxekAOg   \n",
       "\n",
       "   stars                                               text  useful  \n",
       "0      5  Great all you can eat Korean BBQ. Very clean, ...       1  \n",
       "1      5  This place is sort of hidden.  It's behind the...       1  \n",
       "2      5  The hoover dam kayaking tour was great. No pro...       0  \n",
       "3      5  Awesome acai bowls. As a cheesecake lover, I w...       1  "
      ]
     },
     "execution_count": 142,
     "metadata": {},
     "output_type": "execute_result"
    }
   ],
   "source": [
    "ds.head(4)"
   ]
  },
  {
   "cell_type": "markdown",
   "metadata": {},
   "source": [
    "First three review text"
   ]
  },
  {
   "cell_type": "code",
   "execution_count": 158,
   "metadata": {},
   "outputs": [],
   "source": [
    "sample_reviews = ds.loc[:5, \"text\"]"
   ]
  },
  {
   "cell_type": "code",
   "execution_count": 159,
   "metadata": {},
   "outputs": [
    {
     "data": {
      "text/plain": [
       "'Great all you can eat Korean BBQ. Very clean, good food, our server Jay-Ar was great and very attentive to his customers. I would highly recommend this place.'"
      ]
     },
     "execution_count": 159,
     "metadata": {},
     "output_type": "execute_result"
    }
   ],
   "source": [
    "sample_reviews[0]"
   ]
  },
  {
   "cell_type": "code",
   "execution_count": 162,
   "metadata": {},
   "outputs": [
    {
     "name": "stdout",
     "output_type": "stream",
     "text": [
      "==========================Tags=============================\n",
      "[('Great', u'NNP'), ('all', u'DT'), ('you', u'PRP'), ('can', u'MD'), ('eat', u'VB'), ('Korean', u'JJ'), ('BBQ', u'NNP'), ('Very', u'RB'), ('clean', u'JJ'), ('good', u'JJ'), ('food', u'NN'), ('our', u'PRP$'), ('server', u'JJ'), ('Jay-Ar', u'NNP'), ('was', u'VBD'), ('great', u'JJ'), ('and', u'CC'), ('very', u'RB'), ('attentive', u'JJ'), ('to', u'TO'), ('his', u'PRP$'), ('customers', u'NNS'), ('I', u'PRP'), ('would', u'MD'), ('highly', u'RB'), ('recommend', u'VB'), ('this', u'DT'), ('place', u'NN')]\n",
      "==========================Nouns=============================\n",
      "[u'korean bbq', u'good food', 'jay-ar']\n",
      "==========================Sentiment :) / :( =============================\n",
      "Happy\n",
      "0.576111111111\n",
      "==========================Tags=============================\n",
      "[('This', u'DT'), ('place', u'NN'), ('is', u'VBZ'), ('sort', u'NN'), ('of', u'IN'), ('hidden', u'NN'), ('It', u'PRP'), (\"'s\", u'VBZ'), ('behind', u'IN'), ('the', u'DT'), ('tower', u'NN'), ('suites', u'VBZ'), ('so', u'RB'), ('you', u'PRP'), ('kind', u'NN'), ('of', u'IN'), ('have', u'NN'), ('to', u'TO'), ('look', u'VB'), ('for', u'IN'), ('it', u'PRP'), ('on', u'IN'), ('the', u'DT'), ('map', u'NN'), ('or', u'CC'), ('ask', u'VB'), ('the', u'DT'), ('workers', u'NNS'), ('to', u'TO'), ('lead', u'VB'), ('you', u'PRP'), ('there', u'RB'), ('It', u'PRP'), ('was', u'VBD'), ('our', u'PRP$'), ('last', u'JJ'), ('day', u'NN'), ('in', u'IN'), ('vegas', u'NN'), ('and', u'CC'), ('we', u'PRP'), ('had', u'VBD'), ('resort', u'VBN'), ('credit', u'NN'), ('to', u'TO'), ('spend', u'VB'), ('still', u'RB'), ('We', u'PRP'), ('ordered', u'VBD'), ('the', u'DT'), ('seafood', u'NN'), ('platter', u'RB'), ('72', u'CD'), ('which', u'WDT'), ('was', u'VBD'), ('AMAZINGGGGG', u'NNP'), ('We', u'PRP'), ('also', u'RB'), ('got', u'VBD'), ('the', u'DT'), ('duck', u'NN'), ('ravioli', u'NN'), ('Prawns', u'NNP'), ('plate', u'NN'), ('Salmon', u'NNP'), ('salad', u'NN'), ('and', u'CC'), ('a', u'DT'), ('few', u'JJ'), ('other', u'JJ'), ('plates', u'NNS'), ('The', u'DT'), ('service', u'NN'), ('here', u'RB'), ('was', u'VBD'), ('perfect', u'JJ'), ('and', u'CC'), ('did', u'VBD'), (\"n't\", u'RB'), ('come', u'VB'), ('to', u'TO'), ('the', u'DT'), ('table', u'NN'), ('too', u'RB'), ('many', u'JJ'), ('times', u'NNS'), ('to', u'TO'), ('disturb', u'VB'), ('us', u'PRP'), ('YOU', u'NNS'), ('HAVE', u'VBP'), ('TO', u'NNP'), ('GET', u'NNP'), ('THE', u'NNP'), ('DUCK', u'NNP'), ('RAVIOLI', u'NNP'), ('So', u'RB'), ('delicious', u'JJ'), ('I', u'PRP'), ('will', u'MD'), ('have', u'VB'), ('to', u'TO'), ('come', u'VB'), ('back', u'RB'), ('here', u'RB'), ('to', u'TO'), ('eat', u'VB'), ('all', u'PDT'), ('the', u'DT'), ('other', u'JJ'), ('good', u'JJ'), ('stuff', u'NN'), ('on', u'IN'), ('the', u'DT'), ('menu', u'NN'), ('but', u'CC'), ('there', u'EX'), ('was', u'VBD'), (\"n't\", u'RB'), ('one', u'CD'), ('thing', u'NN'), ('that', u'IN'), ('we', u'PRP'), ('were', u'VBD'), (\"n't\", u'RB'), ('disappointed', u'VBN'), ('about', u'RB')]\n",
      "==========================Nouns=============================\n",
      "[u'tower suites', u'resort credit', u'seafood platter $', 'amazinggggg', u'duck ravioli', 'prawns', 'salmon', u'you have to get the duck ravioli', u'good stuff']\n",
      "==========================Sentiment :) / :( =============================\n",
      "Sad\n",
      "0.166025641026\n",
      "==========================Tags=============================\n",
      "[('The', u'DT'), ('hoover', u'NN'), ('dam', u'NN'), ('kayaking', u'VBG'), ('tour', u'NN'), ('was', u'VBD'), ('great', u'JJ'), ('No', u'DT'), ('problems', u'NNS'), ('at', u'IN'), ('all-', u'JJ'), ('the', u'DT'), ('entire', u'JJ'), ('trip', u'NN'), ('was', u'VBD'), ('smooth', u'JJ'), ('and', u'CC'), ('efficient', u'JJ'), ('We', u'PRP'), ('paddled', u'VBD'), ('the', u'DT'), ('entire', u'JJ'), ('day', u'NN'), ('hiked', u'VBD'), ('to', u'TO'), ('the', u'DT'), ('hot', u'JJ'), ('spring', u'NN'), ('and', u'CC'), ('more', u'JJR'), ('paddling', u'NN'), ('and', u'CC'), ('hiking', u'NN'), ('Our', u'PRP$'), ('tour', u'NN'), ('guy', u'NN'), ('Alex', u'NNP'), ('was', u'VBD'), ('excellent', u'JJ'), ('He', u'PRP'), ('is', u'VBZ'), ('very', u'RB'), ('knowledgeable', u'JJ'), ('friendly', u'JJ'), ('and', u'CC'), ('helped', u'VBD'), ('us', u'PRP'), ('take', u'VB'), ('pictures', u'NNS'), ('along', u'IN'), ('the', u'DT'), ('way', u'NN'), ('We', u'PRP'), ('had', u'VBD'), ('Mcdonalds', u'NNP'), ('breakfast', u'NN'), ('and', u'CC'), ('some', u'DT'), ('Arby', u'NNP'), (\"'s\", u'POS'), ('sandwiches', u'NNS'), ('grapes', u'NNS'), ('crackers', u'NNS'), ('for', u'IN'), ('lunch', u'NN'), ('and', u'CC'), ('an', u'DT'), ('abundant', u'JJ'), ('supply', u'NN'), ('of', u'IN'), ('water', u'NN'), ('during', u'IN'), ('the', u'DT'), ('entire', u'JJ'), ('trip', u'NN'), ('Very', u'RB'), ('enjoyable', u'JJ')]\n",
      "==========================Nouns=============================\n",
      "[u'hoover dam', u'entire trip', u'entire day', u'hot spring', u'tour guy', 'alex', 'mcdonalds', 'arby', u\"'s sandwiches\", u'entire trip']\n",
      "==========================Sentiment :) / :( =============================\n",
      "Sad\n",
      "0.421875\n",
      "==========================Tags=============================\n",
      "[('Awesome', u'NNP'), ('acai', u'NN'), ('bowls', u'NN'), ('As', u'IN'), ('a', u'DT'), ('cheesecake', u'NN'), ('lover', u'NN'), ('I', u'PRP'), ('was', u'VBD'), ('pleasantly', u'RB'), ('surprised', u'VBN'), ('to', u'TO'), ('try', u'VB'), ('their', u'PRP$'), ('cheesecake', u'NN'), ('flavored', u'VBN'), ('Acai', u'NNP'), ('bowl', u'NN'), ('Would', u'MD'), ('definitely', u'RB'), ('return', u'VB')]\n",
      "==========================Nouns=============================\n",
      "['awesome', u'acai bowls', u'cheesecake lover', 'acai']\n",
      "==========================Sentiment :) / :( =============================\n",
      "Sad\n",
      "0.366666666667\n",
      "==========================Tags=============================\n",
      "[('I', u'PRP'), ('love', u'VBP'), ('this', u'DT'), ('place', u'NN'), ('i', u'NN'), ('really', u'RB'), ('do', u'VBP'), ('the', u'DT'), ('food', u'NN'), ('is', u'VBZ'), ('pretty', u'RB'), ('good', u'JJ'), ('but', u'CC'), ('this', u'DT'), ('time', u'NN'), ('just', u'RB'), ('sucked', u'VBD'), ('Checked', u'VBN'), ('in', u'IN'), ('was', u'VBD'), ('told', u'VBN'), ('it', u'PRP'), ('was', u'VBD'), ('15-30', u'JJ'), ('minutes', u'NNS'), ('for', u'IN'), ('an', u'DT'), ('outside', u'JJ'), ('patio', u'NN'), ('table', u'NN'), ('Weather', u'NNP'), ('was', u'VBD'), ('perfect', u'JJ'), ('so', u'IN'), ('we', u'PRP'), ('decided', u'VBD'), ('to', u'TO'), ('wait', u'VB'), ('45', u'CD'), ('minutes', u'NNS'), ('later', u'RB'), ('with', u'IN'), ('my', u'PRP$'), ('buzzer', u'NN'), ('in', u'IN'), ('hand', u'NN'), ('i', u'NN'), ('was', u'VBD'), ('told', u'VBN'), ('my', u'PRP$'), ('reservation', u'NN'), ('was', u'VBD'), ('lost', u'VBN'), ('and', u'CC'), ('i', u'JJ'), (\"'d\", u'MD'), ('have', u'VB'), ('the', u'DT'), ('next', u'JJ'), ('available', u'JJ'), ('table.\\\\nStrolling', u'VBG'), ('through', u'IN'), ('the', u'DT'), ('restaurant', u'NN'), ('passing', u'VBG'), ('a', u'DT'), ('table', u'NN'), ('for', u'IN'), ('2', u'CD'), ('at', u'IN'), ('the', u'DT'), ('outside', u'JJ'), ('rail', u'NN'), ('we', u'PRP'), ('were', u'VBD'), ('seated', u'VBN'), ('at', u'IN'), ('a', u'DT'), ('table', u'NN'), ('for', u'IN'), ('4', u'CD'), ('right', u'JJ'), ('next', u'JJ'), ('to', u'TO'), ('the', u'DT'), ('goddamn', u'NN'), ('server', u'NN'), ('station', u'NN'), ('\\\\nFor', u'SYM'), ('an', u'DT'), ('hour', u'NN'), ('i', u'NN'), ('was', u'VBD'), ('continuously', u'RB'), ('bumped', u'VBN'), ('and', u'CC'), ('kicked', u'VBN'), ('by', u'IN'), ('servers', u'NNS'), ('sitting', u'VBG'), ('here', u'RB'), ('and', u'CC'), ('the', u'DT'), ('ONLY', u'NNP'), ('reason', u'NN'), ('i', u'NN'), ('did', u'VBD'), (\"n't\", u'RB'), ('blow', u'VB'), ('up', u'RP'), ('is', u'VBZ'), ('because', u'IN'), ('this', u'DT'), ('was', u'VBD'), ('my', u'PRP$'), ('wifes', u'JJ'), ('birthday', u'JJ'), ('weekend', u'NN'), ('and', u'CC'), ('she', u'PRP'), ('specifically', u'RB'), ('wanted', u'VBD'), ('to', u'TO'), ('go', u'VB'), ('here', u'RB'), ('\\\\n', u'RB'), ('150', u'CD'), ('for', u'IN'), ('lunch', u'NN'), ('including', u'VBG'), ('cocktails', u'NNS')]\n",
      "==========================Nouns=============================\n",
      "[u'... ...', 'checked', u'outside patio table', 'weather', u\"i 'd\", u'outside rail', u'goddamn server station', u'hour i', 'only', u'reason i', u\"n't blow\", u'wifes birthday weekend', u'\\\\n $', u'cocktails ... ...']\n",
      "==========================Sentiment :) / :( =============================\n",
      "Sad\n",
      "0.256593406593\n",
      "==========================Tags=============================\n",
      "[('The', u'DT'), ('Meatball', u'NNP'), ('Spot', u'NNP'), ('was', u'VBD'), ('okay', u'RB'), ('not', u'RB'), ('great', u'JJ'), ('not', u'RB'), ('terrible', u'JJ'), ('just', u'RB'), ('okay', u'NN'), ('I', u'PRP'), ('think', u'VBP'), ('it', u'PRP'), ('has', u'VBZ'), ('a', u'DT'), ('good', u'JJ'), ('vibe', u'NN'), ('and', u'CC'), ('good', u'JJ'), ('concept', u'NN'), ('but', u'CC'), ('based', u'VBN'), ('on', u'IN'), ('what', u'WP'), ('I', u'PRP'), ('ordered', u'VBD'), ('I', u'PRP'), ('think', u'VBP'), ('their', u'PRP$'), ('food', u'NN'), ('is', u'VBZ'), ('just', u'RB'), ('so-so', u'JJ'), ('I', u'PRP'), ('ordered', u'VBD'), ('the', u'DT'), ('turkey', u'NN'), ('meatballs', u'VBZ'), ('with', u'IN'), ('the', u'DT'), ('classic', u'JJ'), ('tomato', u'NN'), ('sauce', u'NN'), ('I', u'PRP'), ('also', u'RB'), ('ordered', u'VBD'), ('a', u'DT'), ('side', u'NN'), ('of', u'IN'), ('Parmesan', u'NNP'), ('fries', u'NNS'), ('The', u'DT'), ('meatballs', u'NNS'), ('did', u'VBD'), (\"n't\", u'RB'), ('wow', u'VB'), ('me', u'PRP'), ('They', u'PRP'), ('were', u'VBD'), ('very', u'RB'), ('very', u'RB'), ('dry', u'JJ'), ('and', u'CC'), ('did', u'VBD'), (\"n't\", u'RB'), ('have', u'VB'), ('enough', u'JJ'), ('flavor', u'NN'), ('There', u'EX'), ('was', u'VBD'), ('nothing', u'NN'), ('to', u'TO'), ('make', u'VB'), ('me', u'PRP'), ('want', u'VB'), ('more', u'RBR'), ('The', u'DT'), ('classic', u'JJ'), ('tomato', u'NN'), ('sauce', u'NN'), ('was', u'VBD'), ('okay', u'RB'), ('I', u'PRP'), ('liked', u'VBD'), ('the', u'DT'), ('texture', u'NN'), ('of', u'IN'), ('the', u'DT'), ('crispy', u'NN'), ('fries', u'NNS'), ('but', u'CC'), ('they', u'PRP'), ('did', u'VBD'), (\"n't\", u'RB'), ('have', u'VB'), ('much', u'JJ'), ('flavor', u'NN'), ('either', u'RB'), ('They', u'PRP'), ('had', u'VBD'), ('parmesan', u'VBN'), ('sprinkled', u'VBN'), ('on', u'IN'), ('top', u'NN'), ('but', u'CC'), ('nothing', u'NN'), ('stuck', u'NN'), ('to', u'TO'), ('the', u'DT'), ('fries', u'NNS'), ('There', u'EX'), ('was', u'VBD'), ('also', u'RB'), ('only', u'RB'), ('a', u'DT'), ('hint', u'NN'), ('of', u'IN'), ('garlic', u'NN'), ('Just', u'RB'), ('not', u'RB'), ('enough', u'JJ'), ('flavor', u'NN'), ('\\\\n\\\\nIt', u'RB'), ('seems', u'VBZ'), ('like', u'IN'), ('it', u'PRP'), ('would', u'MD'), ('be', u'VB'), ('fun', u'VBN'), ('during', u'IN'), ('happy', u'JJ'), ('hour', u'NN'), ('but', u'CC'), ('until', u'IN'), ('their', u'PRP$'), ('signature', u'NN'), ('meatballs', u'NNS'), ('improve', u'VBP'), ('I', u'PRP'), ('wo', u'MD'), (\"n't\", u'RB'), ('be', u'VB'), ('back', u'RB')]\n",
      "==========================Nouns=============================\n",
      "['meatball', u'good vibe', u'good concept', u'turkey meatballs', u'classic tomato sauce', 'parmesan', u\"n't wow\", u'classic tomato sauce', u'crispy fries', u'happy hour', u'signature meatballs', u\"wo n't\"]\n",
      "==========================Sentiment :) / :( =============================\n",
      "Sad\n",
      "0.29746031746\n"
     ]
    }
   ],
   "source": [
    "for review in sample_reviews:\n",
    "    r_meta = TextBlob(review)\n",
    "    print(\"==========================Tags=============================\")\n",
    "    print(r_meta.tags)\n",
    "    print(\"==========================Nouns=============================\")\n",
    "    print(r_meta.noun_phrases)\n",
    "    print(\"==========================Sentiment :) / :( =============================\")\n",
    "    \n",
    "    "
   ]
  },
  {
   "cell_type": "markdown",
   "metadata": {},
   "source": [
    "#### Sentimental Analysis on some sample review"
   ]
  },
  {
   "cell_type": "code",
   "execution_count": 166,
   "metadata": {},
   "outputs": [
    {
     "name": "stdout",
     "output_type": "stream",
     "text": [
      "('Happy ', 57.611111111111114)\n",
      "('Sad', 16.602564102564102)\n",
      "('Sad', 42.1875)\n",
      "('Sad', 36.66666666666667)\n",
      "('Sad', 25.659340659340657)\n",
      "('Sad', 29.746031746031743)\n"
     ]
    }
   ],
   "source": [
    "for review in sample_reviews:\n",
    "    if TextBlob(review).sentiment.polarity > 0.5:\n",
    "        print(\"Happy \",TextBlob(review).sentiment.polarity*100)\n",
    "    else:\n",
    "        print(\"Sad\",TextBlob(review).sentiment.polarity*100)"
   ]
  },
  {
   "cell_type": "markdown",
   "metadata": {},
   "source": [
    "list of todos\n",
    "- correct the spelling on all reviews as much as possible\n",
    "- Apply Naive bayes\n",
    "\n",
    "<p style=\"color:red\"> learn the below topics from http://textblob.readthedocs.io/en/dev/quickstart.html </p>\n",
    "Tutorial: Quickstart\n",
    "\n",
    "    Create a TextBlob\n",
    "    Part-of-speech Tagging\n",
    "    Noun Phrase Extraction\n",
    "    Sentiment Analysis\n",
    "    Tokenization\n",
    "    Words Inflection and Lemmatization\n",
    "    WordNet Integration\n",
    "    WordLists\n",
    "    Spelling Correction\n",
    "    Get Word and Noun Phrase Frequencies\n",
    "    Translation and Language Detection\n",
    "    Parsing\n",
    "    TextBlobs Are Like Python Strings!\n",
    "    n-grams\n",
    "    Get Start and End Indices of Sentences\n",
    "\n",
    "\n"
   ]
  },
  {
   "cell_type": "code",
   "execution_count": 170,
   "metadata": {},
   "outputs": [
    {
     "data": {
      "text/plain": [
       "TextBlob(\"I have good spelling!\")"
      ]
     },
     "execution_count": 170,
     "metadata": {},
     "output_type": "execute_result"
    }
   ],
   "source": [
    "# example for spelling correction\n",
    "b = TextBlob(\"I havv goood speling!\")\n",
    "b.correct()"
   ]
  },
  {
   "cell_type": "markdown",
   "metadata": {},
   "source": [
    "### Section 3: Classification of Model"
   ]
  },
  {
   "cell_type": "markdown",
   "metadata": {},
   "source": [
    "example http://textblob.readthedocs.io/en/dev/classifiers.html#classifiers"
   ]
  },
  {
   "cell_type": "code",
   "execution_count": 183,
   "metadata": {},
   "outputs": [],
   "source": [
    ">>> train = [\n",
    "...     ('I love this sandwich.', 'pos'),\n",
    "...     ('this is an amazing place!', 'pos'),\n",
    "...     ('I feel very good about these beers.', 'pos'),\n",
    "...     ('this is my best work.', 'pos'),\n",
    "...     (\"what an awesome view\", 'pos'),\n",
    "...     ('I do not like this restaurant', 'neg'),\n",
    "...     ('I am tired of this stuff.', 'neg'),\n",
    "...     (\"I can't deal with this\", 'neg'),\n",
    "...     ('he is my sworn enemy!', 'neg'),\n",
    "...     ('my boss is horrible.', 'neg')\n",
    "... ]\n",
    ">>> test = [\n",
    "...     ('the beer was good.', 'pos'),\n",
    "...     ('I do not enjoy my job', 'neg'),\n",
    "...     (\"I ain't feeling dandy today.\", 'neg'),\n",
    "...     (\"I feel amazing!\", 'pos'),\n",
    "...     ('Gary is a friend of mine.', 'pos'),\n",
    "...     (\"I can't believe I'm doing this.\", 'neg')\n",
    "... ]"
   ]
  },
  {
   "cell_type": "code",
   "execution_count": 184,
   "metadata": {},
   "outputs": [],
   "source": [
    ">>> from textblob.classifiers import NaiveBayesClassifier\n",
    ">>> cl = NaiveBayesClassifier(train)"
   ]
  },
  {
   "cell_type": "code",
   "execution_count": 185,
   "metadata": {},
   "outputs": [
    {
     "data": {
      "text/plain": [
       "'pos'"
      ]
     },
     "execution_count": 185,
     "metadata": {},
     "output_type": "execute_result"
    }
   ],
   "source": [
    "cl.classify(\"This is an amazing library!\")"
   ]
  },
  {
   "cell_type": "code",
   "execution_count": 187,
   "metadata": {},
   "outputs": [
    {
     "data": {
      "text/plain": [
       "'neg'"
      ]
     },
     "execution_count": 187,
     "metadata": {},
     "output_type": "execute_result"
    }
   ],
   "source": [
    "cl.classify(\"my day was horrible\")"
   ]
  },
  {
   "cell_type": "code",
   "execution_count": 188,
   "metadata": {},
   "outputs": [
    {
     "name": "stdout",
     "output_type": "stream",
     "text": [
      "Most Informative Features\n",
      "            contains(my) = True              neg : pos    =      1.7 : 1.0\n",
      "            contains(an) = False             neg : pos    =      1.6 : 1.0\n",
      "             contains(I) = False             pos : neg    =      1.4 : 1.0\n",
      "             contains(I) = True              neg : pos    =      1.4 : 1.0\n",
      "            contains(my) = False             pos : neg    =      1.3 : 1.0\n"
     ]
    }
   ],
   "source": [
    "cl.show_informative_features(5)  "
   ]
  }
 ],
 "metadata": {
  "kernelspec": {
   "display_name": "Python 2",
   "language": "python",
   "name": "python2"
  },
  "language_info": {
   "codemirror_mode": {
    "name": "ipython",
    "version": 2
   },
   "file_extension": ".py",
   "mimetype": "text/x-python",
   "name": "python",
   "nbconvert_exporter": "python",
   "pygments_lexer": "ipython2",
   "version": "2.7.14"
  }
 },
 "nbformat": 4,
 "nbformat_minor": 2
}
