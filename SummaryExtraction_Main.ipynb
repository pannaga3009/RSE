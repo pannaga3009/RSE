{
 "cells": [
  {
   "cell_type": "code",
   "execution_count": 45,
   "metadata": {},
   "outputs": [],
   "source": [
    "import pickle\n",
    "import numpy as np\n",
    "import pandas as pd\n",
    "from sklearn.feature_extraction.text import CountVectorizer\n",
    "from sklearn.naive_bayes import BernoulliNB\n",
    "from sklearn.linear_model import LogisticRegression\n",
    "from sklearn.neural_network import MLPClassifier\n",
    "from sklearn.metrics import accuracy_score"
   ]
  },
  {
   "cell_type": "code",
   "execution_count": 2,
   "metadata": {},
   "outputs": [],
   "source": [
    "from sklearn.externals import joblib"
   ]
  },
  {
   "cell_type": "code",
   "execution_count": 3,
   "metadata": {},
   "outputs": [
    {
     "name": "stdout",
     "output_type": "stream",
     "text": [
      "total 131M\r\n",
      "-rw-rw-r-- 1 ubuntu ubuntu  19M May  7 01:05 Vectorizer.sav\r\n",
      "-rw-rw-r-- 1 ubuntu ubuntu 2.6M May  7 01:41 Logistic-Regression.model\r\n",
      "-rw-rw-r-- 1 ubuntu ubuntu  13M May  7 02:06 Neural_network.model\r\n",
      "-rw-rw-r-- 1 ubuntu ubuntu  12M May  7 02:08 BernoulliNB.model\r\n",
      "-rw-rw-r-- 1 ubuntu ubuntu  19M May  7 02:51 61vectorizer-2GB-RSE.sav\r\n",
      "-rw-rw-r-- 1 ubuntu ubuntu  19M May  7 02:57 79vectorizer-2GB-RSE.sav\r\n",
      "-rw-rw-r-- 1 ubuntu ubuntu  19M May  7 02:57 15vectorizer-2GB-RSE.sav\r\n",
      "-rw-rw-r-- 1 ubuntu ubuntu  19M May  7 03:07 58vectorizer-2GB-RSE.sav\r\n",
      "-rw-rw-r-- 1 ubuntu ubuntu  13M May  7 03:24 v.dat\r\n"
     ]
    }
   ],
   "source": [
    "!ls -lrth models/"
   ]
  },
  {
   "cell_type": "code",
   "execution_count": 104,
   "metadata": {},
   "outputs": [],
   "source": [
    "test_file = 'data/test/10.json'\n",
    "summaries_file = 'data/test/summaries.json'\n",
    "model_lr = 'models/Logistic-Regression.model'\n",
    "model_nn = 'models/Neural_network.model'\n",
    "model_BNB = 'models/BernoulliNB.model'\n",
    "vectorizer_file = 'models/Vectorizer.sav'"
   ]
  },
  {
   "cell_type": "code",
   "execution_count": 39,
   "metadata": {},
   "outputs": [],
   "source": [
    "vectorizer =  pickle.load(open(vectorizer_file, 'rb'))"
   ]
  },
  {
   "cell_type": "code",
   "execution_count": 40,
   "metadata": {},
   "outputs": [],
   "source": [
    "ds_test = pd.read_csv(\"/home/ubuntu/temp/ds_rse_test.csv\", sep=\"\\t\")"
   ]
  },
  {
   "cell_type": "code",
   "execution_count": 41,
   "metadata": {},
   "outputs": [],
   "source": [
    "ds_test['Y'] = ds_test['stars'] > 3 \n",
    "X_test = ds_test['text']\n",
    "y_test = ds_test['Y'].astype(int)"
   ]
  },
  {
   "cell_type": "code",
   "execution_count": 42,
   "metadata": {},
   "outputs": [],
   "source": [
    "X_test_vec = vectorizer.transform(X_test)"
   ]
  },
  {
   "cell_type": "code",
   "execution_count": 81,
   "metadata": {},
   "outputs": [],
   "source": [
    "clf = pickle.load(open(model_lr, 'rb'))"
   ]
  },
  {
   "cell_type": "code",
   "execution_count": 218,
   "metadata": {},
   "outputs": [
    {
     "data": {
      "text/plain": [
       "0.8907642456436801"
      ]
     },
     "execution_count": 218,
     "metadata": {},
     "output_type": "execute_result"
    }
   ],
   "source": [
    "y_predict = clf.predict(X_test_vec)\n",
    "accuracy_score(y_test[:], y_predict)"
   ]
  },
  {
   "cell_type": "code",
   "execution_count": 219,
   "metadata": {},
   "outputs": [],
   "source": [
    "def summary_lookup(for_rating):\n",
    "    with open(summaries_file,'r') as json_file:    \n",
    "        d = json.load(json_file)\n",
    "    if for_rating > 0.7:\n",
    "        return d['summaries'][0]['Rank_1']\n",
    "    elif for_rating > 0.5:\n",
    "        return d['summaries'][1]['Rank_2']\n",
    "    elif for_rating > 0.3:\n",
    "        return d['summaries'][2]['Rank_3']\n",
    "    else:\n",
    "        return d['summaries'][3]['Rank_4']\n",
    "    "
   ]
  },
  {
   "cell_type": "code",
   "execution_count": 220,
   "metadata": {},
   "outputs": [
    {
     "data": {
      "text/plain": [
       "u'The food is pretty good. Few people have enjoyed it while some have not. The taste and presentation of food is good but it is a little pricey. Few times the orders brought in were wrong but it is worth trying. Some dishes were amazing and some were bland. Neat concept of food .Worth trying it for your own personal experience.'"
      ]
     },
     "execution_count": 220,
     "metadata": {},
     "output_type": "execute_result"
    }
   ],
   "source": [
    "summary_lookup(0.6)"
   ]
  },
  {
   "cell_type": "code",
   "execution_count": 225,
   "metadata": {},
   "outputs": [],
   "source": [
    "class Restaurant():\n",
    "    \n",
    "    def __init__(self, business_id=\"\", name=\"\", reviews=[]):\n",
    "        # Each rocket has an (x,y) position.\n",
    "        self.bid = business_id\n",
    "        self.name = name\n",
    "        self.reviews = reviews\n",
    "        self.pos = 0.0\n",
    "        self.neg = 0.0\n",
    "        self.predict()\n",
    "        self.get_overall_rating()\n",
    "        self.summary = summary_lookup(self.overall)\n",
    "       \n",
    "    def predict(self):\n",
    "        for r in self.reviews:\n",
    "            if clf.predict(vectorizer.transform([str(r)])):\n",
    "                self.pos += 1.0\n",
    "            else:\n",
    "                self.neg += 1.0\n",
    "        \n",
    "    def get_overall_rating(self):\n",
    "        self.overall = self.pos/(self.pos + self.neg)\n",
    "        \n",
    "    def print_summary(self):\n",
    "        print(\"-------------------------\")\n",
    "        print(\"Business ID\", self.bid)\n",
    "        print(\"Over All Rating %f\", self.overall)\n",
    "        print(\"Summary\", self.summary)\n",
    "        print(\"-------------------------\\n\\n\")\n",
    "        "
   ]
  },
  {
   "cell_type": "markdown",
   "metadata": {},
   "source": [
    "## Summary Extraction \n",
    "\n",
    "<h5> Algorithm </h5>\n",
    "\n",
    "  \n",
    "<pre>\n",
    "class Resturant:\n",
    "  name \n",
    "  id \n",
    "  reviews = []\n",
    "  pos  = 0\n",
    "  neg  = 0\n",
    "  overall_rating = pos / (pos + neg)\n",
    "  summary = lookup(overall_rating)\n",
    "  \n",
    "1. For Each Restaurant in Test Json\n",
    "    2. For each Reviews:\n",
    "       3. v = vectorizer.transform(review[i])\n",
    "       4. if clf.predict(v): \n",
    "            pos += 1\n",
    "          else:\n",
    "            neg += 1\n",
    "    6. overall_rating = pos/(pos+neg) \n",
    "    7. res.summary = lookup(overall_rating)\n",
    "</pre>"
   ]
  },
  {
   "cell_type": "code",
   "execution_count": 226,
   "metadata": {},
   "outputs": [],
   "source": [
    "res = []\n",
    "for restaurant in data[\"yelp\"]:\n",
    "    res.append(Restaurant(business_id=restaurant[\"_id\"], reviews=restaurant[\"reviews\"]))\n"
   ]
  },
  {
   "cell_type": "code",
   "execution_count": 227,
   "metadata": {},
   "outputs": [
    {
     "name": "stdout",
     "output_type": "stream",
     "text": [
      "-------------------------\n",
      "('Business ID', u'--6MefnULPED_I942VcFNA')\n",
      "('Over All Rating %f', 0.5945945945945946)\n",
      "('Summary', u'The food is pretty good. Few people have enjoyed it while some have not. The taste and presentation of food is good but it is a little pricey. Few times the orders brought in were wrong but it is worth trying. Some dishes were amazing and some were bland. Neat concept of food .Worth trying it for your own personal experience.')\n",
      "-------------------------\n",
      "\n",
      "\n",
      "-------------------------\n",
      "('Business ID', u'--7zmmkVg-IMGaXbuVd0SQ')\n",
      "('Over All Rating %f', 0.8297872340425532)\n",
      "('Summary', u'The food is amazing and the taste lives up to the price. Definitely recommended coming here for any day of the week. Great place to go for breakfast, lunch or dinner. Even the simplest looking dishes tastes very delicious. The food portion is perfect and scrumptious. Overall very delightful and highly recommended.')\n",
      "-------------------------\n",
      "\n",
      "\n",
      "-------------------------\n",
      "('Business ID', u'--8LPVSo5i0Oo61X01sV9A')\n",
      "('Over All Rating %f', 0.6666666666666666)\n",
      "('Summary', u'The food is pretty good. Few people have enjoyed it while some have not. The taste and presentation of food is good but it is a little pricey. Few times the orders brought in were wrong but it is worth trying. Some dishes were amazing and some were bland. Neat concept of food .Worth trying it for your own personal experience.')\n",
      "-------------------------\n",
      "\n",
      "\n",
      "-------------------------\n",
      "('Business ID', u'--9QQLMTbFzLJ_oT-ON3Xw')\n",
      "('Over All Rating %f', 0.6363636363636364)\n",
      "('Summary', u'The food is pretty good. Few people have enjoyed it while some have not. The taste and presentation of food is good but it is a little pricey. Few times the orders brought in were wrong but it is worth trying. Some dishes were amazing and some were bland. Neat concept of food .Worth trying it for your own personal experience.')\n",
      "-------------------------\n",
      "\n",
      "\n",
      "-------------------------\n",
      "('Business ID', u'--9e1ONYQuAa-CB_Rrw7Tw')\n",
      "('Over All Rating %f', 0.7808407994486561)\n",
      "('Summary', u'The food is amazing and the taste lives up to the price. Definitely recommended coming here for any day of the week. Great place to go for breakfast, lunch or dinner. Even the simplest looking dishes tastes very delicious. The food portion is perfect and scrumptious. Overall very delightful and highly recommended.')\n",
      "-------------------------\n",
      "\n",
      "\n",
      "-------------------------\n",
      "('Business ID', u'--DaPTJW3-tB1vP-PfdTEg')\n",
      "('Over All Rating %f', 0.717948717948718)\n",
      "('Summary', u'The food is amazing and the taste lives up to the price. Definitely recommended coming here for any day of the week. Great place to go for breakfast, lunch or dinner. Even the simplest looking dishes tastes very delicious. The food portion is perfect and scrumptious. Overall very delightful and highly recommended.')\n",
      "-------------------------\n",
      "\n",
      "\n",
      "-------------------------\n",
      "('Business ID', u'--DdmeR16TRb3LsjG0ejrQ')\n",
      "('Over All Rating %f', 0.4)\n",
      "('Summary', u'The food is just average. They serve decent food .Couple of dishes were good and few were not up to the mark. Pretty expensive and portions were also little. Some dishes lacked the authenticity and seasoning. The food is not consistent every day, making it good on few days and bad on the others.')\n",
      "-------------------------\n",
      "\n",
      "\n",
      "-------------------------\n",
      "('Business ID', u'--EF5N7P70J_UYBTPypYlA')\n",
      "('Over All Rating %f', 0.3333333333333333)\n",
      "('Summary', u'The food is just average. They serve decent food .Couple of dishes were good and few were not up to the mark. Pretty expensive and portions were also little. Some dishes lacked the authenticity and seasoning. The food is not consistent every day, making it good on few days and bad on the others.')\n",
      "-------------------------\n",
      "\n",
      "\n",
      "-------------------------\n",
      "('Business ID', u'--EX4rRznJrltyn-34Jz1w')\n",
      "('Over All Rating %f', 1.0)\n",
      "('Summary', u'The food is amazing and the taste lives up to the price. Definitely recommended coming here for any day of the week. Great place to go for breakfast, lunch or dinner. Even the simplest looking dishes tastes very delicious. The food portion is perfect and scrumptious. Overall very delightful and highly recommended.')\n",
      "-------------------------\n",
      "\n",
      "\n",
      "-------------------------\n",
      "('Business ID', u'--FBCX-N37CMYDfs790Bnw')\n",
      "('Over All Rating %f', 0.7129629629629629)\n",
      "('Summary', u'The food is amazing and the taste lives up to the price. Definitely recommended coming here for any day of the week. Great place to go for breakfast, lunch or dinner. Even the simplest looking dishes tastes very delicious. The food portion is perfect and scrumptious. Overall very delightful and highly recommended.')\n",
      "-------------------------\n",
      "\n",
      "\n"
     ]
    }
   ],
   "source": [
    "for r in res:\n",
    "    r.print_summary()"
   ]
  },
  {
   "cell_type": "code",
   "execution_count": null,
   "metadata": {},
   "outputs": [],
   "source": []
  },
  {
   "cell_type": "code",
   "execution_count": null,
   "metadata": {},
   "outputs": [],
   "source": []
  }
 ],
 "metadata": {
  "kernelspec": {
   "display_name": "Python 2",
   "language": "python",
   "name": "python2"
  },
  "language_info": {
   "codemirror_mode": {
    "name": "ipython",
    "version": 2
   },
   "file_extension": ".py",
   "mimetype": "text/x-python",
   "name": "python",
   "nbconvert_exporter": "python",
   "pygments_lexer": "ipython2",
   "version": "2.7.12"
  }
 },
 "nbformat": 4,
 "nbformat_minor": 2
}
